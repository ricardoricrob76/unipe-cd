{
  "nbformat": 4,
  "nbformat_minor": 0,
  "metadata": {
    "colab": {
      "name": "Aula02-Algoritmos-Python.ipynb",
      "provenance": [],
      "collapsed_sections": [],
      "authorship_tag": "ABX9TyO/eJLmthg9NaAN4tTuaLm7",
      "include_colab_link": true
    },
    "kernelspec": {
      "name": "python3",
      "display_name": "Python 3"
    },
    "language_info": {
      "name": "python"
    }
  },
  "cells": [
    {
      "cell_type": "markdown",
      "metadata": {
        "id": "view-in-github",
        "colab_type": "text"
      },
      "source": [
        "<a href=\"https://colab.research.google.com/github/ricardoricrob76/unipe-cd/blob/main/Aula02_Algoritmos_Python.ipynb\" target=\"_parent\"><img src=\"https://colab.research.google.com/assets/colab-badge.svg\" alt=\"Open In Colab\"/></a>"
      ]
    },
    {
      "cell_type": "markdown",
      "source": [
        "\"\"\"\n",
        "Faça um programa para o cálculo de uma folha de pagamento, sabendo que os\n",
        "descontos são do Imposto de Renda, que depende do salário bruto\n",
        "(conforme tabela abaixo) e 10% para o INSS e que o FGTS corresponde a 11% do\n",
        "Salário Bruto, mas não é descontado (é a empresa que deposita).\n",
        "\n",
        "O Salário Líquido corresponde ao Salário Bruto menos os descontos.\n",
        "O programa deverá pedir ao usuário o valor da sua hora e a quantidade de horas\n",
        "trabalhadas no mês.\n",
        "\n",
        "Desconto do IR:\n",
        "    Salário Bruto até 900 (inclusive) - isento\n",
        "    Salário Bruto até 1500 (inclusive) - desconto de 5%\n",
        "    Salário Bruto até 2500 (inclusive) - desconto de 10%\n",
        "    Salário Bruto acima de 2500 - desconto de 20%\n",
        "\n",
        "Imprima na tela as informações, dispostas conforme o exemplo abaixo.\n",
        "No exemplo o valor da hora é 5 e a quantidade de hora é 220.\n",
        "\n",
        "        Salário Bruto: (5 * 220)        : R$ 1100,00\n",
        "        (-) IR (5%)                     : R$   55,00\n",
        "        (-) INSS ( 10%)                 : R$  110,00\n",
        "        FGTS (11%)                      : R$  121,00\n",
        "        Total de descontos              : R$  165,00\n",
        "        Salário Liquido                 : R$  935,00\n",
        "\"\"\"\n"
      ],
      "metadata": {
        "id": "_2fpHR_zcXhe"
      }
    },
    {
      "cell_type": "code",
      "execution_count": 4,
      "metadata": {
        "colab": {
          "base_uri": "https://localhost:8080/"
        },
        "id": "Fau8_pY5cONG",
        "outputId": "007c5e0b-4752-4849-89ae-d659d499bd4e"
      },
      "outputs": [
        {
          "name": "stdout",
          "output_type": "stream",
          "text": [
            "Digite quanto você recebe por hora: 45.89\n",
            "Digite quantas horas você trabalhou esse mês: 220\n"
          ]
        }
      ],
      "source": [
        "# Coletando os Dados de Entrada da folha de pagamento\n",
        "valor_da_hora = float(input(\"Digite quanto você recebe por hora: \"))\n",
        "horas_trabalhadas = float(input(\"Digite quantas horas você trabalhou esse mês: \"))\n"
      ]
    },
    {
      "cell_type": "code",
      "source": [
        "# Calculando os valores de descontos.\n",
        "\n",
        "# Calculando o valor do salario bruto\n",
        "salario_bruto = valor_da_hora * horas_trabalhadas\n",
        "\n",
        "# Calculando o valor do desconto do Imposto de Renda PF.\n",
        "if (salario_bruto <= 900):\n",
        "  desconto_ir = 0.0\n",
        "elif (salario_bruto <= 1500):\n",
        "  desconto_ir = 5\n",
        "elif (salario_bruto <= 2500):\n",
        "  desconto_ir = 10\n",
        "else:\n",
        "  desconto_ir = 20\n",
        "\n",
        "# Calculando os outros descontos de IR, INSS, FGTS, Salario Líquido..\n",
        "\n",
        "IR = salario_bruto * (desconto_ir / 100)\n",
        "INSS = salario_bruto * (10 / 100)\n",
        "FGTS = salario_bruto * (11 / 100)\n",
        "total_de_descontos = IR + INSS\n",
        "salario_liquido = salario_bruto - total_de_descontos\n"
      ],
      "metadata": {
        "id": "5fRR4MEUcZYz"
      },
      "execution_count": 5,
      "outputs": []
    },
    {
      "cell_type": "code",
      "source": [
        "# Saída dos Dados - Resultado Final da Programação..\n",
        "print(\n",
        "    f\"\\nSalário Bruto                    : R$ {salario_bruto:.2f}\",\n",
        "    f\"\\n(-) Imposto de Renda (5%)        : R$ {IR:.2f}\",\n",
        "    f\"\\n(-) Desconto INSS (10%)          : R$ {INSS:.2f}\",\n",
        "    f\"\\n    Valor do FGTS (11%)          : R$ {FGTS:.2f}\",\n",
        "    f\"\\nTotal de Descontos Aplicados:    : R$ {total_de_descontos:.2f}\",\n",
        "    f\"\\n Valor do Salário Líquido:       : R$ {salario_liquido:.2f}\",\n",
        ")"
      ],
      "metadata": {
        "colab": {
          "base_uri": "https://localhost:8080/"
        },
        "id": "s58Q74LThpK7",
        "outputId": "46354186-cb08-49dd-8a0e-465a1632b1a1"
      },
      "execution_count": 6,
      "outputs": [
        {
          "output_type": "stream",
          "name": "stdout",
          "text": [
            "\n",
            "Salário Bruto                    : R$ 10095.80 \n",
            "(-) Imposto de Renda (5%)        : R$ 2019.16 \n",
            "(-) Desconto INSS (10%)          : R$ 1009.58 \n",
            "    Valor do FGTS (11%)          : R$ 1110.54 \n",
            "Total de Descontos Aplicados:    : R$ 3028.74 \n",
            " Valor do Salário Líquido:       : R$ 7067.06\n"
          ]
        }
      ]
    }
  ]
}