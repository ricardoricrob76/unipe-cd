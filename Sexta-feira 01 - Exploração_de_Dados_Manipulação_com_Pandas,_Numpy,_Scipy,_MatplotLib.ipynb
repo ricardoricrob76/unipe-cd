{
  "cells": [
    {
      "cell_type": "markdown",
      "metadata": {
        "id": "view-in-github",
        "colab_type": "text"
      },
      "source": [
        "<a href=\"https://colab.research.google.com/github/ricardoricrob76/unipe-cd/blob/main/Sexta-feira%2001%20-%20Explora%C3%A7%C3%A3o_de_Dados_Manipula%C3%A7%C3%A3o_com_Pandas%2C_Numpy%2C_Scipy%2C_MatplotLib.ipynb\" target=\"_parent\"><img src=\"https://colab.research.google.com/assets/colab-badge.svg\" alt=\"Open In Colab\"/></a>"
      ]
    },
    {
      "cell_type": "code",
      "execution_count": null,
      "metadata": {
        "id": "fklzPzm_QiY-"
      },
      "outputs": [],
      "source": [
        "# Exploração de Dados - Manipulação com Pandas, Numpy, Scipy, MatplotLib\n",
        "# Autor: Ricardo Roberto de Lima\n",
        "# Data: 30/04/2022"
      ]
    },
    {
      "cell_type": "code",
      "execution_count": null,
      "metadata": {
        "id": "e8k6xWFdQiZA"
      },
      "outputs": [],
      "source": [
        "# Fazendo o import das bibliotecas de ciência de dados (Numpy, Pandas, Scipy, matplolib)\n",
        "import numpy as np\n",
        "import scipy as sp\n",
        "import pandas as pd\n",
        "import matplotlib.pyplot as plt\n",
        "import seaborn as sns"
      ]
    },
    {
      "cell_type": "code",
      "execution_count": null,
      "metadata": {
        "id": "K-1eSHoWQiZB"
      },
      "outputs": [],
      "source": [
        "# criando um dafaframe com os dados da planilha de Salarios.csv..\n",
        "df = pd.read_csv(\"Salaries.csv\")"
      ]
    },
    {
      "cell_type": "code",
      "execution_count": null,
      "metadata": {
        "id": "6iqt4dfLQiZC",
        "outputId": "93852736-ffe3-4392-f580-4bc259c536c4"
      },
      "outputs": [
        {
          "data": {
            "text/html": [
              "<div>\n",
              "<style scoped>\n",
              "    .dataframe tbody tr th:only-of-type {\n",
              "        vertical-align: middle;\n",
              "    }\n",
              "\n",
              "    .dataframe tbody tr th {\n",
              "        vertical-align: top;\n",
              "    }\n",
              "\n",
              "    .dataframe thead th {\n",
              "        text-align: right;\n",
              "    }\n",
              "</style>\n",
              "<table border=\"1\" class=\"dataframe\">\n",
              "  <thead>\n",
              "    <tr style=\"text-align: right;\">\n",
              "      <th></th>\n",
              "      <th>rank</th>\n",
              "      <th>discipline</th>\n",
              "      <th>phd</th>\n",
              "      <th>service</th>\n",
              "      <th>sex</th>\n",
              "      <th>salary</th>\n",
              "    </tr>\n",
              "  </thead>\n",
              "  <tbody>\n",
              "    <tr>\n",
              "      <th>0</th>\n",
              "      <td>Prof</td>\n",
              "      <td>B</td>\n",
              "      <td>56</td>\n",
              "      <td>49</td>\n",
              "      <td>Male</td>\n",
              "      <td>186960</td>\n",
              "    </tr>\n",
              "    <tr>\n",
              "      <th>1</th>\n",
              "      <td>Prof</td>\n",
              "      <td>A</td>\n",
              "      <td>12</td>\n",
              "      <td>6</td>\n",
              "      <td>Male</td>\n",
              "      <td>93000</td>\n",
              "    </tr>\n",
              "    <tr>\n",
              "      <th>2</th>\n",
              "      <td>Prof</td>\n",
              "      <td>A</td>\n",
              "      <td>23</td>\n",
              "      <td>20</td>\n",
              "      <td>Male</td>\n",
              "      <td>110515</td>\n",
              "    </tr>\n",
              "    <tr>\n",
              "      <th>3</th>\n",
              "      <td>Prof</td>\n",
              "      <td>A</td>\n",
              "      <td>40</td>\n",
              "      <td>31</td>\n",
              "      <td>Male</td>\n",
              "      <td>131205</td>\n",
              "    </tr>\n",
              "    <tr>\n",
              "      <th>4</th>\n",
              "      <td>Prof</td>\n",
              "      <td>B</td>\n",
              "      <td>20</td>\n",
              "      <td>18</td>\n",
              "      <td>Male</td>\n",
              "      <td>104800</td>\n",
              "    </tr>\n",
              "  </tbody>\n",
              "</table>\n",
              "</div>"
            ],
            "text/plain": [
              "   rank discipline  phd  service   sex  salary\n",
              "0  Prof          B   56       49  Male  186960\n",
              "1  Prof          A   12        6  Male   93000\n",
              "2  Prof          A   23       20  Male  110515\n",
              "3  Prof          A   40       31  Male  131205\n",
              "4  Prof          B   20       18  Male  104800"
            ]
          },
          "execution_count": 4,
          "metadata": {},
          "output_type": "execute_result"
        }
      ],
      "source": [
        "df.head()"
      ]
    },
    {
      "cell_type": "code",
      "execution_count": null,
      "metadata": {
        "id": "XvKRBf-EQiZD",
        "outputId": "e2ce6af3-83b8-4f43-9c0c-309787a7df05"
      },
      "outputs": [
        {
          "data": {
            "text/html": [
              "<div>\n",
              "<style scoped>\n",
              "    .dataframe tbody tr th:only-of-type {\n",
              "        vertical-align: middle;\n",
              "    }\n",
              "\n",
              "    .dataframe tbody tr th {\n",
              "        vertical-align: top;\n",
              "    }\n",
              "\n",
              "    .dataframe thead th {\n",
              "        text-align: right;\n",
              "    }\n",
              "</style>\n",
              "<table border=\"1\" class=\"dataframe\">\n",
              "  <thead>\n",
              "    <tr style=\"text-align: right;\">\n",
              "      <th></th>\n",
              "      <th>rank</th>\n",
              "      <th>discipline</th>\n",
              "      <th>phd</th>\n",
              "      <th>service</th>\n",
              "      <th>sex</th>\n",
              "      <th>salary</th>\n",
              "    </tr>\n",
              "  </thead>\n",
              "  <tbody>\n",
              "    <tr>\n",
              "      <th>0</th>\n",
              "      <td>Prof</td>\n",
              "      <td>B</td>\n",
              "      <td>56</td>\n",
              "      <td>49</td>\n",
              "      <td>Male</td>\n",
              "      <td>186960</td>\n",
              "    </tr>\n",
              "    <tr>\n",
              "      <th>1</th>\n",
              "      <td>Prof</td>\n",
              "      <td>A</td>\n",
              "      <td>12</td>\n",
              "      <td>6</td>\n",
              "      <td>Male</td>\n",
              "      <td>93000</td>\n",
              "    </tr>\n",
              "    <tr>\n",
              "      <th>2</th>\n",
              "      <td>Prof</td>\n",
              "      <td>A</td>\n",
              "      <td>23</td>\n",
              "      <td>20</td>\n",
              "      <td>Male</td>\n",
              "      <td>110515</td>\n",
              "    </tr>\n",
              "    <tr>\n",
              "      <th>3</th>\n",
              "      <td>Prof</td>\n",
              "      <td>A</td>\n",
              "      <td>40</td>\n",
              "      <td>31</td>\n",
              "      <td>Male</td>\n",
              "      <td>131205</td>\n",
              "    </tr>\n",
              "    <tr>\n",
              "      <th>4</th>\n",
              "      <td>Prof</td>\n",
              "      <td>B</td>\n",
              "      <td>20</td>\n",
              "      <td>18</td>\n",
              "      <td>Male</td>\n",
              "      <td>104800</td>\n",
              "    </tr>\n",
              "    <tr>\n",
              "      <th>5</th>\n",
              "      <td>Prof</td>\n",
              "      <td>A</td>\n",
              "      <td>20</td>\n",
              "      <td>20</td>\n",
              "      <td>Male</td>\n",
              "      <td>122400</td>\n",
              "    </tr>\n",
              "    <tr>\n",
              "      <th>6</th>\n",
              "      <td>AssocProf</td>\n",
              "      <td>A</td>\n",
              "      <td>20</td>\n",
              "      <td>17</td>\n",
              "      <td>Male</td>\n",
              "      <td>81285</td>\n",
              "    </tr>\n",
              "    <tr>\n",
              "      <th>7</th>\n",
              "      <td>Prof</td>\n",
              "      <td>A</td>\n",
              "      <td>18</td>\n",
              "      <td>18</td>\n",
              "      <td>Male</td>\n",
              "      <td>126300</td>\n",
              "    </tr>\n",
              "    <tr>\n",
              "      <th>8</th>\n",
              "      <td>Prof</td>\n",
              "      <td>A</td>\n",
              "      <td>29</td>\n",
              "      <td>19</td>\n",
              "      <td>Male</td>\n",
              "      <td>94350</td>\n",
              "    </tr>\n",
              "    <tr>\n",
              "      <th>9</th>\n",
              "      <td>Prof</td>\n",
              "      <td>A</td>\n",
              "      <td>51</td>\n",
              "      <td>51</td>\n",
              "      <td>Male</td>\n",
              "      <td>57800</td>\n",
              "    </tr>\n",
              "    <tr>\n",
              "      <th>10</th>\n",
              "      <td>Prof</td>\n",
              "      <td>B</td>\n",
              "      <td>39</td>\n",
              "      <td>33</td>\n",
              "      <td>Male</td>\n",
              "      <td>128250</td>\n",
              "    </tr>\n",
              "    <tr>\n",
              "      <th>11</th>\n",
              "      <td>Prof</td>\n",
              "      <td>B</td>\n",
              "      <td>23</td>\n",
              "      <td>23</td>\n",
              "      <td>Male</td>\n",
              "      <td>134778</td>\n",
              "    </tr>\n",
              "    <tr>\n",
              "      <th>12</th>\n",
              "      <td>AsstProf</td>\n",
              "      <td>B</td>\n",
              "      <td>1</td>\n",
              "      <td>0</td>\n",
              "      <td>Male</td>\n",
              "      <td>88000</td>\n",
              "    </tr>\n",
              "    <tr>\n",
              "      <th>13</th>\n",
              "      <td>Prof</td>\n",
              "      <td>B</td>\n",
              "      <td>35</td>\n",
              "      <td>33</td>\n",
              "      <td>Male</td>\n",
              "      <td>162200</td>\n",
              "    </tr>\n",
              "    <tr>\n",
              "      <th>14</th>\n",
              "      <td>Prof</td>\n",
              "      <td>B</td>\n",
              "      <td>25</td>\n",
              "      <td>19</td>\n",
              "      <td>Male</td>\n",
              "      <td>153750</td>\n",
              "    </tr>\n",
              "    <tr>\n",
              "      <th>15</th>\n",
              "      <td>Prof</td>\n",
              "      <td>B</td>\n",
              "      <td>17</td>\n",
              "      <td>3</td>\n",
              "      <td>Male</td>\n",
              "      <td>150480</td>\n",
              "    </tr>\n",
              "    <tr>\n",
              "      <th>16</th>\n",
              "      <td>AsstProf</td>\n",
              "      <td>B</td>\n",
              "      <td>8</td>\n",
              "      <td>3</td>\n",
              "      <td>Male</td>\n",
              "      <td>75044</td>\n",
              "    </tr>\n",
              "    <tr>\n",
              "      <th>17</th>\n",
              "      <td>AsstProf</td>\n",
              "      <td>B</td>\n",
              "      <td>4</td>\n",
              "      <td>0</td>\n",
              "      <td>Male</td>\n",
              "      <td>92000</td>\n",
              "    </tr>\n",
              "  </tbody>\n",
              "</table>\n",
              "</div>"
            ],
            "text/plain": [
              "         rank discipline  phd  service   sex  salary\n",
              "0        Prof          B   56       49  Male  186960\n",
              "1        Prof          A   12        6  Male   93000\n",
              "2        Prof          A   23       20  Male  110515\n",
              "3        Prof          A   40       31  Male  131205\n",
              "4        Prof          B   20       18  Male  104800\n",
              "5        Prof          A   20       20  Male  122400\n",
              "6   AssocProf          A   20       17  Male   81285\n",
              "7        Prof          A   18       18  Male  126300\n",
              "8        Prof          A   29       19  Male   94350\n",
              "9        Prof          A   51       51  Male   57800\n",
              "10       Prof          B   39       33  Male  128250\n",
              "11       Prof          B   23       23  Male  134778\n",
              "12   AsstProf          B    1        0  Male   88000\n",
              "13       Prof          B   35       33  Male  162200\n",
              "14       Prof          B   25       19  Male  153750\n",
              "15       Prof          B   17        3  Male  150480\n",
              "16   AsstProf          B    8        3  Male   75044\n",
              "17   AsstProf          B    4        0  Male   92000"
            ]
          },
          "execution_count": 4,
          "metadata": {},
          "output_type": "execute_result"
        }
      ],
      "source": [
        "df.head(18)"
      ]
    },
    {
      "cell_type": "code",
      "execution_count": null,
      "metadata": {
        "id": "681-NiynQiZD",
        "outputId": "6e1f7f9d-09a3-41cc-8796-ca8d1478e3eb"
      },
      "outputs": [
        {
          "data": {
            "text/html": [
              "<div>\n",
              "<style scoped>\n",
              "    .dataframe tbody tr th:only-of-type {\n",
              "        vertical-align: middle;\n",
              "    }\n",
              "\n",
              "    .dataframe tbody tr th {\n",
              "        vertical-align: top;\n",
              "    }\n",
              "\n",
              "    .dataframe thead th {\n",
              "        text-align: right;\n",
              "    }\n",
              "</style>\n",
              "<table border=\"1\" class=\"dataframe\">\n",
              "  <thead>\n",
              "    <tr style=\"text-align: right;\">\n",
              "      <th></th>\n",
              "      <th>rank</th>\n",
              "      <th>discipline</th>\n",
              "      <th>phd</th>\n",
              "      <th>service</th>\n",
              "      <th>sex</th>\n",
              "      <th>salary</th>\n",
              "    </tr>\n",
              "  </thead>\n",
              "  <tbody>\n",
              "    <tr>\n",
              "      <th>0</th>\n",
              "      <td>Prof</td>\n",
              "      <td>B</td>\n",
              "      <td>56</td>\n",
              "      <td>49</td>\n",
              "      <td>Male</td>\n",
              "      <td>186960</td>\n",
              "    </tr>\n",
              "    <tr>\n",
              "      <th>1</th>\n",
              "      <td>Prof</td>\n",
              "      <td>A</td>\n",
              "      <td>12</td>\n",
              "      <td>6</td>\n",
              "      <td>Male</td>\n",
              "      <td>93000</td>\n",
              "    </tr>\n",
              "    <tr>\n",
              "      <th>2</th>\n",
              "      <td>Prof</td>\n",
              "      <td>A</td>\n",
              "      <td>23</td>\n",
              "      <td>20</td>\n",
              "      <td>Male</td>\n",
              "      <td>110515</td>\n",
              "    </tr>\n",
              "    <tr>\n",
              "      <th>3</th>\n",
              "      <td>Prof</td>\n",
              "      <td>A</td>\n",
              "      <td>40</td>\n",
              "      <td>31</td>\n",
              "      <td>Male</td>\n",
              "      <td>131205</td>\n",
              "    </tr>\n",
              "    <tr>\n",
              "      <th>4</th>\n",
              "      <td>Prof</td>\n",
              "      <td>B</td>\n",
              "      <td>20</td>\n",
              "      <td>18</td>\n",
              "      <td>Male</td>\n",
              "      <td>104800</td>\n",
              "    </tr>\n",
              "    <tr>\n",
              "      <th>5</th>\n",
              "      <td>Prof</td>\n",
              "      <td>A</td>\n",
              "      <td>20</td>\n",
              "      <td>20</td>\n",
              "      <td>Male</td>\n",
              "      <td>122400</td>\n",
              "    </tr>\n",
              "    <tr>\n",
              "      <th>6</th>\n",
              "      <td>AssocProf</td>\n",
              "      <td>A</td>\n",
              "      <td>20</td>\n",
              "      <td>17</td>\n",
              "      <td>Male</td>\n",
              "      <td>81285</td>\n",
              "    </tr>\n",
              "    <tr>\n",
              "      <th>7</th>\n",
              "      <td>Prof</td>\n",
              "      <td>A</td>\n",
              "      <td>18</td>\n",
              "      <td>18</td>\n",
              "      <td>Male</td>\n",
              "      <td>126300</td>\n",
              "    </tr>\n",
              "    <tr>\n",
              "      <th>8</th>\n",
              "      <td>Prof</td>\n",
              "      <td>A</td>\n",
              "      <td>29</td>\n",
              "      <td>19</td>\n",
              "      <td>Male</td>\n",
              "      <td>94350</td>\n",
              "    </tr>\n",
              "    <tr>\n",
              "      <th>9</th>\n",
              "      <td>Prof</td>\n",
              "      <td>A</td>\n",
              "      <td>51</td>\n",
              "      <td>51</td>\n",
              "      <td>Male</td>\n",
              "      <td>57800</td>\n",
              "    </tr>\n",
              "    <tr>\n",
              "      <th>10</th>\n",
              "      <td>Prof</td>\n",
              "      <td>B</td>\n",
              "      <td>39</td>\n",
              "      <td>33</td>\n",
              "      <td>Male</td>\n",
              "      <td>128250</td>\n",
              "    </tr>\n",
              "    <tr>\n",
              "      <th>11</th>\n",
              "      <td>Prof</td>\n",
              "      <td>B</td>\n",
              "      <td>23</td>\n",
              "      <td>23</td>\n",
              "      <td>Male</td>\n",
              "      <td>134778</td>\n",
              "    </tr>\n",
              "    <tr>\n",
              "      <th>12</th>\n",
              "      <td>AsstProf</td>\n",
              "      <td>B</td>\n",
              "      <td>1</td>\n",
              "      <td>0</td>\n",
              "      <td>Male</td>\n",
              "      <td>88000</td>\n",
              "    </tr>\n",
              "    <tr>\n",
              "      <th>13</th>\n",
              "      <td>Prof</td>\n",
              "      <td>B</td>\n",
              "      <td>35</td>\n",
              "      <td>33</td>\n",
              "      <td>Male</td>\n",
              "      <td>162200</td>\n",
              "    </tr>\n",
              "    <tr>\n",
              "      <th>14</th>\n",
              "      <td>Prof</td>\n",
              "      <td>B</td>\n",
              "      <td>25</td>\n",
              "      <td>19</td>\n",
              "      <td>Male</td>\n",
              "      <td>153750</td>\n",
              "    </tr>\n",
              "    <tr>\n",
              "      <th>15</th>\n",
              "      <td>Prof</td>\n",
              "      <td>B</td>\n",
              "      <td>17</td>\n",
              "      <td>3</td>\n",
              "      <td>Male</td>\n",
              "      <td>150480</td>\n",
              "    </tr>\n",
              "    <tr>\n",
              "      <th>16</th>\n",
              "      <td>AsstProf</td>\n",
              "      <td>B</td>\n",
              "      <td>8</td>\n",
              "      <td>3</td>\n",
              "      <td>Male</td>\n",
              "      <td>75044</td>\n",
              "    </tr>\n",
              "    <tr>\n",
              "      <th>17</th>\n",
              "      <td>AsstProf</td>\n",
              "      <td>B</td>\n",
              "      <td>4</td>\n",
              "      <td>0</td>\n",
              "      <td>Male</td>\n",
              "      <td>92000</td>\n",
              "    </tr>\n",
              "    <tr>\n",
              "      <th>18</th>\n",
              "      <td>Prof</td>\n",
              "      <td>A</td>\n",
              "      <td>19</td>\n",
              "      <td>7</td>\n",
              "      <td>Male</td>\n",
              "      <td>107300</td>\n",
              "    </tr>\n",
              "    <tr>\n",
              "      <th>19</th>\n",
              "      <td>Prof</td>\n",
              "      <td>A</td>\n",
              "      <td>29</td>\n",
              "      <td>27</td>\n",
              "      <td>Male</td>\n",
              "      <td>150500</td>\n",
              "    </tr>\n",
              "  </tbody>\n",
              "</table>\n",
              "</div>"
            ],
            "text/plain": [
              "         rank discipline  phd  service   sex  salary\n",
              "0        Prof          B   56       49  Male  186960\n",
              "1        Prof          A   12        6  Male   93000\n",
              "2        Prof          A   23       20  Male  110515\n",
              "3        Prof          A   40       31  Male  131205\n",
              "4        Prof          B   20       18  Male  104800\n",
              "5        Prof          A   20       20  Male  122400\n",
              "6   AssocProf          A   20       17  Male   81285\n",
              "7        Prof          A   18       18  Male  126300\n",
              "8        Prof          A   29       19  Male   94350\n",
              "9        Prof          A   51       51  Male   57800\n",
              "10       Prof          B   39       33  Male  128250\n",
              "11       Prof          B   23       23  Male  134778\n",
              "12   AsstProf          B    1        0  Male   88000\n",
              "13       Prof          B   35       33  Male  162200\n",
              "14       Prof          B   25       19  Male  153750\n",
              "15       Prof          B   17        3  Male  150480\n",
              "16   AsstProf          B    8        3  Male   75044\n",
              "17   AsstProf          B    4        0  Male   92000\n",
              "18       Prof          A   19        7  Male  107300\n",
              "19       Prof          A   29       27  Male  150500"
            ]
          },
          "execution_count": 6,
          "metadata": {},
          "output_type": "execute_result"
        }
      ],
      "source": [
        "df.head(20)"
      ]
    },
    {
      "cell_type": "code",
      "execution_count": null,
      "metadata": {
        "id": "mFd-3urEQiZE",
        "outputId": "e73ed690-f0d0-4073-9ca2-cc875f28ebb2"
      },
      "outputs": [
        {
          "data": {
            "text/html": [
              "<div>\n",
              "<style scoped>\n",
              "    .dataframe tbody tr th:only-of-type {\n",
              "        vertical-align: middle;\n",
              "    }\n",
              "\n",
              "    .dataframe tbody tr th {\n",
              "        vertical-align: top;\n",
              "    }\n",
              "\n",
              "    .dataframe thead th {\n",
              "        text-align: right;\n",
              "    }\n",
              "</style>\n",
              "<table border=\"1\" class=\"dataframe\">\n",
              "  <thead>\n",
              "    <tr style=\"text-align: right;\">\n",
              "      <th></th>\n",
              "      <th>rank</th>\n",
              "      <th>discipline</th>\n",
              "      <th>phd</th>\n",
              "      <th>service</th>\n",
              "      <th>sex</th>\n",
              "      <th>salary</th>\n",
              "    </tr>\n",
              "  </thead>\n",
              "  <tbody>\n",
              "    <tr>\n",
              "      <th>63</th>\n",
              "      <td>Prof</td>\n",
              "      <td>A</td>\n",
              "      <td>29</td>\n",
              "      <td>27</td>\n",
              "      <td>Female</td>\n",
              "      <td>91000</td>\n",
              "    </tr>\n",
              "    <tr>\n",
              "      <th>64</th>\n",
              "      <td>AssocProf</td>\n",
              "      <td>A</td>\n",
              "      <td>26</td>\n",
              "      <td>24</td>\n",
              "      <td>Female</td>\n",
              "      <td>73300</td>\n",
              "    </tr>\n",
              "    <tr>\n",
              "      <th>65</th>\n",
              "      <td>Prof</td>\n",
              "      <td>A</td>\n",
              "      <td>36</td>\n",
              "      <td>19</td>\n",
              "      <td>Female</td>\n",
              "      <td>117555</td>\n",
              "    </tr>\n",
              "    <tr>\n",
              "      <th>66</th>\n",
              "      <td>AsstProf</td>\n",
              "      <td>A</td>\n",
              "      <td>7</td>\n",
              "      <td>6</td>\n",
              "      <td>Female</td>\n",
              "      <td>63100</td>\n",
              "    </tr>\n",
              "    <tr>\n",
              "      <th>67</th>\n",
              "      <td>Prof</td>\n",
              "      <td>A</td>\n",
              "      <td>17</td>\n",
              "      <td>11</td>\n",
              "      <td>Female</td>\n",
              "      <td>90450</td>\n",
              "    </tr>\n",
              "    <tr>\n",
              "      <th>68</th>\n",
              "      <td>AsstProf</td>\n",
              "      <td>A</td>\n",
              "      <td>4</td>\n",
              "      <td>2</td>\n",
              "      <td>Female</td>\n",
              "      <td>77500</td>\n",
              "    </tr>\n",
              "    <tr>\n",
              "      <th>69</th>\n",
              "      <td>Prof</td>\n",
              "      <td>A</td>\n",
              "      <td>28</td>\n",
              "      <td>7</td>\n",
              "      <td>Female</td>\n",
              "      <td>116450</td>\n",
              "    </tr>\n",
              "    <tr>\n",
              "      <th>70</th>\n",
              "      <td>AsstProf</td>\n",
              "      <td>A</td>\n",
              "      <td>8</td>\n",
              "      <td>3</td>\n",
              "      <td>Female</td>\n",
              "      <td>78500</td>\n",
              "    </tr>\n",
              "    <tr>\n",
              "      <th>71</th>\n",
              "      <td>AssocProf</td>\n",
              "      <td>B</td>\n",
              "      <td>12</td>\n",
              "      <td>9</td>\n",
              "      <td>Female</td>\n",
              "      <td>71065</td>\n",
              "    </tr>\n",
              "    <tr>\n",
              "      <th>72</th>\n",
              "      <td>Prof</td>\n",
              "      <td>B</td>\n",
              "      <td>24</td>\n",
              "      <td>15</td>\n",
              "      <td>Female</td>\n",
              "      <td>161101</td>\n",
              "    </tr>\n",
              "    <tr>\n",
              "      <th>73</th>\n",
              "      <td>Prof</td>\n",
              "      <td>B</td>\n",
              "      <td>18</td>\n",
              "      <td>10</td>\n",
              "      <td>Female</td>\n",
              "      <td>105450</td>\n",
              "    </tr>\n",
              "    <tr>\n",
              "      <th>74</th>\n",
              "      <td>AssocProf</td>\n",
              "      <td>B</td>\n",
              "      <td>19</td>\n",
              "      <td>6</td>\n",
              "      <td>Female</td>\n",
              "      <td>104542</td>\n",
              "    </tr>\n",
              "    <tr>\n",
              "      <th>75</th>\n",
              "      <td>Prof</td>\n",
              "      <td>B</td>\n",
              "      <td>17</td>\n",
              "      <td>17</td>\n",
              "      <td>Female</td>\n",
              "      <td>124312</td>\n",
              "    </tr>\n",
              "    <tr>\n",
              "      <th>76</th>\n",
              "      <td>Prof</td>\n",
              "      <td>A</td>\n",
              "      <td>28</td>\n",
              "      <td>14</td>\n",
              "      <td>Female</td>\n",
              "      <td>109954</td>\n",
              "    </tr>\n",
              "    <tr>\n",
              "      <th>77</th>\n",
              "      <td>Prof</td>\n",
              "      <td>A</td>\n",
              "      <td>23</td>\n",
              "      <td>15</td>\n",
              "      <td>Female</td>\n",
              "      <td>109646</td>\n",
              "    </tr>\n",
              "  </tbody>\n",
              "</table>\n",
              "</div>"
            ],
            "text/plain": [
              "         rank discipline  phd  service     sex  salary\n",
              "63       Prof          A   29       27  Female   91000\n",
              "64  AssocProf          A   26       24  Female   73300\n",
              "65       Prof          A   36       19  Female  117555\n",
              "66   AsstProf          A    7        6  Female   63100\n",
              "67       Prof          A   17       11  Female   90450\n",
              "68   AsstProf          A    4        2  Female   77500\n",
              "69       Prof          A   28        7  Female  116450\n",
              "70   AsstProf          A    8        3  Female   78500\n",
              "71  AssocProf          B   12        9  Female   71065\n",
              "72       Prof          B   24       15  Female  161101\n",
              "73       Prof          B   18       10  Female  105450\n",
              "74  AssocProf          B   19        6  Female  104542\n",
              "75       Prof          B   17       17  Female  124312\n",
              "76       Prof          A   28       14  Female  109954\n",
              "77       Prof          A   23       15  Female  109646"
            ]
          },
          "execution_count": 7,
          "metadata": {},
          "output_type": "execute_result"
        }
      ],
      "source": [
        "df.tail(15)"
      ]
    },
    {
      "cell_type": "code",
      "execution_count": null,
      "metadata": {
        "id": "l4jnogREQiZE",
        "outputId": "b093d77e-7be6-4061-9f5d-12927d2c1886"
      },
      "outputs": [
        {
          "data": {
            "text/plain": [
              "pandas.core.frame.DataFrame"
            ]
          },
          "execution_count": 8,
          "metadata": {},
          "output_type": "execute_result"
        }
      ],
      "source": [
        "type(df)"
      ]
    },
    {
      "cell_type": "code",
      "execution_count": null,
      "metadata": {
        "id": "ot36NQYDQiZF",
        "outputId": "72997f76-3ad1-4b88-8228-0639294da131"
      },
      "outputs": [
        {
          "data": {
            "text/plain": [
              "dtype('int64')"
            ]
          },
          "execution_count": 9,
          "metadata": {},
          "output_type": "execute_result"
        }
      ],
      "source": [
        "df['salary'].dtype"
      ]
    },
    {
      "cell_type": "code",
      "execution_count": null,
      "metadata": {
        "id": "00YSrcuLQiZG",
        "outputId": "4668044b-755b-423f-f8c6-3e6406602575"
      },
      "outputs": [
        {
          "data": {
            "text/plain": [
              "rank          object\n",
              "discipline    object\n",
              "phd            int64\n",
              "service        int64\n",
              "sex           object\n",
              "salary         int64\n",
              "dtype: object"
            ]
          },
          "execution_count": 10,
          "metadata": {},
          "output_type": "execute_result"
        }
      ],
      "source": [
        "# Listandos os tipos de dados de todas as colunas do DataFrame\n",
        "df.dtypes"
      ]
    },
    {
      "cell_type": "code",
      "execution_count": null,
      "metadata": {
        "id": "CUyXgHH6QiZG",
        "outputId": "8eda93f0-a919-489e-e624-bda0ad1d1da9"
      },
      "outputs": [
        {
          "data": {
            "text/plain": [
              "Index(['rank', 'discipline', 'phd', 'service', 'sex', 'salary'], dtype='object')"
            ]
          },
          "execution_count": 11,
          "metadata": {},
          "output_type": "execute_result"
        }
      ],
      "source": [
        "# Listando os nomes das colunas\n",
        "df.columns"
      ]
    },
    {
      "cell_type": "code",
      "execution_count": null,
      "metadata": {
        "id": "g499pcjQQiZH",
        "outputId": "09aa07d0-d9a3-44ac-9e5b-a9b290e3effd"
      },
      "outputs": [
        {
          "data": {
            "text/plain": [
              "[RangeIndex(start=0, stop=78, step=1),\n",
              " Index(['rank', 'discipline', 'phd', 'service', 'sex', 'salary'], dtype='object')]"
            ]
          },
          "execution_count": 12,
          "metadata": {},
          "output_type": "execute_result"
        }
      ],
      "source": [
        "# Listando os rótulos das linhas e colunas\n",
        "df.axes"
      ]
    },
    {
      "cell_type": "code",
      "execution_count": null,
      "metadata": {
        "id": "di9OLBnmQiZH",
        "outputId": "f7daf37f-02d9-45ff-b780-1f8f73713a99"
      },
      "outputs": [
        {
          "data": {
            "text/plain": [
              "2"
            ]
          },
          "execution_count": 13,
          "metadata": {},
          "output_type": "execute_result"
        }
      ],
      "source": [
        "# Número de dimensões\n",
        "df.ndim"
      ]
    },
    {
      "cell_type": "code",
      "execution_count": null,
      "metadata": {
        "id": "4zWQGwMOQiZI",
        "outputId": "713e269a-0177-46ac-c672-889a07ebd65d"
      },
      "outputs": [
        {
          "data": {
            "text/plain": [
              "468"
            ]
          },
          "execution_count": 14,
          "metadata": {},
          "output_type": "execute_result"
        }
      ],
      "source": [
        "# Total de elementos no Data Frame\n",
        "df.size"
      ]
    },
    {
      "cell_type": "code",
      "execution_count": null,
      "metadata": {
        "id": "iAg1nFaEQiZI",
        "outputId": "50a60431-7559-41a2-f7ff-447743058e01"
      },
      "outputs": [
        {
          "data": {
            "text/plain": [
              "(78, 6)"
            ]
          },
          "execution_count": 15,
          "metadata": {},
          "output_type": "execute_result"
        }
      ],
      "source": [
        "# Número de Linhas e Colunas\n",
        "df.shape"
      ]
    },
    {
      "cell_type": "code",
      "execution_count": null,
      "metadata": {
        "id": "AoyvbaggQiZI",
        "outputId": "36f1485a-3044-46e5-b1f6-c2c77c4ba20a"
      },
      "outputs": [
        {
          "data": {
            "text/html": [
              "<div>\n",
              "<style scoped>\n",
              "    .dataframe tbody tr th:only-of-type {\n",
              "        vertical-align: middle;\n",
              "    }\n",
              "\n",
              "    .dataframe tbody tr th {\n",
              "        vertical-align: top;\n",
              "    }\n",
              "\n",
              "    .dataframe thead th {\n",
              "        text-align: right;\n",
              "    }\n",
              "</style>\n",
              "<table border=\"1\" class=\"dataframe\">\n",
              "  <thead>\n",
              "    <tr style=\"text-align: right;\">\n",
              "      <th></th>\n",
              "      <th>phd</th>\n",
              "      <th>service</th>\n",
              "      <th>salary</th>\n",
              "    </tr>\n",
              "  </thead>\n",
              "  <tbody>\n",
              "    <tr>\n",
              "      <th>count</th>\n",
              "      <td>78.000000</td>\n",
              "      <td>78.000000</td>\n",
              "      <td>78.000000</td>\n",
              "    </tr>\n",
              "    <tr>\n",
              "      <th>mean</th>\n",
              "      <td>19.705128</td>\n",
              "      <td>15.051282</td>\n",
              "      <td>108023.782051</td>\n",
              "    </tr>\n",
              "    <tr>\n",
              "      <th>std</th>\n",
              "      <td>12.498425</td>\n",
              "      <td>12.139768</td>\n",
              "      <td>28293.661022</td>\n",
              "    </tr>\n",
              "    <tr>\n",
              "      <th>min</th>\n",
              "      <td>1.000000</td>\n",
              "      <td>0.000000</td>\n",
              "      <td>57800.000000</td>\n",
              "    </tr>\n",
              "    <tr>\n",
              "      <th>25%</th>\n",
              "      <td>10.250000</td>\n",
              "      <td>5.250000</td>\n",
              "      <td>88612.500000</td>\n",
              "    </tr>\n",
              "    <tr>\n",
              "      <th>50%</th>\n",
              "      <td>18.500000</td>\n",
              "      <td>14.500000</td>\n",
              "      <td>104671.000000</td>\n",
              "    </tr>\n",
              "    <tr>\n",
              "      <th>75%</th>\n",
              "      <td>27.750000</td>\n",
              "      <td>20.750000</td>\n",
              "      <td>126774.750000</td>\n",
              "    </tr>\n",
              "    <tr>\n",
              "      <th>max</th>\n",
              "      <td>56.000000</td>\n",
              "      <td>51.000000</td>\n",
              "      <td>186960.000000</td>\n",
              "    </tr>\n",
              "  </tbody>\n",
              "</table>\n",
              "</div>"
            ],
            "text/plain": [
              "             phd    service         salary\n",
              "count  78.000000  78.000000      78.000000\n",
              "mean   19.705128  15.051282  108023.782051\n",
              "std    12.498425  12.139768   28293.661022\n",
              "min     1.000000   0.000000   57800.000000\n",
              "25%    10.250000   5.250000   88612.500000\n",
              "50%    18.500000  14.500000  104671.000000\n",
              "75%    27.750000  20.750000  126774.750000\n",
              "max    56.000000  51.000000  186960.000000"
            ]
          },
          "execution_count": 16,
          "metadata": {},
          "output_type": "execute_result"
        }
      ],
      "source": [
        "# Saída básica estatística para o número de colunas\n",
        "df.describe()"
      ]
    },
    {
      "cell_type": "code",
      "execution_count": null,
      "metadata": {
        "id": "5s2P3SVnQiZJ",
        "outputId": "3d8fcf36-9c6b-4b3d-8890-75e5a21a0917"
      },
      "outputs": [
        {
          "data": {
            "text/plain": [
              "phd            19.705128\n",
              "service        15.051282\n",
              "salary     108023.782051\n",
              "dtype: float64"
            ]
          },
          "execution_count": 17,
          "metadata": {},
          "output_type": "execute_result"
        }
      ],
      "source": [
        "# Calcular a média para todas as colunas numericas\n",
        "df.mean()"
      ]
    },
    {
      "cell_type": "code",
      "execution_count": null,
      "metadata": {
        "id": "zM75TnsYQiZJ"
      },
      "outputs": [],
      "source": [
        "# Exercícios Práticas"
      ]
    },
    {
      "cell_type": "code",
      "execution_count": null,
      "metadata": {
        "id": "9ekWhiinQiZJ",
        "outputId": "476b99c0-bb42-4e6a-cd6c-fb380d69bdf2"
      },
      "outputs": [
        {
          "data": {
            "text/plain": [
              "phd           12.498425\n",
              "service       12.139768\n",
              "salary     28293.661022\n",
              "dtype: float64"
            ]
          },
          "execution_count": 19,
          "metadata": {},
          "output_type": "execute_result"
        }
      ],
      "source": [
        "# Calcular o Desvio Padrão para todas as colunas numericas\n",
        "df.std()"
      ]
    },
    {
      "cell_type": "code",
      "execution_count": null,
      "metadata": {
        "id": "o1Z54k0xQiZJ",
        "outputId": "b95d59fc-5465-41c2-b955-ee45da9433cd"
      },
      "outputs": [
        {
          "data": {
            "text/plain": [
              "phd            28.9\n",
              "service        24.9\n",
              "salary     110861.5\n",
              "dtype: float64"
            ]
          },
          "execution_count": 20,
          "metadata": {},
          "output_type": "execute_result"
        }
      ],
      "source": [
        "# Calcular a média das colunas para os 50 primeiras linhas\n",
        "df.head(10).mean()"
      ]
    },
    {
      "cell_type": "code",
      "execution_count": null,
      "metadata": {
        "id": "DDjNIr83QiZK",
        "outputId": "c539403e-50c2-4fe7-ce30-cff3db6c3981"
      },
      "outputs": [
        {
          "data": {
            "text/plain": [
              "phd            8.130191\n",
              "service        5.308274\n",
              "salary     26459.073063\n",
              "dtype: float64"
            ]
          },
          "execution_count": 21,
          "metadata": {},
          "output_type": "execute_result"
        }
      ],
      "source": [
        "# Calcular o desvio padrão das colunas para os 10 últimas linhas\n",
        "df.tail(10).std()"
      ]
    },
    {
      "cell_type": "markdown",
      "metadata": {
        "id": "kYkF39ZXQiZK"
      },
      "source": [
        "## Data slicing and grouping"
      ]
    },
    {
      "cell_type": "code",
      "execution_count": null,
      "metadata": {
        "id": "j5jl1R1dQiZL"
      },
      "outputs": [],
      "source": [
        "df_sex = df.groupby('sex')"
      ]
    },
    {
      "cell_type": "code",
      "execution_count": null,
      "metadata": {
        "id": "aMx-mARpQiZL",
        "outputId": "ca49d1fc-c44e-42c9-dea2-b6acfd411738"
      },
      "outputs": [
        {
          "data": {
            "text/plain": [
              "0       Male\n",
              "1       Male\n",
              "2       Male\n",
              "3       Male\n",
              "4       Male\n",
              "5       Male\n",
              "6       Male\n",
              "7       Male\n",
              "8       Male\n",
              "9       Male\n",
              "10      Male\n",
              "11      Male\n",
              "12      Male\n",
              "13      Male\n",
              "14      Male\n",
              "15      Male\n",
              "16      Male\n",
              "17      Male\n",
              "18      Male\n",
              "19      Male\n",
              "20      Male\n",
              "21      Male\n",
              "22      Male\n",
              "23      Male\n",
              "24      Male\n",
              "25      Male\n",
              "26      Male\n",
              "27      Male\n",
              "28      Male\n",
              "29      Male\n",
              "39    Female\n",
              "40    Female\n",
              "41    Female\n",
              "42    Female\n",
              "43    Female\n",
              "44    Female\n",
              "45    Female\n",
              "46    Female\n",
              "47    Female\n",
              "48    Female\n",
              "49    Female\n",
              "50    Female\n",
              "51    Female\n",
              "52    Female\n",
              "53    Female\n",
              "54    Female\n",
              "55    Female\n",
              "56    Female\n",
              "57    Female\n",
              "58    Female\n",
              "59    Female\n",
              "60    Female\n",
              "61    Female\n",
              "62    Female\n",
              "63    Female\n",
              "64    Female\n",
              "65    Female\n",
              "66    Female\n",
              "67    Female\n",
              "68    Female\n",
              "Name: sex, dtype: object"
            ]
          },
          "execution_count": 23,
          "metadata": {},
          "output_type": "execute_result"
        }
      ],
      "source": [
        "df_sex['sex'].head(30)"
      ]
    },
    {
      "cell_type": "code",
      "execution_count": null,
      "metadata": {
        "id": "IoQr7D6uQiZL",
        "outputId": "fef681ab-30d9-4a23-ccb9-51bbbeb79fc0"
      },
      "outputs": [
        {
          "data": {
            "text/plain": [
              "0    Male\n",
              "1    Male\n",
              "2    Male\n",
              "3    Male\n",
              "4    Male\n",
              "Name: sex, dtype: object"
            ]
          },
          "execution_count": 24,
          "metadata": {},
          "output_type": "execute_result"
        }
      ],
      "source": [
        "df.sex.head()"
      ]
    },
    {
      "cell_type": "code",
      "execution_count": null,
      "metadata": {
        "id": "Fp-Q4hQlQiZM",
        "outputId": "ad0cfa6a-0d25-4e7d-cde7-cfafe8a9fe1d"
      },
      "outputs": [
        {
          "data": {
            "text/plain": [
              "count        78.000000\n",
              "mean     108023.782051\n",
              "std       28293.661022\n",
              "min       57800.000000\n",
              "25%       88612.500000\n",
              "50%      104671.000000\n",
              "75%      126774.750000\n",
              "max      186960.000000\n",
              "Name: salary, dtype: float64"
            ]
          },
          "execution_count": 25,
          "metadata": {},
          "output_type": "execute_result"
        }
      ],
      "source": [
        "df['salary'].describe()"
      ]
    },
    {
      "cell_type": "code",
      "execution_count": null,
      "metadata": {
        "id": "8XIrzV1HQiZM",
        "outputId": "9e02d230-c9fa-4d86-b5f8-31f0c7cb0e82"
      },
      "outputs": [
        {
          "data": {
            "text/plain": [
              "78"
            ]
          },
          "execution_count": 26,
          "metadata": {},
          "output_type": "execute_result"
        }
      ],
      "source": [
        "df['salary'].count()"
      ]
    },
    {
      "cell_type": "code",
      "execution_count": null,
      "metadata": {
        "id": "jO_w11wFQiZM",
        "outputId": "42632b2e-96d8-496f-e7a1-a1fca400e6ee"
      },
      "outputs": [
        {
          "data": {
            "text/plain": [
              "108023.78205128205"
            ]
          },
          "execution_count": 27,
          "metadata": {},
          "output_type": "execute_result"
        }
      ],
      "source": [
        "df['salary'].mean()"
      ]
    },
    {
      "cell_type": "markdown",
      "metadata": {
        "id": "k_1oP0npQiZM"
      },
      "source": [
        "## Utilizando o GrouBy"
      ]
    },
    {
      "cell_type": "code",
      "execution_count": null,
      "metadata": {
        "id": "8nZrDJDaQiZN"
      },
      "outputs": [],
      "source": [
        "df_rank = df.groupby('rank')"
      ]
    },
    {
      "cell_type": "code",
      "execution_count": null,
      "metadata": {
        "id": "3Ld-RUiWQiZN",
        "outputId": "c67af3cb-02ea-49d6-f5de-553a67f0564d"
      },
      "outputs": [
        {
          "data": {
            "text/html": [
              "<div>\n",
              "<style scoped>\n",
              "    .dataframe tbody tr th:only-of-type {\n",
              "        vertical-align: middle;\n",
              "    }\n",
              "\n",
              "    .dataframe tbody tr th {\n",
              "        vertical-align: top;\n",
              "    }\n",
              "\n",
              "    .dataframe thead th {\n",
              "        text-align: right;\n",
              "    }\n",
              "</style>\n",
              "<table border=\"1\" class=\"dataframe\">\n",
              "  <thead>\n",
              "    <tr style=\"text-align: right;\">\n",
              "      <th></th>\n",
              "      <th>phd</th>\n",
              "      <th>service</th>\n",
              "      <th>salary</th>\n",
              "    </tr>\n",
              "    <tr>\n",
              "      <th>rank</th>\n",
              "      <th></th>\n",
              "      <th></th>\n",
              "      <th></th>\n",
              "    </tr>\n",
              "  </thead>\n",
              "  <tbody>\n",
              "    <tr>\n",
              "      <th>AssocProf</th>\n",
              "      <td>15.076923</td>\n",
              "      <td>11.307692</td>\n",
              "      <td>91786.230769</td>\n",
              "    </tr>\n",
              "    <tr>\n",
              "      <th>AsstProf</th>\n",
              "      <td>5.052632</td>\n",
              "      <td>2.210526</td>\n",
              "      <td>81362.789474</td>\n",
              "    </tr>\n",
              "    <tr>\n",
              "      <th>Prof</th>\n",
              "      <td>27.065217</td>\n",
              "      <td>21.413043</td>\n",
              "      <td>123624.804348</td>\n",
              "    </tr>\n",
              "  </tbody>\n",
              "</table>\n",
              "</div>"
            ],
            "text/plain": [
              "                 phd    service         salary\n",
              "rank                                          \n",
              "AssocProf  15.076923  11.307692   91786.230769\n",
              "AsstProf    5.052632   2.210526   81362.789474\n",
              "Prof       27.065217  21.413043  123624.804348"
            ]
          },
          "execution_count": 29,
          "metadata": {},
          "output_type": "execute_result"
        }
      ],
      "source": [
        "df_rank.mean()"
      ]
    },
    {
      "cell_type": "code",
      "execution_count": null,
      "metadata": {
        "id": "FaTyX0kfQiZN",
        "outputId": "2e6f9fb2-c7bb-45a6-ddad-82018f0fb133"
      },
      "outputs": [
        {
          "data": {
            "text/plain": [
              "sex\n",
              "Female    101002.410256\n",
              "Male      115045.153846\n",
              "Name: salary, dtype: float64"
            ]
          },
          "execution_count": 30,
          "metadata": {},
          "output_type": "execute_result"
        }
      ],
      "source": [
        "df.groupby('sex')['salary'].mean()"
      ]
    },
    {
      "cell_type": "code",
      "execution_count": null,
      "metadata": {
        "id": "FjjcEG9mQiZN",
        "outputId": "dc0a2b87-c9ff-4321-c063-d1f19c29608a"
      },
      "outputs": [
        {
          "data": {
            "text/html": [
              "<div>\n",
              "<style scoped>\n",
              "    .dataframe tbody tr th:only-of-type {\n",
              "        vertical-align: middle;\n",
              "    }\n",
              "\n",
              "    .dataframe tbody tr th {\n",
              "        vertical-align: top;\n",
              "    }\n",
              "\n",
              "    .dataframe thead th {\n",
              "        text-align: right;\n",
              "    }\n",
              "</style>\n",
              "<table border=\"1\" class=\"dataframe\">\n",
              "  <thead>\n",
              "    <tr style=\"text-align: right;\">\n",
              "      <th></th>\n",
              "      <th>salary</th>\n",
              "    </tr>\n",
              "    <tr>\n",
              "      <th>sex</th>\n",
              "      <th></th>\n",
              "    </tr>\n",
              "  </thead>\n",
              "  <tbody>\n",
              "    <tr>\n",
              "      <th>Female</th>\n",
              "      <td>101002.410256</td>\n",
              "    </tr>\n",
              "    <tr>\n",
              "      <th>Male</th>\n",
              "      <td>115045.153846</td>\n",
              "    </tr>\n",
              "  </tbody>\n",
              "</table>\n",
              "</div>"
            ],
            "text/plain": [
              "               salary\n",
              "sex                  \n",
              "Female  101002.410256\n",
              "Male    115045.153846"
            ]
          },
          "execution_count": 31,
          "metadata": {},
          "output_type": "execute_result"
        }
      ],
      "source": [
        "df.groupby('sex')[['salary']].mean()"
      ]
    },
    {
      "cell_type": "code",
      "execution_count": null,
      "metadata": {
        "id": "e-N0xunIQiZN",
        "outputId": "02ce5b6d-1f36-439a-e227-9a4bf2b1dcfa"
      },
      "outputs": [
        {
          "data": {
            "text/html": [
              "<div>\n",
              "<style scoped>\n",
              "    .dataframe tbody tr th:only-of-type {\n",
              "        vertical-align: middle;\n",
              "    }\n",
              "\n",
              "    .dataframe tbody tr th {\n",
              "        vertical-align: top;\n",
              "    }\n",
              "\n",
              "    .dataframe thead th {\n",
              "        text-align: right;\n",
              "    }\n",
              "</style>\n",
              "<table border=\"1\" class=\"dataframe\">\n",
              "  <thead>\n",
              "    <tr style=\"text-align: right;\">\n",
              "      <th></th>\n",
              "      <th></th>\n",
              "      <th>salary</th>\n",
              "    </tr>\n",
              "    <tr>\n",
              "      <th>sex</th>\n",
              "      <th>rank</th>\n",
              "      <th></th>\n",
              "    </tr>\n",
              "  </thead>\n",
              "  <tbody>\n",
              "    <tr>\n",
              "      <th rowspan=\"3\" valign=\"top\">Female</th>\n",
              "      <th>AssocProf</th>\n",
              "      <td>88512.800000</td>\n",
              "    </tr>\n",
              "    <tr>\n",
              "      <th>AsstProf</th>\n",
              "      <td>78049.909091</td>\n",
              "    </tr>\n",
              "    <tr>\n",
              "      <th>Prof</th>\n",
              "      <td>121967.611111</td>\n",
              "    </tr>\n",
              "    <tr>\n",
              "      <th rowspan=\"3\" valign=\"top\">Male</th>\n",
              "      <th>AssocProf</th>\n",
              "      <td>102697.666667</td>\n",
              "    </tr>\n",
              "    <tr>\n",
              "      <th>AsstProf</th>\n",
              "      <td>85918.000000</td>\n",
              "    </tr>\n",
              "    <tr>\n",
              "      <th>Prof</th>\n",
              "      <td>124690.142857</td>\n",
              "    </tr>\n",
              "  </tbody>\n",
              "</table>\n",
              "</div>"
            ],
            "text/plain": [
              "                         salary\n",
              "sex    rank                    \n",
              "Female AssocProf   88512.800000\n",
              "       AsstProf    78049.909091\n",
              "       Prof       121967.611111\n",
              "Male   AssocProf  102697.666667\n",
              "       AsstProf    85918.000000\n",
              "       Prof       124690.142857"
            ]
          },
          "execution_count": 32,
          "metadata": {},
          "output_type": "execute_result"
        }
      ],
      "source": [
        "df.groupby(['sex','rank'], sort=True)[['salary']].mean()"
      ]
    },
    {
      "cell_type": "code",
      "execution_count": null,
      "metadata": {
        "id": "dOdGWAoAQiZN",
        "outputId": "bc404e2a-1648-48f9-cd46-946b18e9f726"
      },
      "outputs": [
        {
          "data": {
            "text/plain": [
              "discipline\n",
              "A     98331.111111\n",
              "B    116331.785714\n",
              "Name: salary, dtype: float64"
            ]
          },
          "execution_count": 33,
          "metadata": {},
          "output_type": "execute_result"
        }
      ],
      "source": [
        "df.groupby('discipline')['salary'].mean()"
      ]
    },
    {
      "cell_type": "markdown",
      "metadata": {
        "id": "BIzFk_MmQiZO"
      },
      "source": [
        "## Filtrando Dados"
      ]
    },
    {
      "cell_type": "code",
      "execution_count": 1,
      "metadata": {
        "colab": {
          "base_uri": "https://localhost:8080/",
          "height": 200
        },
        "id": "C-f8B6vuQiZO",
        "outputId": "8c241df6-dca8-44e6-c463-80931da863f9"
      },
      "outputs": [
        {
          "output_type": "error",
          "ename": "NameError",
          "evalue": "ignored",
          "traceback": [
            "\u001b[0;31m---------------------------------------------------------------------------\u001b[0m",
            "\u001b[0;31mNameError\u001b[0m                                 Traceback (most recent call last)",
            "\u001b[0;32m<ipython-input-1-8c0c0a57dac0>\u001b[0m in \u001b[0;36m<module>\u001b[0;34m\u001b[0m\n\u001b[1;32m      1\u001b[0m \u001b[0;31m# Seleção e observação com valores de salário > 120000\u001b[0m\u001b[0;34m\u001b[0m\u001b[0;34m\u001b[0m\u001b[0;34m\u001b[0m\u001b[0m\n\u001b[0;32m----> 2\u001b[0;31m \u001b[0mdf_sub\u001b[0m \u001b[0;34m=\u001b[0m \u001b[0mdf\u001b[0m\u001b[0;34m[\u001b[0m \u001b[0mdf\u001b[0m\u001b[0;34m[\u001b[0m\u001b[0;34m'salary'\u001b[0m\u001b[0;34m]\u001b[0m \u001b[0;34m>\u001b[0m \u001b[0;36m120000\u001b[0m\u001b[0;34m]\u001b[0m\u001b[0;34m\u001b[0m\u001b[0;34m\u001b[0m\u001b[0m\n\u001b[0m\u001b[1;32m      3\u001b[0m \u001b[0mdf_sub\u001b[0m\u001b[0;34m.\u001b[0m\u001b[0mhead\u001b[0m\u001b[0;34m(\u001b[0m\u001b[0;34m)\u001b[0m\u001b[0;34m\u001b[0m\u001b[0;34m\u001b[0m\u001b[0m\n",
            "\u001b[0;31mNameError\u001b[0m: name 'df' is not defined"
          ]
        }
      ],
      "source": [
        "# Seleção e observação com valores de salário > 120000\n",
        "df_sub = df[ df['salary'] > 120000]\n",
        "df_sub.head()"
      ]
    },
    {
      "cell_type": "code",
      "execution_count": null,
      "metadata": {
        "id": "RJKSzw8RQiZO"
      },
      "outputs": [],
      "source": [
        "# Seleção dos dados para professores do sexo feminino\n",
        "df_w = df[ df['sex'] == 'Female']\n",
        "df_w.head(20)"
      ]
    },
    {
      "cell_type": "code",
      "execution_count": null,
      "metadata": {
        "id": "nWBdMJ91QiZO"
      },
      "outputs": [],
      "source": [
        "# Exercícios"
      ]
    },
    {
      "cell_type": "code",
      "execution_count": null,
      "metadata": {
        "id": "Tjjx2M_TQiZO"
      },
      "outputs": [],
      "source": [
        "# Usando Filtros, localizando a média dos valores do salário por disciplina.\n",
        "df[df['discipline'] == 'A']['salary'].mean()"
      ]
    },
    {
      "cell_type": "code",
      "execution_count": null,
      "metadata": {
        "id": "MPhiJLiqQiZP"
      },
      "outputs": [],
      "source": [
        "# Mudança\n",
        "# Extração (Filtro) somente para observações com salários acima de 100K e localização com sexo feminino e masculino para professor de forma agrupada\n",
        "df[df['salary'] > 120000].groupby('sex')['salary'].count()"
      ]
    },
    {
      "cell_type": "markdown",
      "metadata": {
        "id": "bdjO32C5QiZP"
      },
      "source": [
        "## Mais Slicing de Dados com DataSet"
      ]
    },
    {
      "cell_type": "code",
      "execution_count": null,
      "metadata": {
        "id": "2K8dPe7lQiZP"
      },
      "outputs": [],
      "source": [
        "# Seleção da coluna Salário..\n",
        "df1 = df['salary']"
      ]
    },
    {
      "cell_type": "code",
      "execution_count": null,
      "metadata": {
        "id": "u2y3jkb0QiZP",
        "outputId": "a2171f33-727d-4a99-de69-688c53eb4715"
      },
      "outputs": [
        {
          "data": {
            "text/plain": [
              "pandas.core.series.Series"
            ]
          },
          "execution_count": 40,
          "metadata": {},
          "output_type": "execute_result"
        }
      ],
      "source": [
        "# Checando o tipo de dados do resultado\n",
        "type(df1)"
      ]
    },
    {
      "cell_type": "code",
      "execution_count": null,
      "metadata": {
        "id": "G2MRwj6lQiZQ",
        "outputId": "6a266eb9-8f84-406f-aecd-f42b9ee44bbb"
      },
      "outputs": [
        {
          "data": {
            "text/plain": [
              "0    186960\n",
              "1     93000\n",
              "2    110515\n",
              "3    131205\n",
              "4    104800\n",
              "Name: salary, dtype: int64"
            ]
          },
          "execution_count": 41,
          "metadata": {},
          "output_type": "execute_result"
        }
      ],
      "source": [
        "# Verificando os primeiros elementos de saída\n",
        "df1.head()"
      ]
    },
    {
      "cell_type": "code",
      "execution_count": null,
      "metadata": {
        "id": "L4ridm1BQiZQ"
      },
      "outputs": [],
      "source": [
        "# Seleção da Coluna Salário e saída para o objeto Data Frame\n",
        "df2 = df[['salary']]"
      ]
    },
    {
      "cell_type": "code",
      "execution_count": null,
      "metadata": {
        "id": "QbENFBoqQiZQ",
        "outputId": "fe42255d-febb-4373-9bdc-d5b1b7a591bb"
      },
      "outputs": [
        {
          "data": {
            "text/plain": [
              "pandas.core.frame.DataFrame"
            ]
          },
          "execution_count": 43,
          "metadata": {},
          "output_type": "execute_result"
        }
      ],
      "source": [
        "# Checando o tipo de dados do resultado\n",
        "type(df2)"
      ]
    },
    {
      "cell_type": "code",
      "execution_count": null,
      "metadata": {
        "id": "6BUtHmsWQiZQ",
        "outputId": "cc9ce423-8f5a-4764-9b8d-0ca06adb0ead"
      },
      "outputs": [
        {
          "data": {
            "text/html": [
              "<div>\n",
              "<style scoped>\n",
              "    .dataframe tbody tr th:only-of-type {\n",
              "        vertical-align: middle;\n",
              "    }\n",
              "\n",
              "    .dataframe tbody tr th {\n",
              "        vertical-align: top;\n",
              "    }\n",
              "\n",
              "    .dataframe thead th {\n",
              "        text-align: right;\n",
              "    }\n",
              "</style>\n",
              "<table border=\"1\" class=\"dataframe\">\n",
              "  <thead>\n",
              "    <tr style=\"text-align: right;\">\n",
              "      <th></th>\n",
              "      <th>rank</th>\n",
              "      <th>discipline</th>\n",
              "      <th>phd</th>\n",
              "      <th>service</th>\n",
              "      <th>sex</th>\n",
              "      <th>salary</th>\n",
              "    </tr>\n",
              "  </thead>\n",
              "  <tbody>\n",
              "    <tr>\n",
              "      <th>0</th>\n",
              "      <td>Prof</td>\n",
              "      <td>B</td>\n",
              "      <td>56</td>\n",
              "      <td>49</td>\n",
              "      <td>Male</td>\n",
              "      <td>186960</td>\n",
              "    </tr>\n",
              "    <tr>\n",
              "      <th>1</th>\n",
              "      <td>Prof</td>\n",
              "      <td>A</td>\n",
              "      <td>12</td>\n",
              "      <td>6</td>\n",
              "      <td>Male</td>\n",
              "      <td>93000</td>\n",
              "    </tr>\n",
              "    <tr>\n",
              "      <th>2</th>\n",
              "      <td>Prof</td>\n",
              "      <td>A</td>\n",
              "      <td>23</td>\n",
              "      <td>20</td>\n",
              "      <td>Male</td>\n",
              "      <td>110515</td>\n",
              "    </tr>\n",
              "    <tr>\n",
              "      <th>3</th>\n",
              "      <td>Prof</td>\n",
              "      <td>A</td>\n",
              "      <td>40</td>\n",
              "      <td>31</td>\n",
              "      <td>Male</td>\n",
              "      <td>131205</td>\n",
              "    </tr>\n",
              "    <tr>\n",
              "      <th>4</th>\n",
              "      <td>Prof</td>\n",
              "      <td>B</td>\n",
              "      <td>20</td>\n",
              "      <td>18</td>\n",
              "      <td>Male</td>\n",
              "      <td>104800</td>\n",
              "    </tr>\n",
              "    <tr>\n",
              "      <th>5</th>\n",
              "      <td>Prof</td>\n",
              "      <td>A</td>\n",
              "      <td>20</td>\n",
              "      <td>20</td>\n",
              "      <td>Male</td>\n",
              "      <td>122400</td>\n",
              "    </tr>\n",
              "    <tr>\n",
              "      <th>6</th>\n",
              "      <td>AssocProf</td>\n",
              "      <td>A</td>\n",
              "      <td>20</td>\n",
              "      <td>17</td>\n",
              "      <td>Male</td>\n",
              "      <td>81285</td>\n",
              "    </tr>\n",
              "    <tr>\n",
              "      <th>7</th>\n",
              "      <td>Prof</td>\n",
              "      <td>A</td>\n",
              "      <td>18</td>\n",
              "      <td>18</td>\n",
              "      <td>Male</td>\n",
              "      <td>126300</td>\n",
              "    </tr>\n",
              "    <tr>\n",
              "      <th>8</th>\n",
              "      <td>Prof</td>\n",
              "      <td>A</td>\n",
              "      <td>29</td>\n",
              "      <td>19</td>\n",
              "      <td>Male</td>\n",
              "      <td>94350</td>\n",
              "    </tr>\n",
              "    <tr>\n",
              "      <th>9</th>\n",
              "      <td>Prof</td>\n",
              "      <td>A</td>\n",
              "      <td>51</td>\n",
              "      <td>51</td>\n",
              "      <td>Male</td>\n",
              "      <td>57800</td>\n",
              "    </tr>\n",
              "  </tbody>\n",
              "</table>\n",
              "</div>"
            ],
            "text/plain": [
              "        rank discipline  phd  service   sex  salary\n",
              "0       Prof          B   56       49  Male  186960\n",
              "1       Prof          A   12        6  Male   93000\n",
              "2       Prof          A   23       20  Male  110515\n",
              "3       Prof          A   40       31  Male  131205\n",
              "4       Prof          B   20       18  Male  104800\n",
              "5       Prof          A   20       20  Male  122400\n",
              "6  AssocProf          A   20       17  Male   81285\n",
              "7       Prof          A   18       18  Male  126300\n",
              "8       Prof          A   29       19  Male   94350\n",
              "9       Prof          A   51       51  Male   57800"
            ]
          },
          "execution_count": 44,
          "metadata": {},
          "output_type": "execute_result"
        }
      ],
      "source": [
        "#Select a subset of rows (based on their position):\n",
        "# Note 1: The location of the first row is 0\n",
        "# Note 2: The last value in the range is not included\n",
        "df[0:10]"
      ]
    },
    {
      "cell_type": "code",
      "execution_count": null,
      "metadata": {
        "id": "iwCRPtXaQiZQ",
        "outputId": "890fc5b1-d00b-48ec-b62b-c419d522cbe4"
      },
      "outputs": [
        {
          "data": {
            "text/html": [
              "<div>\n",
              "<style scoped>\n",
              "    .dataframe tbody tr th:only-of-type {\n",
              "        vertical-align: middle;\n",
              "    }\n",
              "\n",
              "    .dataframe tbody tr th {\n",
              "        vertical-align: top;\n",
              "    }\n",
              "\n",
              "    .dataframe thead th {\n",
              "        text-align: right;\n",
              "    }\n",
              "</style>\n",
              "<table border=\"1\" class=\"dataframe\">\n",
              "  <thead>\n",
              "    <tr style=\"text-align: right;\">\n",
              "      <th></th>\n",
              "      <th>rank</th>\n",
              "      <th>sex</th>\n",
              "      <th>salary</th>\n",
              "    </tr>\n",
              "  </thead>\n",
              "  <tbody>\n",
              "    <tr>\n",
              "      <th>10</th>\n",
              "      <td>Prof</td>\n",
              "      <td>Male</td>\n",
              "      <td>128250</td>\n",
              "    </tr>\n",
              "    <tr>\n",
              "      <th>11</th>\n",
              "      <td>Prof</td>\n",
              "      <td>Male</td>\n",
              "      <td>134778</td>\n",
              "    </tr>\n",
              "    <tr>\n",
              "      <th>12</th>\n",
              "      <td>AsstProf</td>\n",
              "      <td>Male</td>\n",
              "      <td>88000</td>\n",
              "    </tr>\n",
              "    <tr>\n",
              "      <th>13</th>\n",
              "      <td>Prof</td>\n",
              "      <td>Male</td>\n",
              "      <td>162200</td>\n",
              "    </tr>\n",
              "    <tr>\n",
              "      <th>14</th>\n",
              "      <td>Prof</td>\n",
              "      <td>Male</td>\n",
              "      <td>153750</td>\n",
              "    </tr>\n",
              "    <tr>\n",
              "      <th>15</th>\n",
              "      <td>Prof</td>\n",
              "      <td>Male</td>\n",
              "      <td>150480</td>\n",
              "    </tr>\n",
              "    <tr>\n",
              "      <th>16</th>\n",
              "      <td>AsstProf</td>\n",
              "      <td>Male</td>\n",
              "      <td>75044</td>\n",
              "    </tr>\n",
              "    <tr>\n",
              "      <th>17</th>\n",
              "      <td>AsstProf</td>\n",
              "      <td>Male</td>\n",
              "      <td>92000</td>\n",
              "    </tr>\n",
              "    <tr>\n",
              "      <th>18</th>\n",
              "      <td>Prof</td>\n",
              "      <td>Male</td>\n",
              "      <td>107300</td>\n",
              "    </tr>\n",
              "    <tr>\n",
              "      <th>19</th>\n",
              "      <td>Prof</td>\n",
              "      <td>Male</td>\n",
              "      <td>150500</td>\n",
              "    </tr>\n",
              "    <tr>\n",
              "      <th>20</th>\n",
              "      <td>AsstProf</td>\n",
              "      <td>Male</td>\n",
              "      <td>92000</td>\n",
              "    </tr>\n",
              "  </tbody>\n",
              "</table>\n",
              "</div>"
            ],
            "text/plain": [
              "        rank   sex  salary\n",
              "10      Prof  Male  128250\n",
              "11      Prof  Male  134778\n",
              "12  AsstProf  Male   88000\n",
              "13      Prof  Male  162200\n",
              "14      Prof  Male  153750\n",
              "15      Prof  Male  150480\n",
              "16  AsstProf  Male   75044\n",
              "17  AsstProf  Male   92000\n",
              "18      Prof  Male  107300\n",
              "19      Prof  Male  150500\n",
              "20  AsstProf  Male   92000"
            ]
          },
          "execution_count": 45,
          "metadata": {},
          "output_type": "execute_result"
        }
      ],
      "source": [
        "# Aplicando os valores das linhas e colunas, usando o método .loc\n",
        "df.loc[10:20,['rank', 'sex','salary']]"
      ]
    },
    {
      "cell_type": "code",
      "execution_count": null,
      "metadata": {
        "id": "uIAsVd32QiZQ",
        "outputId": "96d4fcc0-4e12-4fba-bcad-d2c199b15549"
      },
      "outputs": [
        {
          "data": {
            "text/html": [
              "<div>\n",
              "<style scoped>\n",
              "    .dataframe tbody tr th:only-of-type {\n",
              "        vertical-align: middle;\n",
              "    }\n",
              "\n",
              "    .dataframe tbody tr th {\n",
              "        vertical-align: top;\n",
              "    }\n",
              "\n",
              "    .dataframe thead th {\n",
              "        text-align: right;\n",
              "    }\n",
              "</style>\n",
              "<table border=\"1\" class=\"dataframe\">\n",
              "  <thead>\n",
              "    <tr style=\"text-align: right;\">\n",
              "      <th></th>\n",
              "      <th>rank</th>\n",
              "      <th>sex</th>\n",
              "      <th>salary</th>\n",
              "    </tr>\n",
              "  </thead>\n",
              "  <tbody>\n",
              "    <tr>\n",
              "      <th>10</th>\n",
              "      <td>Prof</td>\n",
              "      <td>Male</td>\n",
              "      <td>128250</td>\n",
              "    </tr>\n",
              "    <tr>\n",
              "      <th>11</th>\n",
              "      <td>Prof</td>\n",
              "      <td>Male</td>\n",
              "      <td>134778</td>\n",
              "    </tr>\n",
              "    <tr>\n",
              "      <th>13</th>\n",
              "      <td>Prof</td>\n",
              "      <td>Male</td>\n",
              "      <td>162200</td>\n",
              "    </tr>\n",
              "    <tr>\n",
              "      <th>14</th>\n",
              "      <td>Prof</td>\n",
              "      <td>Male</td>\n",
              "      <td>153750</td>\n",
              "    </tr>\n",
              "    <tr>\n",
              "      <th>15</th>\n",
              "      <td>Prof</td>\n",
              "      <td>Male</td>\n",
              "      <td>150480</td>\n",
              "    </tr>\n",
              "    <tr>\n",
              "      <th>19</th>\n",
              "      <td>Prof</td>\n",
              "      <td>Male</td>\n",
              "      <td>150500</td>\n",
              "    </tr>\n",
              "  </tbody>\n",
              "</table>\n",
              "</div>"
            ],
            "text/plain": [
              "    rank   sex  salary\n",
              "10  Prof  Male  128250\n",
              "11  Prof  Male  134778\n",
              "13  Prof  Male  162200\n",
              "14  Prof  Male  153750\n",
              "15  Prof  Male  150480\n",
              "19  Prof  Male  150500"
            ]
          },
          "execution_count": 46,
          "metadata": {},
          "output_type": "execute_result"
        }
      ],
      "source": [
        "# Verificando o que foi obtida para o DataFrame df_sub \n",
        "# Método .loc subconjunto do data frame baseado nos rótulos de dados:\n",
        "df_sub.loc[10:20,['rank','sex','salary']]"
      ]
    },
    {
      "cell_type": "code",
      "execution_count": null,
      "metadata": {
        "id": "JBUt3rtjQiZR",
        "outputId": "ffcdd11b-70c8-45f7-8473-e368270ed7f3"
      },
      "outputs": [
        {
          "data": {
            "text/html": [
              "<div>\n",
              "<style scoped>\n",
              "    .dataframe tbody tr th:only-of-type {\n",
              "        vertical-align: middle;\n",
              "    }\n",
              "\n",
              "    .dataframe tbody tr th {\n",
              "        vertical-align: top;\n",
              "    }\n",
              "\n",
              "    .dataframe thead th {\n",
              "        text-align: right;\n",
              "    }\n",
              "</style>\n",
              "<table border=\"1\" class=\"dataframe\">\n",
              "  <thead>\n",
              "    <tr style=\"text-align: right;\">\n",
              "      <th></th>\n",
              "      <th>rank</th>\n",
              "      <th>service</th>\n",
              "      <th>sex</th>\n",
              "      <th>salary</th>\n",
              "    </tr>\n",
              "  </thead>\n",
              "  <tbody>\n",
              "    <tr>\n",
              "      <th>26</th>\n",
              "      <td>Prof</td>\n",
              "      <td>19</td>\n",
              "      <td>Male</td>\n",
              "      <td>148750</td>\n",
              "    </tr>\n",
              "    <tr>\n",
              "      <th>27</th>\n",
              "      <td>Prof</td>\n",
              "      <td>43</td>\n",
              "      <td>Male</td>\n",
              "      <td>155865</td>\n",
              "    </tr>\n",
              "    <tr>\n",
              "      <th>29</th>\n",
              "      <td>Prof</td>\n",
              "      <td>20</td>\n",
              "      <td>Male</td>\n",
              "      <td>123683</td>\n",
              "    </tr>\n",
              "    <tr>\n",
              "      <th>31</th>\n",
              "      <td>Prof</td>\n",
              "      <td>21</td>\n",
              "      <td>Male</td>\n",
              "      <td>155750</td>\n",
              "    </tr>\n",
              "    <tr>\n",
              "      <th>35</th>\n",
              "      <td>Prof</td>\n",
              "      <td>23</td>\n",
              "      <td>Male</td>\n",
              "      <td>126933</td>\n",
              "    </tr>\n",
              "    <tr>\n",
              "      <th>36</th>\n",
              "      <td>Prof</td>\n",
              "      <td>45</td>\n",
              "      <td>Male</td>\n",
              "      <td>146856</td>\n",
              "    </tr>\n",
              "    <tr>\n",
              "      <th>39</th>\n",
              "      <td>Prof</td>\n",
              "      <td>18</td>\n",
              "      <td>Female</td>\n",
              "      <td>129000</td>\n",
              "    </tr>\n",
              "    <tr>\n",
              "      <th>40</th>\n",
              "      <td>Prof</td>\n",
              "      <td>36</td>\n",
              "      <td>Female</td>\n",
              "      <td>137000</td>\n",
              "    </tr>\n",
              "    <tr>\n",
              "      <th>44</th>\n",
              "      <td>Prof</td>\n",
              "      <td>19</td>\n",
              "      <td>Female</td>\n",
              "      <td>151768</td>\n",
              "    </tr>\n",
              "    <tr>\n",
              "      <th>45</th>\n",
              "      <td>Prof</td>\n",
              "      <td>25</td>\n",
              "      <td>Female</td>\n",
              "      <td>140096</td>\n",
              "    </tr>\n",
              "  </tbody>\n",
              "</table>\n",
              "</div>"
            ],
            "text/plain": [
              "    rank  service     sex  salary\n",
              "26  Prof       19    Male  148750\n",
              "27  Prof       43    Male  155865\n",
              "29  Prof       20    Male  123683\n",
              "31  Prof       21    Male  155750\n",
              "35  Prof       23    Male  126933\n",
              "36  Prof       45    Male  146856\n",
              "39  Prof       18  Female  129000\n",
              "40  Prof       36  Female  137000\n",
              "44  Prof       19  Female  151768\n",
              "45  Prof       25  Female  140096"
            ]
          },
          "execution_count": 47,
          "metadata": {},
          "output_type": "execute_result"
        }
      ],
      "source": [
        "#  Ao contrário do método .loc, o método .iloc seleciona linhas e colunas por posição:\n",
        "df_sub.iloc[10:20, [0,3,4,5]]"
      ]
    },
    {
      "cell_type": "markdown",
      "metadata": {
        "id": "4qbIU-GLQiZR"
      },
      "source": [
        "## Ordenação dos Dados"
      ]
    },
    {
      "cell_type": "code",
      "execution_count": null,
      "metadata": {
        "id": "slAPnT9bQiZR",
        "outputId": "4cbb808f-347d-4338-9371-79ea0a065106"
      },
      "outputs": [
        {
          "data": {
            "text/html": [
              "<div>\n",
              "<style scoped>\n",
              "    .dataframe tbody tr th:only-of-type {\n",
              "        vertical-align: middle;\n",
              "    }\n",
              "\n",
              "    .dataframe tbody tr th {\n",
              "        vertical-align: top;\n",
              "    }\n",
              "\n",
              "    .dataframe thead th {\n",
              "        text-align: right;\n",
              "    }\n",
              "</style>\n",
              "<table border=\"1\" class=\"dataframe\">\n",
              "  <thead>\n",
              "    <tr style=\"text-align: right;\">\n",
              "      <th></th>\n",
              "      <th>rank</th>\n",
              "      <th>discipline</th>\n",
              "      <th>phd</th>\n",
              "      <th>service</th>\n",
              "      <th>sex</th>\n",
              "      <th>salary</th>\n",
              "    </tr>\n",
              "  </thead>\n",
              "  <tbody>\n",
              "    <tr>\n",
              "      <th>55</th>\n",
              "      <td>AsstProf</td>\n",
              "      <td>A</td>\n",
              "      <td>2</td>\n",
              "      <td>0</td>\n",
              "      <td>Female</td>\n",
              "      <td>72500</td>\n",
              "    </tr>\n",
              "    <tr>\n",
              "      <th>23</th>\n",
              "      <td>AsstProf</td>\n",
              "      <td>A</td>\n",
              "      <td>2</td>\n",
              "      <td>0</td>\n",
              "      <td>Male</td>\n",
              "      <td>85000</td>\n",
              "    </tr>\n",
              "    <tr>\n",
              "      <th>43</th>\n",
              "      <td>AsstProf</td>\n",
              "      <td>B</td>\n",
              "      <td>5</td>\n",
              "      <td>0</td>\n",
              "      <td>Female</td>\n",
              "      <td>77000</td>\n",
              "    </tr>\n",
              "    <tr>\n",
              "      <th>17</th>\n",
              "      <td>AsstProf</td>\n",
              "      <td>B</td>\n",
              "      <td>4</td>\n",
              "      <td>0</td>\n",
              "      <td>Male</td>\n",
              "      <td>92000</td>\n",
              "    </tr>\n",
              "    <tr>\n",
              "      <th>12</th>\n",
              "      <td>AsstProf</td>\n",
              "      <td>B</td>\n",
              "      <td>1</td>\n",
              "      <td>0</td>\n",
              "      <td>Male</td>\n",
              "      <td>88000</td>\n",
              "    </tr>\n",
              "  </tbody>\n",
              "</table>\n",
              "</div>"
            ],
            "text/plain": [
              "        rank discipline  phd  service     sex  salary\n",
              "55  AsstProf          A    2        0  Female   72500\n",
              "23  AsstProf          A    2        0    Male   85000\n",
              "43  AsstProf          B    5        0  Female   77000\n",
              "17  AsstProf          B    4        0    Male   92000\n",
              "12  AsstProf          B    1        0    Male   88000"
            ]
          },
          "execution_count": 48,
          "metadata": {},
          "output_type": "execute_result"
        }
      ],
      "source": [
        "# Ordenar o quadro de dados por yrs.service e depois criar um novo quadro de dados\n",
        "df_sorted = df.sort_values(by = 'service')\n",
        "df_sorted.head()"
      ]
    },
    {
      "cell_type": "code",
      "execution_count": null,
      "metadata": {
        "id": "DL87QzN9QiZR",
        "outputId": "cf7f7c14-dbeb-4d8a-e5ba-a9ea958f7cef"
      },
      "outputs": [
        {
          "data": {
            "text/html": [
              "<div>\n",
              "<style scoped>\n",
              "    .dataframe tbody tr th:only-of-type {\n",
              "        vertical-align: middle;\n",
              "    }\n",
              "\n",
              "    .dataframe tbody tr th {\n",
              "        vertical-align: top;\n",
              "    }\n",
              "\n",
              "    .dataframe thead th {\n",
              "        text-align: right;\n",
              "    }\n",
              "</style>\n",
              "<table border=\"1\" class=\"dataframe\">\n",
              "  <thead>\n",
              "    <tr style=\"text-align: right;\">\n",
              "      <th></th>\n",
              "      <th>rank</th>\n",
              "      <th>discipline</th>\n",
              "      <th>phd</th>\n",
              "      <th>service</th>\n",
              "      <th>sex</th>\n",
              "      <th>salary</th>\n",
              "    </tr>\n",
              "  </thead>\n",
              "  <tbody>\n",
              "    <tr>\n",
              "      <th>9</th>\n",
              "      <td>Prof</td>\n",
              "      <td>A</td>\n",
              "      <td>51</td>\n",
              "      <td>51</td>\n",
              "      <td>Male</td>\n",
              "      <td>57800</td>\n",
              "    </tr>\n",
              "    <tr>\n",
              "      <th>0</th>\n",
              "      <td>Prof</td>\n",
              "      <td>B</td>\n",
              "      <td>56</td>\n",
              "      <td>49</td>\n",
              "      <td>Male</td>\n",
              "      <td>186960</td>\n",
              "    </tr>\n",
              "    <tr>\n",
              "      <th>36</th>\n",
              "      <td>Prof</td>\n",
              "      <td>B</td>\n",
              "      <td>45</td>\n",
              "      <td>45</td>\n",
              "      <td>Male</td>\n",
              "      <td>146856</td>\n",
              "    </tr>\n",
              "    <tr>\n",
              "      <th>27</th>\n",
              "      <td>Prof</td>\n",
              "      <td>A</td>\n",
              "      <td>45</td>\n",
              "      <td>43</td>\n",
              "      <td>Male</td>\n",
              "      <td>155865</td>\n",
              "    </tr>\n",
              "    <tr>\n",
              "      <th>40</th>\n",
              "      <td>Prof</td>\n",
              "      <td>A</td>\n",
              "      <td>39</td>\n",
              "      <td>36</td>\n",
              "      <td>Female</td>\n",
              "      <td>137000</td>\n",
              "    </tr>\n",
              "  </tbody>\n",
              "</table>\n",
              "</div>"
            ],
            "text/plain": [
              "    rank discipline  phd  service     sex  salary\n",
              "9   Prof          A   51       51    Male   57800\n",
              "0   Prof          B   56       49    Male  186960\n",
              "36  Prof          B   45       45    Male  146856\n",
              "27  Prof          A   45       43    Male  155865\n",
              "40  Prof          A   39       36  Female  137000"
            ]
          },
          "execution_count": 49,
          "metadata": {},
          "output_type": "execute_result"
        }
      ],
      "source": [
        "# Ordenar o Data Frame por by yrs.service and subscrever o original dataset\n",
        "df.sort_values(by = 'service', ascending = False, inplace = True)\n",
        "df.head()"
      ]
    },
    {
      "cell_type": "code",
      "execution_count": null,
      "metadata": {
        "id": "Z8ISv7hMQiZR",
        "outputId": "869423fd-5154-49d5-8047-0974995e1632"
      },
      "outputs": [
        {
          "data": {
            "text/html": [
              "<div>\n",
              "<style scoped>\n",
              "    .dataframe tbody tr th:only-of-type {\n",
              "        vertical-align: middle;\n",
              "    }\n",
              "\n",
              "    .dataframe tbody tr th {\n",
              "        vertical-align: top;\n",
              "    }\n",
              "\n",
              "    .dataframe thead th {\n",
              "        text-align: right;\n",
              "    }\n",
              "</style>\n",
              "<table border=\"1\" class=\"dataframe\">\n",
              "  <thead>\n",
              "    <tr style=\"text-align: right;\">\n",
              "      <th></th>\n",
              "      <th>rank</th>\n",
              "      <th>discipline</th>\n",
              "      <th>phd</th>\n",
              "      <th>service</th>\n",
              "      <th>sex</th>\n",
              "      <th>salary</th>\n",
              "    </tr>\n",
              "  </thead>\n",
              "  <tbody>\n",
              "    <tr>\n",
              "      <th>0</th>\n",
              "      <td>Prof</td>\n",
              "      <td>B</td>\n",
              "      <td>56</td>\n",
              "      <td>49</td>\n",
              "      <td>Male</td>\n",
              "      <td>186960</td>\n",
              "    </tr>\n",
              "    <tr>\n",
              "      <th>1</th>\n",
              "      <td>Prof</td>\n",
              "      <td>A</td>\n",
              "      <td>12</td>\n",
              "      <td>6</td>\n",
              "      <td>Male</td>\n",
              "      <td>93000</td>\n",
              "    </tr>\n",
              "    <tr>\n",
              "      <th>2</th>\n",
              "      <td>Prof</td>\n",
              "      <td>A</td>\n",
              "      <td>23</td>\n",
              "      <td>20</td>\n",
              "      <td>Male</td>\n",
              "      <td>110515</td>\n",
              "    </tr>\n",
              "    <tr>\n",
              "      <th>3</th>\n",
              "      <td>Prof</td>\n",
              "      <td>A</td>\n",
              "      <td>40</td>\n",
              "      <td>31</td>\n",
              "      <td>Male</td>\n",
              "      <td>131205</td>\n",
              "    </tr>\n",
              "    <tr>\n",
              "      <th>4</th>\n",
              "      <td>Prof</td>\n",
              "      <td>B</td>\n",
              "      <td>20</td>\n",
              "      <td>18</td>\n",
              "      <td>Male</td>\n",
              "      <td>104800</td>\n",
              "    </tr>\n",
              "  </tbody>\n",
              "</table>\n",
              "</div>"
            ],
            "text/plain": [
              "   rank discipline  phd  service   sex  salary\n",
              "0  Prof          B   56       49  Male  186960\n",
              "1  Prof          A   12        6  Male   93000\n",
              "2  Prof          A   23       20  Male  110515\n",
              "3  Prof          A   40       31  Male  131205\n",
              "4  Prof          B   20       18  Male  104800"
            ]
          },
          "execution_count": 50,
          "metadata": {},
          "output_type": "execute_result"
        }
      ],
      "source": [
        "# Restaurar a ordenação original (by sorting using index)\n",
        "df.sort_index(axis=0, ascending = True, inplace = True)\n",
        "df.head()"
      ]
    },
    {
      "cell_type": "code",
      "execution_count": null,
      "metadata": {
        "id": "z93I2xm-QiZS"
      },
      "outputs": [],
      "source": [
        "# Exercícios Práticos.."
      ]
    },
    {
      "cell_type": "code",
      "execution_count": null,
      "metadata": {
        "id": "3NrjUCf9QiZS",
        "outputId": "f1da7ba9-77c7-4c23-a6e2-47f4973a8987"
      },
      "outputs": [
        {
          "data": {
            "text/html": [
              "<div>\n",
              "<style scoped>\n",
              "    .dataframe tbody tr th:only-of-type {\n",
              "        vertical-align: middle;\n",
              "    }\n",
              "\n",
              "    .dataframe tbody tr th {\n",
              "        vertical-align: top;\n",
              "    }\n",
              "\n",
              "    .dataframe thead th {\n",
              "        text-align: right;\n",
              "    }\n",
              "</style>\n",
              "<table border=\"1\" class=\"dataframe\">\n",
              "  <thead>\n",
              "    <tr style=\"text-align: right;\">\n",
              "      <th></th>\n",
              "      <th>rank</th>\n",
              "      <th>discipline</th>\n",
              "      <th>phd</th>\n",
              "      <th>service</th>\n",
              "      <th>sex</th>\n",
              "      <th>salary</th>\n",
              "    </tr>\n",
              "  </thead>\n",
              "  <tbody>\n",
              "    <tr>\n",
              "      <th>0</th>\n",
              "      <td>Prof</td>\n",
              "      <td>B</td>\n",
              "      <td>56</td>\n",
              "      <td>49</td>\n",
              "      <td>Male</td>\n",
              "      <td>186960</td>\n",
              "    </tr>\n",
              "    <tr>\n",
              "      <th>13</th>\n",
              "      <td>Prof</td>\n",
              "      <td>B</td>\n",
              "      <td>35</td>\n",
              "      <td>33</td>\n",
              "      <td>Male</td>\n",
              "      <td>162200</td>\n",
              "    </tr>\n",
              "    <tr>\n",
              "      <th>72</th>\n",
              "      <td>Prof</td>\n",
              "      <td>B</td>\n",
              "      <td>24</td>\n",
              "      <td>15</td>\n",
              "      <td>Female</td>\n",
              "      <td>161101</td>\n",
              "    </tr>\n",
              "    <tr>\n",
              "      <th>27</th>\n",
              "      <td>Prof</td>\n",
              "      <td>A</td>\n",
              "      <td>45</td>\n",
              "      <td>43</td>\n",
              "      <td>Male</td>\n",
              "      <td>155865</td>\n",
              "    </tr>\n",
              "    <tr>\n",
              "      <th>31</th>\n",
              "      <td>Prof</td>\n",
              "      <td>B</td>\n",
              "      <td>22</td>\n",
              "      <td>21</td>\n",
              "      <td>Male</td>\n",
              "      <td>155750</td>\n",
              "    </tr>\n",
              "  </tbody>\n",
              "</table>\n",
              "</div>"
            ],
            "text/plain": [
              "    rank discipline  phd  service     sex  salary\n",
              "0   Prof          B   56       49    Male  186960\n",
              "13  Prof          B   35       33    Male  162200\n",
              "72  Prof          B   24       15  Female  161101\n",
              "27  Prof          A   45       43    Male  155865\n",
              "31  Prof          B   22       21    Male  155750"
            ]
          },
          "execution_count": 52,
          "metadata": {},
          "output_type": "execute_result"
        }
      ],
      "source": [
        "# Classificar o data frame pelo salário (em ordem decrescente) and exibir os primeiros registros de saída\n",
        "df.sort_values(by='salary', ascending=False).head()"
      ]
    },
    {
      "cell_type": "code",
      "execution_count": null,
      "metadata": {
        "id": "EIu65VyOQiZS",
        "outputId": "b5a93c4d-cef5-4329-da57-44cefa9b75f9"
      },
      "outputs": [
        {
          "data": {
            "text/html": [
              "<div>\n",
              "<style scoped>\n",
              "    .dataframe tbody tr th:only-of-type {\n",
              "        vertical-align: middle;\n",
              "    }\n",
              "\n",
              "    .dataframe tbody tr th {\n",
              "        vertical-align: top;\n",
              "    }\n",
              "\n",
              "    .dataframe thead th {\n",
              "        text-align: right;\n",
              "    }\n",
              "</style>\n",
              "<table border=\"1\" class=\"dataframe\">\n",
              "  <thead>\n",
              "    <tr style=\"text-align: right;\">\n",
              "      <th></th>\n",
              "      <th>rank</th>\n",
              "      <th>discipline</th>\n",
              "      <th>phd</th>\n",
              "      <th>service</th>\n",
              "      <th>sex</th>\n",
              "      <th>salary</th>\n",
              "    </tr>\n",
              "  </thead>\n",
              "  <tbody>\n",
              "    <tr>\n",
              "      <th>52</th>\n",
              "      <td>Prof</td>\n",
              "      <td>A</td>\n",
              "      <td>12</td>\n",
              "      <td>0</td>\n",
              "      <td>Female</td>\n",
              "      <td>105000</td>\n",
              "    </tr>\n",
              "    <tr>\n",
              "      <th>17</th>\n",
              "      <td>AsstProf</td>\n",
              "      <td>B</td>\n",
              "      <td>4</td>\n",
              "      <td>0</td>\n",
              "      <td>Male</td>\n",
              "      <td>92000</td>\n",
              "    </tr>\n",
              "    <tr>\n",
              "      <th>12</th>\n",
              "      <td>AsstProf</td>\n",
              "      <td>B</td>\n",
              "      <td>1</td>\n",
              "      <td>0</td>\n",
              "      <td>Male</td>\n",
              "      <td>88000</td>\n",
              "    </tr>\n",
              "    <tr>\n",
              "      <th>23</th>\n",
              "      <td>AsstProf</td>\n",
              "      <td>A</td>\n",
              "      <td>2</td>\n",
              "      <td>0</td>\n",
              "      <td>Male</td>\n",
              "      <td>85000</td>\n",
              "    </tr>\n",
              "    <tr>\n",
              "      <th>43</th>\n",
              "      <td>AsstProf</td>\n",
              "      <td>B</td>\n",
              "      <td>5</td>\n",
              "      <td>0</td>\n",
              "      <td>Female</td>\n",
              "      <td>77000</td>\n",
              "    </tr>\n",
              "    <tr>\n",
              "      <th>55</th>\n",
              "      <td>AsstProf</td>\n",
              "      <td>A</td>\n",
              "      <td>2</td>\n",
              "      <td>0</td>\n",
              "      <td>Female</td>\n",
              "      <td>72500</td>\n",
              "    </tr>\n",
              "    <tr>\n",
              "      <th>57</th>\n",
              "      <td>AsstProf</td>\n",
              "      <td>A</td>\n",
              "      <td>3</td>\n",
              "      <td>1</td>\n",
              "      <td>Female</td>\n",
              "      <td>72500</td>\n",
              "    </tr>\n",
              "    <tr>\n",
              "      <th>28</th>\n",
              "      <td>AsstProf</td>\n",
              "      <td>B</td>\n",
              "      <td>7</td>\n",
              "      <td>2</td>\n",
              "      <td>Male</td>\n",
              "      <td>91300</td>\n",
              "    </tr>\n",
              "    <tr>\n",
              "      <th>42</th>\n",
              "      <td>AsstProf</td>\n",
              "      <td>B</td>\n",
              "      <td>4</td>\n",
              "      <td>2</td>\n",
              "      <td>Female</td>\n",
              "      <td>80225</td>\n",
              "    </tr>\n",
              "    <tr>\n",
              "      <th>68</th>\n",
              "      <td>AsstProf</td>\n",
              "      <td>A</td>\n",
              "      <td>4</td>\n",
              "      <td>2</td>\n",
              "      <td>Female</td>\n",
              "      <td>77500</td>\n",
              "    </tr>\n",
              "  </tbody>\n",
              "</table>\n",
              "</div>"
            ],
            "text/plain": [
              "        rank discipline  phd  service     sex  salary\n",
              "52      Prof          A   12        0  Female  105000\n",
              "17  AsstProf          B    4        0    Male   92000\n",
              "12  AsstProf          B    1        0    Male   88000\n",
              "23  AsstProf          A    2        0    Male   85000\n",
              "43  AsstProf          B    5        0  Female   77000\n",
              "55  AsstProf          A    2        0  Female   72500\n",
              "57  AsstProf          A    3        1  Female   72500\n",
              "28  AsstProf          B    7        2    Male   91300\n",
              "42  AsstProf          B    4        2  Female   80225\n",
              "68  AsstProf          A    4        2  Female   77500"
            ]
          },
          "execution_count": 53,
          "metadata": {},
          "output_type": "execute_result"
        }
      ],
      "source": [
        "# Classificar o data frame usando 2 ou mais colunas:\n",
        "df_sorted = df.sort_values(by = ['service', 'salary'], ascending = [True,False])\n",
        "df_sorted.head(10)"
      ]
    },
    {
      "cell_type": "markdown",
      "metadata": {
        "id": "6SBeDygsQiZS"
      },
      "source": [
        "## Valores Nulos ou Não válidos"
      ]
    },
    {
      "cell_type": "code",
      "execution_count": null,
      "metadata": {
        "id": "nR-pc9YrQiZS",
        "outputId": "9e94ecb2-ab37-4b1a-cfbb-93f0bd49b9e6"
      },
      "outputs": [
        {
          "data": {
            "text/html": [
              "<div>\n",
              "<style scoped>\n",
              "    .dataframe tbody tr th:only-of-type {\n",
              "        vertical-align: middle;\n",
              "    }\n",
              "\n",
              "    .dataframe tbody tr th {\n",
              "        vertical-align: top;\n",
              "    }\n",
              "\n",
              "    .dataframe thead th {\n",
              "        text-align: right;\n",
              "    }\n",
              "</style>\n",
              "<table border=\"1\" class=\"dataframe\">\n",
              "  <thead>\n",
              "    <tr style=\"text-align: right;\">\n",
              "      <th></th>\n",
              "      <th>year</th>\n",
              "      <th>month</th>\n",
              "      <th>day</th>\n",
              "      <th>dep_time</th>\n",
              "      <th>dep_delay</th>\n",
              "      <th>arr_time</th>\n",
              "      <th>arr_delay</th>\n",
              "      <th>carrier</th>\n",
              "      <th>tailnum</th>\n",
              "      <th>flight</th>\n",
              "      <th>origin</th>\n",
              "      <th>dest</th>\n",
              "      <th>air_time</th>\n",
              "      <th>distance</th>\n",
              "      <th>hour</th>\n",
              "      <th>minute</th>\n",
              "    </tr>\n",
              "  </thead>\n",
              "  <tbody>\n",
              "    <tr>\n",
              "      <th>0</th>\n",
              "      <td>2013</td>\n",
              "      <td>1</td>\n",
              "      <td>1</td>\n",
              "      <td>517.0</td>\n",
              "      <td>2.0</td>\n",
              "      <td>830.0</td>\n",
              "      <td>11.0</td>\n",
              "      <td>UA</td>\n",
              "      <td>N14228</td>\n",
              "      <td>1545</td>\n",
              "      <td>EWR</td>\n",
              "      <td>IAH</td>\n",
              "      <td>227.0</td>\n",
              "      <td>1400.0</td>\n",
              "      <td>5.0</td>\n",
              "      <td>17.0</td>\n",
              "    </tr>\n",
              "    <tr>\n",
              "      <th>1</th>\n",
              "      <td>2013</td>\n",
              "      <td>1</td>\n",
              "      <td>1</td>\n",
              "      <td>533.0</td>\n",
              "      <td>4.0</td>\n",
              "      <td>850.0</td>\n",
              "      <td>20.0</td>\n",
              "      <td>UA</td>\n",
              "      <td>N24211</td>\n",
              "      <td>1714</td>\n",
              "      <td>LGA</td>\n",
              "      <td>IAH</td>\n",
              "      <td>227.0</td>\n",
              "      <td>1416.0</td>\n",
              "      <td>5.0</td>\n",
              "      <td>33.0</td>\n",
              "    </tr>\n",
              "    <tr>\n",
              "      <th>2</th>\n",
              "      <td>2013</td>\n",
              "      <td>1</td>\n",
              "      <td>1</td>\n",
              "      <td>542.0</td>\n",
              "      <td>2.0</td>\n",
              "      <td>923.0</td>\n",
              "      <td>33.0</td>\n",
              "      <td>AA</td>\n",
              "      <td>N619AA</td>\n",
              "      <td>1141</td>\n",
              "      <td>JFK</td>\n",
              "      <td>MIA</td>\n",
              "      <td>160.0</td>\n",
              "      <td>1089.0</td>\n",
              "      <td>5.0</td>\n",
              "      <td>42.0</td>\n",
              "    </tr>\n",
              "    <tr>\n",
              "      <th>3</th>\n",
              "      <td>2013</td>\n",
              "      <td>1</td>\n",
              "      <td>1</td>\n",
              "      <td>554.0</td>\n",
              "      <td>-6.0</td>\n",
              "      <td>812.0</td>\n",
              "      <td>-25.0</td>\n",
              "      <td>DL</td>\n",
              "      <td>N668DN</td>\n",
              "      <td>461</td>\n",
              "      <td>LGA</td>\n",
              "      <td>ATL</td>\n",
              "      <td>116.0</td>\n",
              "      <td>762.0</td>\n",
              "      <td>5.0</td>\n",
              "      <td>54.0</td>\n",
              "    </tr>\n",
              "    <tr>\n",
              "      <th>4</th>\n",
              "      <td>2013</td>\n",
              "      <td>1</td>\n",
              "      <td>1</td>\n",
              "      <td>554.0</td>\n",
              "      <td>-4.0</td>\n",
              "      <td>740.0</td>\n",
              "      <td>12.0</td>\n",
              "      <td>UA</td>\n",
              "      <td>N39463</td>\n",
              "      <td>1696</td>\n",
              "      <td>EWR</td>\n",
              "      <td>ORD</td>\n",
              "      <td>150.0</td>\n",
              "      <td>719.0</td>\n",
              "      <td>5.0</td>\n",
              "      <td>54.0</td>\n",
              "    </tr>\n",
              "  </tbody>\n",
              "</table>\n",
              "</div>"
            ],
            "text/plain": [
              "   year  month  day  dep_time  dep_delay  arr_time  arr_delay carrier tailnum  \\\n",
              "0  2013      1    1     517.0        2.0     830.0       11.0      UA  N14228   \n",
              "1  2013      1    1     533.0        4.0     850.0       20.0      UA  N24211   \n",
              "2  2013      1    1     542.0        2.0     923.0       33.0      AA  N619AA   \n",
              "3  2013      1    1     554.0       -6.0     812.0      -25.0      DL  N668DN   \n",
              "4  2013      1    1     554.0       -4.0     740.0       12.0      UA  N39463   \n",
              "\n",
              "   flight origin dest  air_time  distance  hour  minute  \n",
              "0    1545    EWR  IAH     227.0    1400.0   5.0    17.0  \n",
              "1    1714    LGA  IAH     227.0    1416.0   5.0    33.0  \n",
              "2    1141    JFK  MIA     160.0    1089.0   5.0    42.0  \n",
              "3     461    LGA  ATL     116.0     762.0   5.0    54.0  \n",
              "4    1696    EWR  ORD     150.0     719.0   5.0    54.0  "
            ]
          },
          "execution_count": 54,
          "metadata": {},
          "output_type": "execute_result"
        }
      ],
      "source": [
        "# Lendo o Dataset com valores nulos ou inválidos\n",
        "flights = pd.read_csv(\"flights.csv\")\n",
        "flights.head()"
      ]
    },
    {
      "cell_type": "code",
      "execution_count": null,
      "metadata": {
        "id": "hjcYy-9cQiZT",
        "outputId": "f4c9067f-5210-43e5-a0e2-c9bac01d06d9"
      },
      "outputs": [
        {
          "data": {
            "text/html": [
              "<div>\n",
              "<style scoped>\n",
              "    .dataframe tbody tr th:only-of-type {\n",
              "        vertical-align: middle;\n",
              "    }\n",
              "\n",
              "    .dataframe tbody tr th {\n",
              "        vertical-align: top;\n",
              "    }\n",
              "\n",
              "    .dataframe thead th {\n",
              "        text-align: right;\n",
              "    }\n",
              "</style>\n",
              "<table border=\"1\" class=\"dataframe\">\n",
              "  <thead>\n",
              "    <tr style=\"text-align: right;\">\n",
              "      <th></th>\n",
              "      <th>year</th>\n",
              "      <th>month</th>\n",
              "      <th>day</th>\n",
              "      <th>dep_time</th>\n",
              "      <th>dep_delay</th>\n",
              "      <th>arr_time</th>\n",
              "      <th>arr_delay</th>\n",
              "      <th>carrier</th>\n",
              "      <th>tailnum</th>\n",
              "      <th>flight</th>\n",
              "      <th>origin</th>\n",
              "      <th>dest</th>\n",
              "      <th>air_time</th>\n",
              "      <th>distance</th>\n",
              "      <th>hour</th>\n",
              "      <th>minute</th>\n",
              "    </tr>\n",
              "  </thead>\n",
              "  <tbody>\n",
              "    <tr>\n",
              "      <th>330</th>\n",
              "      <td>2013</td>\n",
              "      <td>1</td>\n",
              "      <td>1</td>\n",
              "      <td>1807.0</td>\n",
              "      <td>29.0</td>\n",
              "      <td>2251.0</td>\n",
              "      <td>NaN</td>\n",
              "      <td>UA</td>\n",
              "      <td>N31412</td>\n",
              "      <td>1228</td>\n",
              "      <td>EWR</td>\n",
              "      <td>SAN</td>\n",
              "      <td>NaN</td>\n",
              "      <td>2425.0</td>\n",
              "      <td>18.0</td>\n",
              "      <td>7.0</td>\n",
              "    </tr>\n",
              "    <tr>\n",
              "      <th>403</th>\n",
              "      <td>2013</td>\n",
              "      <td>1</td>\n",
              "      <td>1</td>\n",
              "      <td>NaN</td>\n",
              "      <td>NaN</td>\n",
              "      <td>NaN</td>\n",
              "      <td>NaN</td>\n",
              "      <td>AA</td>\n",
              "      <td>N3EHAA</td>\n",
              "      <td>791</td>\n",
              "      <td>LGA</td>\n",
              "      <td>DFW</td>\n",
              "      <td>NaN</td>\n",
              "      <td>1389.0</td>\n",
              "      <td>NaN</td>\n",
              "      <td>NaN</td>\n",
              "    </tr>\n",
              "    <tr>\n",
              "      <th>404</th>\n",
              "      <td>2013</td>\n",
              "      <td>1</td>\n",
              "      <td>1</td>\n",
              "      <td>NaN</td>\n",
              "      <td>NaN</td>\n",
              "      <td>NaN</td>\n",
              "      <td>NaN</td>\n",
              "      <td>AA</td>\n",
              "      <td>N3EVAA</td>\n",
              "      <td>1925</td>\n",
              "      <td>LGA</td>\n",
              "      <td>MIA</td>\n",
              "      <td>NaN</td>\n",
              "      <td>1096.0</td>\n",
              "      <td>NaN</td>\n",
              "      <td>NaN</td>\n",
              "    </tr>\n",
              "    <tr>\n",
              "      <th>855</th>\n",
              "      <td>2013</td>\n",
              "      <td>1</td>\n",
              "      <td>2</td>\n",
              "      <td>2145.0</td>\n",
              "      <td>16.0</td>\n",
              "      <td>NaN</td>\n",
              "      <td>NaN</td>\n",
              "      <td>UA</td>\n",
              "      <td>N12221</td>\n",
              "      <td>1299</td>\n",
              "      <td>EWR</td>\n",
              "      <td>RSW</td>\n",
              "      <td>NaN</td>\n",
              "      <td>1068.0</td>\n",
              "      <td>21.0</td>\n",
              "      <td>45.0</td>\n",
              "    </tr>\n",
              "    <tr>\n",
              "      <th>858</th>\n",
              "      <td>2013</td>\n",
              "      <td>1</td>\n",
              "      <td>2</td>\n",
              "      <td>NaN</td>\n",
              "      <td>NaN</td>\n",
              "      <td>NaN</td>\n",
              "      <td>NaN</td>\n",
              "      <td>AA</td>\n",
              "      <td>NaN</td>\n",
              "      <td>133</td>\n",
              "      <td>JFK</td>\n",
              "      <td>LAX</td>\n",
              "      <td>NaN</td>\n",
              "      <td>2475.0</td>\n",
              "      <td>NaN</td>\n",
              "      <td>NaN</td>\n",
              "    </tr>\n",
              "  </tbody>\n",
              "</table>\n",
              "</div>"
            ],
            "text/plain": [
              "     year  month  day  dep_time  dep_delay  arr_time  arr_delay carrier  \\\n",
              "330  2013      1    1    1807.0       29.0    2251.0        NaN      UA   \n",
              "403  2013      1    1       NaN        NaN       NaN        NaN      AA   \n",
              "404  2013      1    1       NaN        NaN       NaN        NaN      AA   \n",
              "855  2013      1    2    2145.0       16.0       NaN        NaN      UA   \n",
              "858  2013      1    2       NaN        NaN       NaN        NaN      AA   \n",
              "\n",
              "    tailnum  flight origin dest  air_time  distance  hour  minute  \n",
              "330  N31412    1228    EWR  SAN       NaN    2425.0  18.0     7.0  \n",
              "403  N3EHAA     791    LGA  DFW       NaN    1389.0   NaN     NaN  \n",
              "404  N3EVAA    1925    LGA  MIA       NaN    1096.0   NaN     NaN  \n",
              "855  N12221    1299    EWR  RSW       NaN    1068.0  21.0    45.0  \n",
              "858     NaN     133    JFK  LAX       NaN    2475.0   NaN     NaN  "
            ]
          },
          "execution_count": 55,
          "metadata": {},
          "output_type": "execute_result"
        }
      ],
      "source": [
        "# Selecionar linhas que tenham pelo menos um valor ausente ou nulo\n",
        "flights[flights.isnull().any(axis=1)].head()"
      ]
    },
    {
      "cell_type": "code",
      "execution_count": null,
      "metadata": {
        "id": "6g3bCmPFQiZT",
        "outputId": "8a6a0c38-6716-4b75-ce88-492f2f8a3c1c"
      },
      "outputs": [
        {
          "data": {
            "text/html": [
              "<div>\n",
              "<style scoped>\n",
              "    .dataframe tbody tr th:only-of-type {\n",
              "        vertical-align: middle;\n",
              "    }\n",
              "\n",
              "    .dataframe tbody tr th {\n",
              "        vertical-align: top;\n",
              "    }\n",
              "\n",
              "    .dataframe thead th {\n",
              "        text-align: right;\n",
              "    }\n",
              "</style>\n",
              "<table border=\"1\" class=\"dataframe\">\n",
              "  <thead>\n",
              "    <tr style=\"text-align: right;\">\n",
              "      <th></th>\n",
              "      <th>year</th>\n",
              "      <th>month</th>\n",
              "      <th>day</th>\n",
              "      <th>dep_time</th>\n",
              "      <th>dep_delay</th>\n",
              "      <th>arr_time</th>\n",
              "      <th>arr_delay</th>\n",
              "      <th>carrier</th>\n",
              "      <th>tailnum</th>\n",
              "      <th>flight</th>\n",
              "      <th>origin</th>\n",
              "      <th>dest</th>\n",
              "      <th>air_time</th>\n",
              "      <th>distance</th>\n",
              "      <th>hour</th>\n",
              "      <th>minute</th>\n",
              "    </tr>\n",
              "  </thead>\n",
              "  <tbody>\n",
              "    <tr>\n",
              "      <th>0</th>\n",
              "      <td>2013</td>\n",
              "      <td>1</td>\n",
              "      <td>1</td>\n",
              "      <td>517.0</td>\n",
              "      <td>2.0</td>\n",
              "      <td>830.0</td>\n",
              "      <td>11.0</td>\n",
              "      <td>UA</td>\n",
              "      <td>N14228</td>\n",
              "      <td>1545</td>\n",
              "      <td>EWR</td>\n",
              "      <td>IAH</td>\n",
              "      <td>227.0</td>\n",
              "      <td>1400.0</td>\n",
              "      <td>5.0</td>\n",
              "      <td>17.0</td>\n",
              "    </tr>\n",
              "    <tr>\n",
              "      <th>1</th>\n",
              "      <td>2013</td>\n",
              "      <td>1</td>\n",
              "      <td>1</td>\n",
              "      <td>533.0</td>\n",
              "      <td>4.0</td>\n",
              "      <td>850.0</td>\n",
              "      <td>20.0</td>\n",
              "      <td>UA</td>\n",
              "      <td>N24211</td>\n",
              "      <td>1714</td>\n",
              "      <td>LGA</td>\n",
              "      <td>IAH</td>\n",
              "      <td>227.0</td>\n",
              "      <td>1416.0</td>\n",
              "      <td>5.0</td>\n",
              "      <td>33.0</td>\n",
              "    </tr>\n",
              "    <tr>\n",
              "      <th>2</th>\n",
              "      <td>2013</td>\n",
              "      <td>1</td>\n",
              "      <td>1</td>\n",
              "      <td>542.0</td>\n",
              "      <td>2.0</td>\n",
              "      <td>923.0</td>\n",
              "      <td>33.0</td>\n",
              "      <td>AA</td>\n",
              "      <td>N619AA</td>\n",
              "      <td>1141</td>\n",
              "      <td>JFK</td>\n",
              "      <td>MIA</td>\n",
              "      <td>160.0</td>\n",
              "      <td>1089.0</td>\n",
              "      <td>5.0</td>\n",
              "      <td>42.0</td>\n",
              "    </tr>\n",
              "    <tr>\n",
              "      <th>3</th>\n",
              "      <td>2013</td>\n",
              "      <td>1</td>\n",
              "      <td>1</td>\n",
              "      <td>554.0</td>\n",
              "      <td>-6.0</td>\n",
              "      <td>812.0</td>\n",
              "      <td>-25.0</td>\n",
              "      <td>DL</td>\n",
              "      <td>N668DN</td>\n",
              "      <td>461</td>\n",
              "      <td>LGA</td>\n",
              "      <td>ATL</td>\n",
              "      <td>116.0</td>\n",
              "      <td>762.0</td>\n",
              "      <td>5.0</td>\n",
              "      <td>54.0</td>\n",
              "    </tr>\n",
              "    <tr>\n",
              "      <th>4</th>\n",
              "      <td>2013</td>\n",
              "      <td>1</td>\n",
              "      <td>1</td>\n",
              "      <td>554.0</td>\n",
              "      <td>-4.0</td>\n",
              "      <td>740.0</td>\n",
              "      <td>12.0</td>\n",
              "      <td>UA</td>\n",
              "      <td>N39463</td>\n",
              "      <td>1696</td>\n",
              "      <td>EWR</td>\n",
              "      <td>ORD</td>\n",
              "      <td>150.0</td>\n",
              "      <td>719.0</td>\n",
              "      <td>5.0</td>\n",
              "      <td>54.0</td>\n",
              "    </tr>\n",
              "  </tbody>\n",
              "</table>\n",
              "</div>"
            ],
            "text/plain": [
              "   year  month  day  dep_time  dep_delay  arr_time  arr_delay carrier tailnum  \\\n",
              "0  2013      1    1     517.0        2.0     830.0       11.0      UA  N14228   \n",
              "1  2013      1    1     533.0        4.0     850.0       20.0      UA  N24211   \n",
              "2  2013      1    1     542.0        2.0     923.0       33.0      AA  N619AA   \n",
              "3  2013      1    1     554.0       -6.0     812.0      -25.0      DL  N668DN   \n",
              "4  2013      1    1     554.0       -4.0     740.0       12.0      UA  N39463   \n",
              "\n",
              "   flight origin dest  air_time  distance  hour  minute  \n",
              "0    1545    EWR  IAH     227.0    1400.0   5.0    17.0  \n",
              "1    1714    LGA  IAH     227.0    1416.0   5.0    33.0  \n",
              "2    1141    JFK  MIA     160.0    1089.0   5.0    42.0  \n",
              "3     461    LGA  ATL     116.0     762.0   5.0    54.0  \n",
              "4    1696    EWR  ORD     150.0     719.0   5.0    54.0  "
            ]
          },
          "execution_count": 56,
          "metadata": {},
          "output_type": "execute_result"
        }
      ],
      "source": [
        "# Filtar todas as linhas onde o valor arr_delay estão faltando ou nulos:\n",
        "flights1 = flights[ flights['arr_delay'].notnull( )]\n",
        "flights1.head()"
      ]
    },
    {
      "cell_type": "code",
      "execution_count": null,
      "metadata": {
        "id": "Rh2Y6zEGQiZT"
      },
      "outputs": [],
      "source": [
        "# Remover todas as observações com valores nulos\n",
        "flights2 = flights.dropna()"
      ]
    },
    {
      "cell_type": "code",
      "execution_count": null,
      "metadata": {
        "id": "gC4sig4iQiZT",
        "outputId": "dfe342d1-2bd6-40ee-83f3-b099badf14c3"
      },
      "outputs": [
        {
          "ename": "NameError",
          "evalue": "name 'means' is not defined",
          "output_type": "error",
          "traceback": [
            "\u001b[1;31m---------------------------------------------------------------------------\u001b[0m",
            "\u001b[1;31mNameError\u001b[0m                                 Traceback (most recent call last)",
            "\u001b[1;32m<ipython-input-58-d48e43a80240>\u001b[0m in \u001b[0;36m<module>\u001b[1;34m\u001b[0m\n\u001b[0;32m      1\u001b[0m \u001b[1;31m# Preenchendo os valores ausentes com zeros\u001b[0m\u001b[1;33m\u001b[0m\u001b[1;33m\u001b[0m\u001b[1;33m\u001b[0m\u001b[0m\n\u001b[1;32m----> 2\u001b[1;33m \u001b[0mnomiss\u001b[0m \u001b[1;33m=\u001b[0m\u001b[0mflights\u001b[0m\u001b[1;33m[\u001b[0m\u001b[1;34m'dep_delay'\u001b[0m\u001b[1;33m]\u001b[0m\u001b[1;33m.\u001b[0m\u001b[0mfillna\u001b[0m\u001b[1;33m(\u001b[0m\u001b[0mmeans\u001b[0m\u001b[1;33m(\u001b[0m\u001b[1;33m)\u001b[0m\u001b[1;33m)\u001b[0m\u001b[1;33m\u001b[0m\u001b[1;33m\u001b[0m\u001b[0m\n\u001b[0m\u001b[0;32m      3\u001b[0m \u001b[0mnomiss\u001b[0m\u001b[1;33m.\u001b[0m\u001b[0misnull\u001b[0m\u001b[1;33m(\u001b[0m\u001b[1;33m)\u001b[0m\u001b[1;33m.\u001b[0m\u001b[0many\u001b[0m\u001b[1;33m(\u001b[0m\u001b[1;33m)\u001b[0m\u001b[1;33m\u001b[0m\u001b[1;33m\u001b[0m\u001b[0m\n",
            "\u001b[1;31mNameError\u001b[0m: name 'means' is not defined"
          ]
        }
      ],
      "source": [
        "# Preenchendo os valores ausentes com zeros\n",
        "nomiss =flights['dep_delay'].fillna(means())\n",
        "nomiss.isnull().any()"
      ]
    },
    {
      "cell_type": "code",
      "execution_count": null,
      "metadata": {
        "id": "e1eaQoDkQiZT"
      },
      "outputs": [],
      "source": [
        "flights.count()"
      ]
    },
    {
      "cell_type": "code",
      "execution_count": null,
      "metadata": {
        "id": "I-3IjuafQiZU"
      },
      "outputs": [],
      "source": [
        "# Exercícios\n"
      ]
    },
    {
      "cell_type": "code",
      "execution_count": null,
      "metadata": {
        "id": "jXdrT_wtQiZU"
      },
      "outputs": [],
      "source": [
        "# Contar quantos dados ausentes estão nas colunas dep_dalay e arr_delay\n",
        "flights[['dep_delay','arr_delay']].isnull().sum()"
      ]
    },
    {
      "cell_type": "markdown",
      "metadata": {
        "id": "yEFlf9UtQiZU"
      },
      "source": [
        "## Funções comuns de Agregação"
      ]
    },
    {
      "cell_type": "code",
      "execution_count": null,
      "metadata": {
        "id": "7qW2q0kSQiZU"
      },
      "outputs": [],
      "source": [
        "#Function \tDescription\n",
        "#min \tminimum\n",
        "#max \tmaximum\n",
        "#count \tnumber of non-null observations\n",
        "#sum \tsum of values\n",
        "#mean \tarithmetic mean of values\n",
        "#median \tmedian\n",
        "#mad \tmean absolute deviation\n",
        "#mode \tmode\n",
        "#prod \tproduct of values\n",
        "#std \tstandard deviation\n",
        "#var \tunbiased variance"
      ]
    },
    {
      "cell_type": "code",
      "execution_count": null,
      "metadata": {
        "id": "QV-Mq-78QiZU"
      },
      "outputs": [],
      "source": [
        "# Localizar o número de valores não nulos para cada coluna\n",
        "flights.count()"
      ]
    },
    {
      "cell_type": "code",
      "execution_count": null,
      "metadata": {
        "id": "pQzX8-0mQiZU"
      },
      "outputs": [],
      "source": [
        "# Localizando os valores mínimos para todas as colunas do dataset\n",
        "flights.min()"
      ]
    },
    {
      "cell_type": "code",
      "execution_count": null,
      "metadata": {
        "id": "0MZZnEnyQiZU"
      },
      "outputs": [],
      "source": [
        "# Calculando a Estatística de resumo por grupo (média):\n",
        "flights.groupby('carrier')['dep_delay'].mean()"
      ]
    },
    {
      "cell_type": "code",
      "execution_count": null,
      "metadata": {
        "id": "qAKc_VyuQiZV"
      },
      "outputs": [],
      "source": [
        "# É possível usar o método agg() para agregação..\n",
        "flights[['dep_delay','arr_delay']].agg(['min','mean','max'])"
      ]
    },
    {
      "cell_type": "code",
      "execution_count": null,
      "metadata": {
        "id": "jW-lIT2PQiZV"
      },
      "outputs": [],
      "source": [
        "# Um exemplo de computação de estatísticas diferentes para diferentes colunas\n",
        "flights.agg({'dep_delay':['min','mean',max], 'carrier':['nunique']})"
      ]
    },
    {
      "cell_type": "markdown",
      "metadata": {
        "id": "C4Mh7xQ2QiZV"
      },
      "source": [
        "## Estatística Descritiva Básica"
      ]
    },
    {
      "cell_type": "code",
      "execution_count": null,
      "metadata": {
        "id": "DKd1ws3wQiZV"
      },
      "outputs": [],
      "source": [
        "#Function \tDescription\n",
        "#min \tminimum\n",
        "#max \tmaximum\n",
        "#mean \tarithmetic mean of values\n",
        "#median \tmedian\n",
        "#mad \tmean absolute deviation\n",
        "#mode \tmode\n",
        "#std \tstandard deviation\n",
        "#var \tunbiased variance\n",
        "#sem \tstandard error of the mean\n",
        "#skew \tsample skewness\n",
        "#kurt \tkurtosis\n",
        "#quantile \tvalue at %"
      ]
    },
    {
      "cell_type": "code",
      "execution_count": null,
      "metadata": {
        "id": "c70wuKk6QiZV"
      },
      "outputs": [],
      "source": [
        "# A função conveniente describe() calcula uma variedade de estatísticas\n",
        "flights.dep_delay.describe()"
      ]
    },
    {
      "cell_type": "code",
      "execution_count": null,
      "metadata": {
        "id": "kwc9hd5fQiZV"
      },
      "outputs": [],
      "source": [
        "# Localizar e indexar o máximo e mínimo dos valores\n",
        "# if there are multiple values matching idxmin() and idxmax() will return the first match\n",
        "flights['dep_delay'].idxmin()  #minimum value"
      ]
    },
    {
      "cell_type": "code",
      "execution_count": null,
      "metadata": {
        "id": "fbIAtY-lQiZV"
      },
      "outputs": [],
      "source": [
        "# Contar o número de registro para cada valor diferente em um vetor\n",
        "flights['carrier'].value_counts()"
      ]
    },
    {
      "cell_type": "markdown",
      "metadata": {
        "id": "PWvEBnKcQiZV"
      },
      "source": [
        "## Explorando Dados e Usando Gráficos\n"
      ]
    },
    {
      "cell_type": "code",
      "execution_count": null,
      "metadata": {
        "id": "JqyGfX7eQiZW"
      },
      "outputs": [],
      "source": [
        "# Mostrando Gráficos com Python no Notebook\n",
        "%matplotlib inline"
      ]
    },
    {
      "cell_type": "code",
      "execution_count": null,
      "metadata": {
        "id": "jEoxXJhmQiZW"
      },
      "outputs": [],
      "source": [
        "# Usando Matplotlib para desenhar um histogram para a coluna salário\n",
        "plt.hist(df['salary'],bins=8)"
      ]
    },
    {
      "cell_type": "code",
      "execution_count": null,
      "metadata": {
        "id": "s2Ubj_TWQiZW"
      },
      "outputs": [],
      "source": [
        "# Usando o seaborn package para desenhar o histograma\n",
        "sns.distplot(df['salary']);"
      ]
    },
    {
      "cell_type": "code",
      "execution_count": null,
      "metadata": {
        "id": "GtbTpYPvQiZW"
      },
      "outputs": [],
      "source": [
        "# O uso regular do matplotlib para mostrar o \"Gráfico de Barras\" barplot\n",
        "df.groupby(['rank'])['salary'].count().plot(kind='bar')"
      ]
    },
    {
      "cell_type": "code",
      "execution_count": null,
      "metadata": {
        "id": "vJrfkmuGQiZW"
      },
      "outputs": [],
      "source": [
        "# O uso do seaborn para mostrar o Gráfico de Barras\n",
        "sns.set_style(\"whitegrid\")\n",
        "ax = sns.barplot(x='rank',y ='salary', data=df, estimator=len)"
      ]
    },
    {
      "cell_type": "code",
      "execution_count": null,
      "metadata": {
        "id": "W5Vp0mikQiZW"
      },
      "outputs": [],
      "source": [
        "# Dividindo o gráfico em 02 grupos:\n",
        "ax = sns.barplot(x='rank',y ='salary', hue='sex', data=df, estimator=len)"
      ]
    },
    {
      "cell_type": "code",
      "execution_count": null,
      "metadata": {
        "id": "CuDOdZpRQiZW"
      },
      "outputs": [],
      "source": [
        "#Violinplot\n",
        "sns.violinplot(x = \"salary\", data=df)"
      ]
    },
    {
      "cell_type": "code",
      "execution_count": null,
      "metadata": {
        "id": "g9R924a1QiZX"
      },
      "outputs": [],
      "source": [
        "#Scatterplot in seaborn\n",
        "sns.jointplot(x='service', y='salary', data=df)\n"
      ]
    },
    {
      "cell_type": "code",
      "execution_count": null,
      "metadata": {
        "id": "kuYg3uKqQiZX"
      },
      "outputs": [],
      "source": [
        "#Se estivermos em gráficos para representar a regressão linear para 2 variáveis numéricas - regplot\n",
        "sns.regplot(x='service', y='salary', data=df)"
      ]
    },
    {
      "cell_type": "code",
      "execution_count": null,
      "metadata": {
        "id": "x35YvlurQiZX"
      },
      "outputs": [],
      "source": [
        "# box plot - é um tipo de Gráfico muito utilizado para detectar Out-lier\n",
        "sns.boxplot(x='rank',y='salary', data=df)"
      ]
    },
    {
      "cell_type": "code",
      "execution_count": null,
      "metadata": {
        "id": "gWGEmLNtQiZX"
      },
      "outputs": [],
      "source": [
        "# side-by-side box plot - com parâmetros de Rank com Salario aplicados ao Sexo\n",
        "sns.boxplot(x='rank',y='salary', data=df, hue='sex')"
      ]
    },
    {
      "cell_type": "code",
      "execution_count": null,
      "metadata": {
        "id": "NE2tMXy7QiZX"
      },
      "outputs": [],
      "source": [
        "# swarm plot\n",
        "sns.swarmplot(x='rank',y='salary', data=df)"
      ]
    },
    {
      "cell_type": "code",
      "execution_count": null,
      "metadata": {
        "id": "1g0nmixpQiZX"
      },
      "outputs": [],
      "source": [
        "#factorplot - Gráficos de Barras do tipo: FactorPlot\n",
        "sns.factorplot(x='carrier',y='dep_delay', data=flights, kind='bar')"
      ]
    },
    {
      "cell_type": "code",
      "execution_count": null,
      "metadata": {
        "id": "J5gyPzymQiZX"
      },
      "outputs": [],
      "source": [
        "# Pairplot \n",
        "sns.pairplot(df)"
      ]
    },
    {
      "cell_type": "code",
      "execution_count": null,
      "metadata": {
        "id": "FVobTYIyQiZX"
      },
      "outputs": [],
      "source": [
        "#Exercício Prático"
      ]
    },
    {
      "cell_type": "code",
      "execution_count": null,
      "metadata": {
        "id": "9rW9CGzxQiZY"
      },
      "outputs": [],
      "source": [
        "#Using seaborn package explore the dependency of arr_delay on dep_delay (scatterplot or regplot) for flights dataset\n",
        "sns.jointplot(x='dep_delay', y='arr_delay', data=flights)"
      ]
    },
    {
      "cell_type": "markdown",
      "metadata": {
        "id": "lz_jtgq8QiZY"
      },
      "source": [
        "## Analise Estatística Básica\n"
      ]
    },
    {
      "cell_type": "raw",
      "metadata": {
        "id": "lFLw9-cAQiZY"
      },
      "source": [
        "## - Linear Regression"
      ]
    },
    {
      "cell_type": "code",
      "execution_count": null,
      "metadata": {
        "id": "ELiTFMm6QiZY"
      },
      "outputs": [],
      "source": [
        "# Import Statsmodel functions:\n",
        "import statsmodels.formula.api as smf"
      ]
    },
    {
      "cell_type": "code",
      "execution_count": null,
      "metadata": {
        "id": "RAUawk9vQiZY"
      },
      "outputs": [],
      "source": [
        "# Criando o Modelo Fitted\n",
        "lm = smf.ols(formula='salary ~ service', data=df).fit()\n",
        "\n",
        "# Exibindo o modelo do sumário.\n",
        "print(lm.summary())\n"
      ]
    },
    {
      "cell_type": "code",
      "execution_count": null,
      "metadata": {
        "id": "ii6oVmLXQiZY"
      },
      "outputs": [],
      "source": [
        "# Exibindo o Coeficiente.\n",
        "lm.params"
      ]
    },
    {
      "cell_type": "code",
      "execution_count": null,
      "metadata": {
        "id": "hIqAMZhaQiZY"
      },
      "outputs": [],
      "source": [
        "#using scikit-learn:\n",
        "from sklearn import linear_model\n",
        "est = linear_model.LinearRegression(fit_intercept = True)   # create estimator object\n",
        "est.fit(df[['service']], df[['salary']])\n",
        "\n",
        "#print result\n",
        "print(\"Coef:\", est.coef_, \"\\nIntercept:\", est.intercept_)"
      ]
    },
    {
      "cell_type": "code",
      "execution_count": null,
      "metadata": {
        "id": "jfzqGsBhQiZZ"
      },
      "outputs": [],
      "source": [
        "# Exercício"
      ]
    },
    {
      "cell_type": "code",
      "execution_count": null,
      "metadata": {
        "id": "5hclJyUuQiZZ"
      },
      "outputs": [],
      "source": [
        "# Build a linear model for arr_delay ~ dep_delay\n",
        "lm = smf.ols(formula='arr_delay ~ dep_delay', data=flights).fit()\n",
        "\n",
        "#print model summary\n",
        "print(lm.summary())"
      ]
    },
    {
      "cell_type": "code",
      "execution_count": null,
      "metadata": {
        "id": "qOH25oJWQiZZ"
      },
      "outputs": [],
      "source": [
        "# Test - para Estudantes"
      ]
    },
    {
      "cell_type": "code",
      "execution_count": null,
      "metadata": {
        "id": "AWxgpv5YQiZZ"
      },
      "outputs": [],
      "source": [
        "# Using scipy package:\n",
        "\n",
        "from scipy import stats\n",
        "df_w = df[ df['sex'] == 'Female']['salary']\n",
        "df_m = df[ df['sex'] == 'Male']['salary']\n",
        "stats.ttest_ind(df_w, df_m)"
      ]
    },
    {
      "cell_type": "code",
      "execution_count": null,
      "metadata": {
        "id": "aAPXhrPxQiZZ"
      },
      "outputs": [],
      "source": [
        ""
      ]
    }
  ],
  "metadata": {
    "kernelspec": {
      "display_name": "Python 3",
      "language": "python",
      "name": "python3"
    },
    "language_info": {
      "codemirror_mode": {
        "name": "ipython",
        "version": 3
      },
      "file_extension": ".py",
      "mimetype": "text/x-python",
      "name": "python",
      "nbconvert_exporter": "python",
      "pygments_lexer": "ipython3",
      "version": "3.7.6"
    },
    "colab": {
      "name": "Exploração de Dados - Manipulação com Pandas, Numpy, Scipy, MatplotLib.ipynb",
      "provenance": [],
      "include_colab_link": true
    }
  },
  "nbformat": 4,
  "nbformat_minor": 0
}