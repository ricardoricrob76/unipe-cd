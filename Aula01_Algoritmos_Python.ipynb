{
  "nbformat": 4,
  "nbformat_minor": 0,
  "metadata": {
    "colab": {
      "name": "Aula01-Algoritmos-Python.ipynb",
      "provenance": [],
      "collapsed_sections": [],
      "authorship_tag": "ABX9TyM9l2UJ8lwPgzK7H+3w7jV9",
      "include_colab_link": true
    },
    "kernelspec": {
      "name": "python3",
      "display_name": "Python 3"
    },
    "language_info": {
      "name": "python"
    }
  },
  "cells": [
    {
      "cell_type": "markdown",
      "metadata": {
        "id": "view-in-github",
        "colab_type": "text"
      },
      "source": [
        "<a href=\"https://colab.research.google.com/github/ricardoricrob76/unipe-cd/blob/main/Aula01_Algoritmos_Python.ipynb\" target=\"_parent\"><img src=\"https://colab.research.google.com/assets/colab-badge.svg\" alt=\"Open In Colab\"/></a>"
      ]
    },
    {
      "cell_type": "markdown",
      "source": [
        "Disciplina: Paradigmas de Linguagens de Programação\n",
        "Autor: Ricardo Roberto de Lima\n",
        "\n",
        "Problema: \"\"\"\n",
        "Faça um Programa que leia três números e mostre o maior deles.\n",
        "\"\"\""
      ],
      "metadata": {
        "id": "mDThU0fgVA69"
      }
    },
    {
      "cell_type": "code",
      "execution_count": 6,
      "metadata": {
        "colab": {
          "base_uri": "https://localhost:8080/"
        },
        "id": "lYCh4IOSUhMB",
        "outputId": "d708e5d0-4933-4289-da79-52db49615556"
      },
      "outputs": [
        {
          "name": "stdout",
          "output_type": "stream",
          "text": [
            "Digite um numero: 15\n",
            "Digite outro numero: 68\n",
            "Digite mais um numero29\n"
          ]
        }
      ],
      "source": [
        "# Dados de Entrada do Algoritmo\n",
        "numero1 = float(input(\"Digite um numero: \"))\n",
        "numero2 = float(input(\"Digite outro numero: \"))\n",
        "numero3 = float(input(\"Digite mais um numero: \"))"
      ]
    },
    {
      "cell_type": "code",
      "source": [
        "# Instruções Lógicas e Saída de Dados..\n",
        "# A estrutura de decisão que vamos usar será o if, elif, else..\n",
        "# como saida de dados utilizaremos o comando print..\n",
        "if (numero1 > numero2) and (numero1 > numero3):\n",
        "  print(f\"{numero1} foi o maior número digitado.\")\n",
        "elif (numero2 > numero1) and (numero2 > numero3):\n",
        "  print(f\"{numero2} foi o maior número digitado.\")\n",
        "else:\n",
        "  print(f\"{numero3} foi o maior numero digitado por vocês\")  \n",
        "\n"
      ],
      "metadata": {
        "colab": {
          "base_uri": "https://localhost:8080/"
        },
        "id": "iyuEJM9kVFy9",
        "outputId": "43c5a475-2468-44c7-ed5d-1cea1bc53ae2"
      },
      "execution_count": 7,
      "outputs": [
        {
          "output_type": "stream",
          "name": "stdout",
          "text": [
            "68.0 foi o maior número digitado.\n"
          ]
        }
      ]
    }
  ]
}