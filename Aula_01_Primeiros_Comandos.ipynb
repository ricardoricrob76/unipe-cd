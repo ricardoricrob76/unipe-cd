{
  "nbformat": 4,
  "nbformat_minor": 0,
  "metadata": {
    "colab": {
      "provenance": [],
      "authorship_tag": "ABX9TyOSin8eGplJ+jAZ0mbGevTn",
      "include_colab_link": true
    },
    "kernelspec": {
      "name": "python3",
      "display_name": "Python 3"
    },
    "language_info": {
      "name": "python"
    }
  },
  "cells": [
    {
      "cell_type": "markdown",
      "metadata": {
        "id": "view-in-github",
        "colab_type": "text"
      },
      "source": [
        "<a href=\"https://colab.research.google.com/github/ricardoricrob76/unipe-cd/blob/main/Aula_01_Primeiros_Comandos.ipynb\" target=\"_parent\"><img src=\"https://colab.research.google.com/assets/colab-badge.svg\" alt=\"Open In Colab\"/></a>"
      ]
    },
    {
      "cell_type": "markdown",
      "source": [
        "**Aula 01 - Conceitos Básicos Python**"
      ],
      "metadata": {
        "id": "hWp3RBSZSX0V"
      }
    },
    {
      "cell_type": "code",
      "execution_count": 1,
      "metadata": {
        "id": "b0gu7IA7R_g7"
      },
      "outputs": [],
      "source": [
        "a = 10; b = 15"
      ]
    },
    {
      "cell_type": "code",
      "source": [
        "print(\"escreva o resultado a: \", a)\n",
        "print(\"escreva o resultado b:\", b)"
      ],
      "metadata": {
        "colab": {
          "base_uri": "https://localhost:8080/"
        },
        "id": "VHVYkruiSebr",
        "outputId": "30f59b46-7167-4c90-f6cb-d6fe63f642a7"
      },
      "execution_count": 2,
      "outputs": [
        {
          "output_type": "stream",
          "name": "stdout",
          "text": [
            "escreva o resultado a:  10\n",
            "escreva o resultado b: 15\n"
          ]
        }
      ]
    },
    {
      "cell_type": "code",
      "source": [],
      "metadata": {
        "id": "rTRVy2k6S0ar"
      },
      "execution_count": null,
      "outputs": []
    }
  ]
}