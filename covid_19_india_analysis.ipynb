{
  "nbformat": 4,
  "nbformat_minor": 0,
  "metadata": {
    "kernelspec": {
      "language": "python",
      "display_name": "Python 3",
      "name": "python3"
    },
    "language_info": {
      "pygments_lexer": "ipython3",
      "nbconvert_exporter": "python",
      "version": "3.6.4",
      "file_extension": ".py",
      "codemirror_mode": {
        "name": "ipython",
        "version": 3
      },
      "name": "python",
      "mimetype": "text/x-python"
    },
    "colab": {
      "name": "covid-19-india-analysis.ipynb",
      "provenance": [],
      "include_colab_link": true
    }
  },
  "cells": [
    {
      "cell_type": "markdown",
      "metadata": {
        "id": "view-in-github",
        "colab_type": "text"
      },
      "source": [
        "<a href=\"https://colab.research.google.com/github/ricardoricrob76/unipe-cd/blob/main/covid_19_india_analysis.ipynb\" target=\"_parent\"><img src=\"https://colab.research.google.com/assets/colab-badge.svg\" alt=\"Open In Colab\"/></a>"
      ]
    },
    {
      "cell_type": "markdown",
      "metadata": {
        "id": "GScgosESKoS5"
      },
      "source": [
        "# What is Corona Virus(COVID-19)?\n",
        "\n",
        "**Coronavirus is a family of viruses that can cause illness, which can vary from common cold and cough to sometimes more severe disease. SARS-CoV-2 (n-coronavirus) is the new virus of the coronavirus family, which first discovered in 2019, which has not been identified in humans before. It is a contiguous virus which started from Wuhan in December 2019. Which later declared as Pandemic by WHO due to high rate spreads throughout the world. Currently (on date 27 March 2020), this leads to a total of 24K+ Deaths across the globe, including 16K+ deaths alone in Europe.Pandemic is spreading all over the world; it becomes more important to understand about this spread. This NoteBook is an effort to analyze the cumulative data of confirmed, deaths, and recovered cases over time. In this notebook, the main focus is to analyze the spread trend of this virus all over the india.**"
      ]
    },
    {
      "cell_type": "markdown",
      "metadata": {
        "id": "ekzmF6ZzKoS9"
      },
      "source": [
        "# History of COVID-19 in India\n",
        "\n",
        "**On January 30, India reported its first case of COVID-19 in Kerala, which rose to three cases by February 3; all were students who had returned from Wuhan, China.No significant rise in cases was seen in the rest of February.**\n",
        "\n",
        "**On 22 March 2020, India observed a 14-hour voluntary public curfew at the instance of the prime minister Narendra Modi.The government followed it up with lockdowns in 75 districts where COVID cases had occurred as well as all major cities.Further, on 24 March, the prime minister ordered a nationwide lockdown for 21 days, affecting the entire 1.3 billion population of India.**\n",
        "\n",
        "**The transmission escalated during March, after several cases were reported all over the country, most of which were linked to people with a travel history to affected countries. On 12 March, a 76-year-old man who had returned from Saudi Arabia became the first victim of the virus in the country.On 4 March, 22 new cases came to light, including those of an Italian tourist group with 14 infected members.But number of cases start increasing dramtically after 19th March, but in the month of April it has been its peak.**\n",
        "\n",
        "**Experts suggest the number of infections could be much higher as India's testing rates are among the lowest in the world.The infection rate of COVID-19 in India is reported to be 1.7, significantly lower than in the worst affected countries.**\n",
        "\n",
        "Source: Wikipedia"
      ]
    },
    {
      "cell_type": "markdown",
      "metadata": {
        "id": "ZZIZjKtPKoS_"
      },
      "source": [
        "# Library"
      ]
    },
    {
      "cell_type": "code",
      "metadata": {
        "colab": {
          "base_uri": "https://localhost:8080/"
        },
        "id": "I0ZFd-ojKvV6",
        "outputId": "1c1f06a1-94fc-485c-85fc-933c44aa77d7"
      },
      "source": [
        "!pip install pycountry"
      ],
      "execution_count": 2,
      "outputs": [
        {
          "output_type": "stream",
          "name": "stdout",
          "text": [
            "Collecting pycountry\n",
            "  Downloading pycountry-20.7.3.tar.gz (10.1 MB)\n",
            "\u001b[K     |████████████████████████████████| 10.1 MB 5.0 MB/s \n",
            "\u001b[?25hBuilding wheels for collected packages: pycountry\n",
            "  Building wheel for pycountry (setup.py) ... \u001b[?25l\u001b[?25hdone\n",
            "  Created wheel for pycountry: filename=pycountry-20.7.3-py2.py3-none-any.whl size=10746883 sha256=77b22323432c0161ece8bfc5c78163c0bee8d6abda1d1f738ab76a550d02507f\n",
            "  Stored in directory: /root/.cache/pip/wheels/57/e8/3f/120ccc1ff7541c108bc5d656e2a14c39da0d824653b62284c6\n",
            "Successfully built pycountry\n",
            "Installing collected packages: pycountry\n",
            "Successfully installed pycountry-20.7.3\n"
          ]
        }
      ]
    },
    {
      "cell_type": "code",
      "metadata": {
        "_uuid": "d629ff2d2480ee46fbb7e2d37f6b5fab8052498a",
        "_cell_guid": "79c7e3d0-c299-4dcb-8224-4455121ee9b0",
        "_kg_hide-input": true,
        "_kg_hide-output": true,
        "trusted": true,
        "colab": {
          "base_uri": "https://localhost:8080/",
          "height": 17
        },
        "id": "aEhStBMLKoTA",
        "outputId": "13415a48-720a-41a7-8bbd-18333af5bc0b"
      },
      "source": [
        "import numpy as np \n",
        "import pandas as pd \n",
        "from IPython.display import Markdown\n",
        "from datetime import timedelta\n",
        "import json, requests\n",
        "from datetime import datetime\n",
        "import glob\n",
        "import requests \n",
        "from bs4 import BeautifulSoup\n",
        "import matplotlib.pyplot as plt\n",
        "import plotly.express as px\n",
        "import plotly.graph_objs as go\n",
        "import altair as alt\n",
        "%matplotlib inline\n",
        "import seaborn as sns\n",
        "sns.set()\n",
        "import pycountry\n",
        "from plotly.offline import init_notebook_mode, iplot \n",
        "import plotly.offline as py\n",
        "import plotly.express as ex\n",
        "from plotly.offline import download_plotlyjs,init_notebook_mode,plot,iplot\n",
        "py.init_notebook_mode(connected=True)\n",
        "import folium \n",
        "from folium import plugins\n",
        "plt.style.use(\"seaborn-talk\")\n",
        "plt.rcParams['figure.figsize'] = 8, 5\n",
        "plt.rcParams['image.cmap'] = 'viridis'\n",
        "from fbprophet import Prophet\n",
        "pd.set_option('display.max_rows', None)\n",
        "from math import sin, cos, sqrt, atan2, radians\n",
        "import warnings\n",
        "warnings.filterwarnings(\"ignore\")\n",
        "import os\n",
        "for dirname, _, filenames in os.walk('/kaggle/input'):\n",
        "    for filename in filenames:\n",
        "        print(os.path.join(dirname, filename))"
      ],
      "execution_count": 3,
      "outputs": [
        {
          "output_type": "display_data",
          "data": {
            "text/html": [
              "        <script type=\"text/javascript\">\n",
              "        window.PlotlyConfig = {MathJaxConfig: 'local'};\n",
              "        if (window.MathJax) {MathJax.Hub.Config({SVG: {font: \"STIX-Web\"}});}\n",
              "        if (typeof require !== 'undefined') {\n",
              "        require.undef(\"plotly\");\n",
              "        requirejs.config({\n",
              "            paths: {\n",
              "                'plotly': ['https://cdn.plot.ly/plotly-latest.min']\n",
              "            }\n",
              "        });\n",
              "        require(['plotly'], function(Plotly) {\n",
              "            window._Plotly = Plotly;\n",
              "        });\n",
              "        }\n",
              "        </script>\n",
              "        "
            ]
          },
          "metadata": {}
        }
      ]
    },
    {
      "cell_type": "markdown",
      "metadata": {
        "id": "kTOWdxNmKoTF"
      },
      "source": [
        "# Uploading Data"
      ]
    },
    {
      "cell_type": "code",
      "metadata": {
        "_kg_hide-input": true,
        "_kg_hide-output": true,
        "trusted": true,
        "colab": {
          "base_uri": "https://localhost:8080/",
          "height": 120
        },
        "id": "Xu-Du0uxKoTF",
        "outputId": "aadb52ae-8eab-4a87-f396-ee4b969372b4"
      },
      "source": [
        "'''\n",
        "def get_distance_between_lats_lons(lat1,lon1,lat2,lon2):\n",
        "# approximate radius of earth in km\n",
        "        R = 6373\n",
        "        lat1 = radians(lat1)\n",
        "        lon1 = radians(lon1)\n",
        "        lat2 = radians(lat2)\n",
        "        lon2 = radians(lon2)\n",
        "        dlon = lon2 - lon1\n",
        "        dlat = lat2 - lat1\n",
        "        a = sin(dlat / 2)**2 + cos(lat1) * cos(lat2) * sin(dlon / 2)**2\n",
        "        c = 2 * atan2(sqrt(a), sqrt(1 - a))\n",
        "        distance = R * c\n",
        "        return(distance)\n",
        "city_wise_coordinates= pd.read_csv('../input/indian-postal-codes/IndiaPostalCodes - IndiaPostalCodes.csv')\n",
        "city_wise_coordinates['City'] = city_wise_coordinates['City'].str.upper()\n",
        "city_wise_coordinates['District'] = city_wise_coordinates['District'].str.upper()\n",
        "city_wise_coordinates['State'] = city_wise_coordinates['State'].str.upper()\n",
        "district_wise_pin_states= city_wise_coordinates.groupby('District')['PIN','State'].agg(lambda x:x.value_counts().index[0])\n",
        "district_wise_lat_lng= city_wise_coordinates.groupby('District')['Lat','Lng'].agg(pd.Series.mean)\n",
        "district_wise_data_geonames= district_wise_pin_states.merge(district_wise_lat_lng,left_on='District', right_on='District', how= 'inner').reset_index()\n",
        "dfp= pd.read_json(\"https://api.covid19india.org/raw_data.json\")## data from covid19india.org\n",
        "df3= []\n",
        "for row in range(0,dfp.shape[0]):\n",
        "    df1= dfp['raw_data'][row]\n",
        "    df2=pd.DataFrame(df1.items()).set_index(0)\n",
        "    df3.append(df2.T)           \n",
        "appended_data = pd.concat(df3, sort=False)\n",
        "appended_data.replace(r'^\\s*$', np.nan, regex=True, inplace = True) \n",
        "appended_data.rename(columns={'detectedcity':'City'}, inplace=True)\n",
        "appended_data.rename(columns={'detecteddistrict':'District'}, inplace=True)\n",
        "appended_data.rename(columns={'detectedstate':'State'}, inplace=True)\n",
        "appended_data['City'] = appended_data['City'].str.upper()\n",
        "appended_data['District'] = appended_data['District'].str.upper()\n",
        "appended_data['State'] = appended_data['State'].str.upper()\n",
        "appended_data= appended_data.dropna(thresh=3)\n",
        "district_wise_counts= appended_data.groupby('District').agg({'patientnumber': 'count'})\n",
        "district_wise_counts.rename(columns={'patientnumber':'d_patient_counts'}, inplace=True)\n",
        "district_wise_counts =district_wise_counts.reset_index()\n",
        "district_wise_counts['District'] = district_wise_counts['District'].str.upper()\n",
        "corona_db_with_latlng= district_wise_counts.merge(district_wise_data_geonames, left_on='District', right_on='District', how= 'inner')\n",
        "corona_db_with_latlng.rename(columns={'d_patient_counts':'Num_Positive_cases'}, inplace=True)\n",
        "def get_idx_distance_from_query_locations(q_lat, q_lng, corona_db_with_latlng):\n",
        "    dist_array=[]\n",
        "    for index, row in corona_db_with_latlng.iterrows():\n",
        "        dist= int(get_distance_between_lats_lons(q_lat,q_lng,row['Lat'],row['Lng']))\n",
        "        dist_array.append(dist)  \n",
        "    minpos = dist_array.index(min(dist_array)) \n",
        "    mindist= dist_array[minpos]\n",
        "    cases= corona_db_with_latlng.loc[minpos,'Num_Positive_cases']\n",
        "    location= corona_db_with_latlng.loc[minpos,'District']\n",
        "    state= corona_db_with_latlng.loc[minpos,'State']\n",
        "    Lats= corona_db_with_latlng.loc[minpos,'Lat']\n",
        "    Lngs= corona_db_with_latlng.loc[minpos,'Lng']\n",
        "    return(mindist, cases, location, state)\n",
        "def get_nearest_covid19_stats(query_info,corona_db_with_latlng):\n",
        "    if query_info.PIN.iloc[1] in corona_db_with_latlng['PIN'].values:\n",
        "        mindist= 2\n",
        "        Lat= corona_db_with_latlng.loc[corona_db_with_latlng.PIN==query_info.PIN.iloc[1], 'Lat'];\n",
        "        Lng= corona_db_with_latlng.loc[corona_db_with_latlng.PIN==query_info.PIN.iloc[1], 'Lng'];\n",
        "        mindist= int(get_distance_between_lats_lons(query_info.Lat.iloc[1] ,query_info.Lng.iloc[1], Lat,Lng))\n",
        "        cases= corona_db_with_latlng.loc[corona_db_with_latlng.PIN==query_info.PIN.iloc[1], 'Num_Positive_cases']\n",
        "        district= corona_db_with_latlng.loc[corona_db_with_latlng.PIN==query_info.PIN.iloc[1], 'District']\n",
        "        state= corona_db_with_latlng.loc[corona_db_with_latlng.PIN==query_info.PIN.iloc[1], 'State']\n",
        "        print(\"The nearest location with COVID-19 from your PIN is in your own Postal Location with {} number of positive cases\".format(cases.values[0]))\n",
        "        print(\"Location: {} , {}\".format(district.values[0].upper(), state.values[0].upper()))\n",
        "    else:\n",
        "        (mindist, cases, district, state) = get_idx_distance_from_query_locations(query_info.Lat.iloc[1] ,query_info.Lng.iloc[1], corona_db_with_latlng)  \n",
        "        print(\"The nearest location with COVID-19 from your PIN is within {} km with {} number of positive cases\".format(mindist, cases))\n",
        "        print(\"Location: {} , {}\".format(district.upper(), state.upper()))\n",
        "        \n",
        "'''"
      ],
      "execution_count": 4,
      "outputs": [
        {
          "output_type": "execute_result",
          "data": {
            "application/vnd.google.colaboratory.intrinsic+json": {
              "type": "string"
            },
            "text/plain": [
              "'\\ndef get_distance_between_lats_lons(lat1,lon1,lat2,lon2):\\n# approximate radius of earth in km\\n        R = 6373\\n        lat1 = radians(lat1)\\n        lon1 = radians(lon1)\\n        lat2 = radians(lat2)\\n        lon2 = radians(lon2)\\n        dlon = lon2 - lon1\\n        dlat = lat2 - lat1\\n        a = sin(dlat / 2)**2 + cos(lat1) * cos(lat2) * sin(dlon / 2)**2\\n        c = 2 * atan2(sqrt(a), sqrt(1 - a))\\n        distance = R * c\\n        return(distance)\\ncity_wise_coordinates= pd.read_csv(\\'../input/indian-postal-codes/IndiaPostalCodes - IndiaPostalCodes.csv\\')\\ncity_wise_coordinates[\\'City\\'] = city_wise_coordinates[\\'City\\'].str.upper()\\ncity_wise_coordinates[\\'District\\'] = city_wise_coordinates[\\'District\\'].str.upper()\\ncity_wise_coordinates[\\'State\\'] = city_wise_coordinates[\\'State\\'].str.upper()\\ndistrict_wise_pin_states= city_wise_coordinates.groupby(\\'District\\')[\\'PIN\\',\\'State\\'].agg(lambda x:x.value_counts().index[0])\\ndistrict_wise_lat_lng= city_wise_coordinates.groupby(\\'District\\')[\\'Lat\\',\\'Lng\\'].agg(pd.Series.mean)\\ndistrict_wise_data_geonames= district_wise_pin_states.merge(district_wise_lat_lng,left_on=\\'District\\', right_on=\\'District\\', how= \\'inner\\').reset_index()\\ndfp= pd.read_json(\"https://api.covid19india.org/raw_data.json\")## data from covid19india.org\\ndf3= []\\nfor row in range(0,dfp.shape[0]):\\n    df1= dfp[\\'raw_data\\'][row]\\n    df2=pd.DataFrame(df1.items()).set_index(0)\\n    df3.append(df2.T)           \\nappended_data = pd.concat(df3, sort=False)\\nappended_data.replace(r\\'^\\\\s*$\\', np.nan, regex=True, inplace = True) \\nappended_data.rename(columns={\\'detectedcity\\':\\'City\\'}, inplace=True)\\nappended_data.rename(columns={\\'detecteddistrict\\':\\'District\\'}, inplace=True)\\nappended_data.rename(columns={\\'detectedstate\\':\\'State\\'}, inplace=True)\\nappended_data[\\'City\\'] = appended_data[\\'City\\'].str.upper()\\nappended_data[\\'District\\'] = appended_data[\\'District\\'].str.upper()\\nappended_data[\\'State\\'] = appended_data[\\'State\\'].str.upper()\\nappended_data= appended_data.dropna(thresh=3)\\ndistrict_wise_counts= appended_data.groupby(\\'District\\').agg({\\'patientnumber\\': \\'count\\'})\\ndistrict_wise_counts.rename(columns={\\'patientnumber\\':\\'d_patient_counts\\'}, inplace=True)\\ndistrict_wise_counts =district_wise_counts.reset_index()\\ndistrict_wise_counts[\\'District\\'] = district_wise_counts[\\'District\\'].str.upper()\\ncorona_db_with_latlng= district_wise_counts.merge(district_wise_data_geonames, left_on=\\'District\\', right_on=\\'District\\', how= \\'inner\\')\\ncorona_db_with_latlng.rename(columns={\\'d_patient_counts\\':\\'Num_Positive_cases\\'}, inplace=True)\\ndef get_idx_distance_from_query_locations(q_lat, q_lng, corona_db_with_latlng):\\n    dist_array=[]\\n    for index, row in corona_db_with_latlng.iterrows():\\n        dist= int(get_distance_between_lats_lons(q_lat,q_lng,row[\\'Lat\\'],row[\\'Lng\\']))\\n        dist_array.append(dist)  \\n    minpos = dist_array.index(min(dist_array)) \\n    mindist= dist_array[minpos]\\n    cases= corona_db_with_latlng.loc[minpos,\\'Num_Positive_cases\\']\\n    location= corona_db_with_latlng.loc[minpos,\\'District\\']\\n    state= corona_db_with_latlng.loc[minpos,\\'State\\']\\n    Lats= corona_db_with_latlng.loc[minpos,\\'Lat\\']\\n    Lngs= corona_db_with_latlng.loc[minpos,\\'Lng\\']\\n    return(mindist, cases, location, state)\\ndef get_nearest_covid19_stats(query_info,corona_db_with_latlng):\\n    if query_info.PIN.iloc[1] in corona_db_with_latlng[\\'PIN\\'].values:\\n        mindist= 2\\n        Lat= corona_db_with_latlng.loc[corona_db_with_latlng.PIN==query_info.PIN.iloc[1], \\'Lat\\'];\\n        Lng= corona_db_with_latlng.loc[corona_db_with_latlng.PIN==query_info.PIN.iloc[1], \\'Lng\\'];\\n        mindist= int(get_distance_between_lats_lons(query_info.Lat.iloc[1] ,query_info.Lng.iloc[1], Lat,Lng))\\n        cases= corona_db_with_latlng.loc[corona_db_with_latlng.PIN==query_info.PIN.iloc[1], \\'Num_Positive_cases\\']\\n        district= corona_db_with_latlng.loc[corona_db_with_latlng.PIN==query_info.PIN.iloc[1], \\'District\\']\\n        state= corona_db_with_latlng.loc[corona_db_with_latlng.PIN==query_info.PIN.iloc[1], \\'State\\']\\n        print(\"The nearest location with COVID-19 from your PIN is in your own Postal Location with {} number of positive cases\".format(cases.values[0]))\\n        print(\"Location: {} , {}\".format(district.values[0].upper(), state.values[0].upper()))\\n    else:\\n        (mindist, cases, district, state) = get_idx_distance_from_query_locations(query_info.Lat.iloc[1] ,query_info.Lng.iloc[1], corona_db_with_latlng)  \\n        print(\"The nearest location with COVID-19 from your PIN is within {} km with {} number of positive cases\".format(mindist, cases))\\n        print(\"Location: {} , {}\".format(district.upper(), state.upper()))\\n        \\n'"
            ]
          },
          "metadata": {},
          "execution_count": 4
        }
      ]
    },
    {
      "cell_type": "code",
      "metadata": {
        "_kg_hide-input": true,
        "_kg_hide-output": true,
        "trusted": true,
        "id": "J0GPe3HKKoTJ"
      },
      "source": [
        "link = 'https://www.mohfw.gov.in/'\n",
        "req = requests.get(link)\n",
        "soup = BeautifulSoup(req.content, \"html.parser\")\n",
        "thead = soup.find_all('thead')[-1]\n",
        "head = thead.find_all('tr')\n",
        "tbody = soup.find_all('tbody')[-1]\n",
        "body = tbody.find_all('tr')\n",
        "head_rows = []\n",
        "body_rows = []\n",
        "for tr in head:\n",
        "    td = tr.find_all(['th', 'td'])\n",
        "    row = [i.text for i in td]\n",
        "    head_rows.append(row)   \n",
        "for tr in body:\n",
        "    td = tr.find_all(['th', 'td'])\n",
        "    row = [i.text for i in td]\n",
        "    body_rows.append(row)\n",
        "df_bs = pd.DataFrame(body_rows[:len(body_rows)-1], columns=head_rows[0])   \n",
        "df_bs.drop('S. No.', axis=1, inplace=True)\n",
        "#To remove last raw\n",
        "df_bs.drop(df_bs.tail(5).index,axis = 0,inplace=True)\n",
        "#df_bs.drop(df_bs.tail(1).index,axis = 0,inplace=True)\n",
        "#df_bs.drop(df_bs.tail(1).index,axis = 0,inplace=True)\n",
        "now  = datetime.now()\n",
        "df_bs['Date'] = now.strftime(\"%m/%d/%Y\") \n",
        "df_bs['Date'] = pd.to_datetime(df_bs['Date'], format='%m/%d/%Y')\n",
        "df_bs.rename(columns = {'Deaths**':'Death'},inplace = True)\n",
        "#df_bs"
      ],
      "execution_count": null,
      "outputs": []
    },
    {
      "cell_type": "code",
      "metadata": {
        "_kg_hide-input": true,
        "_kg_hide-output": true,
        "trusted": true,
        "id": "SkfzmxR4KoTL"
      },
      "source": [
        "locations = {\n",
        "    \"Kerala\" : [10.8505,76.2711],\n",
        "    \"Maharashtra\" : [19.7515,75.7139],\n",
        "    \"Karnataka\": [15.3173,75.7139],\n",
        "    \"Telangana\": [18.1124,79.0193],\n",
        "    \"Uttar Pradesh\": [26.8467,80.9462],\n",
        "    \"Rajasthan\": [27.0238,74.2179],\n",
        "    \"Gujarat\":[22.2587,71.1924],\n",
        "    \"Delhi\" : [28.7041,77.1025],\n",
        "    \"Punjab\":[31.1471,75.3412],\n",
        "    \"Tamil Nadu\": [11.1271,78.6569],\n",
        "    \"Haryana\": [29.0588,76.0856],\n",
        "    \"Madhya Pradesh\":[22.9734,78.6569],\n",
        "    \"Jammu and Kashmir\":[33.7782,76.5762],\n",
        "    \"Ladakh\": [34.1526,77.5770],\n",
        "    \"Andhra Pradesh\":[15.9129,79.7400],\n",
        "    \"West Bengal\": [22.9868,87.8550],\n",
        "    \"Bihar\": [25.0961,85.3131],\n",
        "    \"Chhattisgarh\":[21.2787,81.8661],\n",
        "    \"Chandigarh\":[30.7333,76.7794],\n",
        "    \"Uttarakhand\":[30.0668,79.0193],\n",
        "    \"Himachal Pradesh\":[31.1048,77.1734],\n",
        "    \"Goa\": [15.2993,74.1240],\n",
        "    \"Odisha\":[20.9517,85.0985],\n",
        "    \"Andaman and Nicobar Islands\": [11.7401,92.6586],\n",
        "    \"Puducherry\":[11.9416,79.8083],\n",
        "    \"Manipur\":[24.6637,93.9063],\n",
        "    \"Mizoram\":[23.1645,92.9376],\n",
        "    \"Assam\":[26.2006,92.9376],\n",
        "    \"Meghalaya\":[25.4670,91.3662],\n",
        "    \"Tripura\":[23.9408,91.9882],\n",
        "    \"Arunachal Pradesh\":[28.2180,94.7278],\n",
        "    \"Jharkhand\" : [23.6102,85.2799],\n",
        "    \"Nagaland\": [26.1584,94.5624],\n",
        "    \"Sikkim\": [27.5330,88.5122],\n",
        "    \"Dadra and Nagar Haveli and Daman and Diu\":[20.1809,73.0169],\n",
        "    \"Lakshadweep\":[10.5667,72.6417],\n",
        "    \"Daman and Diu\":[20.4283,72.8397] , \n",
        "    'State Unassigned':[0,0]\n",
        "}"
      ],
      "execution_count": null,
      "outputs": []
    },
    {
      "cell_type": "code",
      "metadata": {
        "_kg_hide-input": true,
        "_kg_hide-output": true,
        "trusted": true,
        "id": "p_Y-SbDOKoTN"
      },
      "source": [
        "lat = {'Delhi':28.7041,\n",
        "       'Haryana':29.0588,\n",
        "       'Kerala':10.8505,\n",
        "       'Rajasthan':27.0238,\n",
        "       'Telengana':18.1124,\n",
        "       'Uttar Pradesh':26.8467,\n",
        "       'Ladakh':34.2996,\n",
        "       'Tamil Nadu':11.1271,\n",
        "       'Jammu and Kashmir':33.7782,\n",
        "       'Punjab':31.1471,\n",
        "       'Karnataka':15.3173,\n",
        "       'Maharashtra':19.7515,\n",
        "       'Andhra Pradesh':15.9129, \n",
        "       'Odisha':20.9517, \n",
        "       'Uttarakhand':30.0668, \n",
        "       'West Bengal':22.9868, \n",
        "       'Puducherry': 11.9416, \n",
        "       'Chandigarh': 30.7333, \n",
        "       'Chhattisgarh':21.2787, \n",
        "       'Gujarat': 22.2587, \n",
        "       'Himachal Pradesh': 31.1048, \n",
        "       'Madhya Pradesh': 22.9734, \n",
        "       'Bihar': 25.0961, \n",
        "       'Manipur':24.6637,\n",
        "       'Mizoram':23.1645,\n",
        "        'Goa':15.2993,\n",
        "     'Andaman and Nicobar Islands':11.7401,\n",
        "      \"Jharkhand\" : 23.6102,\n",
        "      'Arunachal Pradesh': 28.2180,\n",
        "      'Assam' : 26.2006,\n",
        "      'Tripura':23.9408,\n",
        "      'Meghalaya':25.4670,\n",
        "      'Nagaland#':26.1584}\n",
        "\n",
        "long = {'Delhi':77.1025,\n",
        "        'Haryana':76.0856,\n",
        "        'Kerala':76.2711,\n",
        "        'Rajasthan':74.2179,\n",
        "        'Telengana':79.0193,\n",
        "        'Uttar Pradesh':80.9462,\n",
        "        'Ladakh':78.2932,\n",
        "        'Tamil Nadu':78.6569,\n",
        "        'Jammu and Kashmir':76.5762,\n",
        "        'Punjab':75.3412,\n",
        "        'Karnataka':75.7139,\n",
        "        'Maharashtra':75.7139,\n",
        "        'Andhra Pradesh':79.7400, \n",
        "        'Odisha':85.0985, \n",
        "        'Uttarakhand':79.0193, \n",
        "        'West Bengal':87.8550, \n",
        "        'Puducherry': 79.8083, \n",
        "        'Chandigarh': 76.7794, \n",
        "        'Chhattisgarh':81.8661, \n",
        "        'Gujarat': 71.1924, \n",
        "        'Himachal Pradesh': 77.1734, \n",
        "        'Madhya Pradesh': 78.6569, \n",
        "        'Bihar': 85.3131, \n",
        "        'Manipur':93.9063,\n",
        "        'Mizoram':92.9376,\n",
        "         'Goa':74.1240,\n",
        "        \"Jharkhand\" : 85.2799,\n",
        "       'Andaman and Nicobar Islands':92.6586,\n",
        "       'Arunachal Pradesh' :94.7278,\n",
        "        'Assam' : 92.9376,\n",
        "        'Tripura':91.9882,\n",
        "        'Meghalaya':91.3662,\n",
        "        'Nagaland#':94.5624\n",
        "       }\n",
        "df_bs['Latitude'] = df_bs['Name of State / UT'].map(lat)\n",
        "df_bs['Longitude'] = df_bs['Name of State / UT'].map(long)\n",
        "df_bs['Total cases'] = df_bs.iloc[:,1]\n",
        "df_bs.ix[24, 'Death'] = 0\n",
        "#df_bs['Death'] = df_bs.iloc[:,3]\n",
        "#data['Active cases'] = data['Total cases'] - (data['Cured/Discharged/Migrated'] + data['Death']"
      ],
      "execution_count": null,
      "outputs": []
    },
    {
      "cell_type": "code",
      "metadata": {
        "_kg_hide-input": true,
        "_kg_hide-output": true,
        "trusted": true,
        "id": "N3q167oCKoTP"
      },
      "source": [
        "# complete data\n",
        "\n",
        "file_name = now.strftime(\"%Y_%m_%d\")+'.csv'\n",
        "file_loc = ''\n",
        "df_bs.to_csv(file_loc + file_name, index=False)\n",
        "loc = \"\"\n",
        "files = glob.glob(loc+'2020*.csv')\n",
        "dfs = []\n",
        "for i in files:\n",
        "    df_temp = pd.read_csv(i)\n",
        "    df_temp = df_temp.rename(columns={'Cured':'Cured/Discharged'})\n",
        "    df_temp = df_temp.rename(columns={'Cured/Discharged':'Cured/Discharged/Migrated',\n",
        "                                      'Deaths ( more than 70% cases due to comorbidities )':'Death'})\n",
        "    dfs.append(df_temp)\n",
        "    \n",
        "# print(dfs)\n",
        "\n",
        "complete_data = pd.concat(dfs, ignore_index=True).sort_values(['Date'], ascending=True).reset_index(drop=True)\n",
        "complete_data['Date'] = pd.to_datetime(complete_data['Date'])\n",
        "complete_data = complete_data.sort_values(['Date', 'Name of State / UT']).reset_index(drop=True)\n",
        "cols = ['Total cases','Cured/Discharged/Migrated', 'Death']\n",
        "tot = complete_data.iloc[:,1]\n",
        "complete_data[cols] = complete_data[cols].fillna(0).astype('int')"
      ],
      "execution_count": null,
      "outputs": []
    },
    {
      "cell_type": "code",
      "metadata": {
        "_kg_hide-input": true,
        "trusted": true,
        "id": "6s8s-vnLKoTQ"
      },
      "source": [
        "symptoms={'symptom':['Fever',\n",
        "        'Dry cough',\n",
        "        'Fatigue',\n",
        "        'Sputum production',\n",
        "        'Shortness of breath',\n",
        "        'Muscle pain',\n",
        "        'Sore throat',\n",
        "        'Headache',\n",
        "        'Chills',\n",
        "        'Nausea or vomiting',\n",
        "        'Nasal congestion',\n",
        "        'Diarrhoea',\n",
        "        'Haemoptysis',\n",
        "        'Conjunctival congestion'],'percentage':[87.9,67.7,38.1,33.4,18.6,14.8,13.9,13.6,11.4,5.0,4.8,3.7,0.9,0.8]}\n",
        "\n",
        "symptoms=pd.DataFrame(data=symptoms,index=range(14))"
      ],
      "execution_count": null,
      "outputs": []
    },
    {
      "cell_type": "code",
      "metadata": {
        "_kg_hide-input": true,
        "_kg_hide-output": true,
        "trusted": true,
        "id": "zX2Q7OZnKoTR"
      },
      "source": [
        "data = pd.DataFrame(complete_data)\n",
        "covid_19_India = pd.read_csv('../input/covid19-in-india/covid_19_india.csv')\n",
        "df = pd.read_csv('../input/covid19-corona-virus-india-dataset/complete.csv', parse_dates=['Date'])\n",
        "p_df = pd.read_csv('../input/covid19-corona-virus-india-dataset/patients_data.csv')\n",
        "p_df['date_announced'] = pd.to_datetime(p_df['date_announced'], errors = 'coerce')\n",
        "p_df['date_announced'] = pd.to_datetime(p_df['date_announced'], format='%d/%m/%Y')\n",
        "p_df['status_change_date'] = pd.to_datetime(p_df['status_change_date'], format='%d/%m/%Y')\n",
        "p_df['nationality'] = p_df['nationality'].replace('Indian', 'India')\n",
        "india_data_json = requests.get('https://api.rootnet.in/covid19-in/unofficial/covid19india.org/statewise').json()\n",
        "df_india = pd.io.json.json_normalize(india_data_json['data']['statewise'])\n",
        "df_india = df_india.set_index(\"state\")\n",
        "test1 = pd.read_csv('../input/icmr-testing-data/testing data.csv')\n",
        "test1.drop(df.index[[42]],inplace = True)\n",
        "state_data = pd.read_csv('https://api.covid19india.org/csv/latest/state_wise.csv')\n",
        "zones = pd.read_csv('../input/covid19-corona-virus-india-dataset/zones.csv')\n",
        "#testing_data = pd.read_csv('../input/covid19-corona-virus-india-dataset/tests.csv')#,parse_dates=['updatedon'])"
      ],
      "execution_count": null,
      "outputs": []
    },
    {
      "cell_type": "markdown",
      "metadata": {
        "id": "_pDNZmiPKoTS"
      },
      "source": [
        "# Data Cleaning"
      ]
    },
    {
      "cell_type": "code",
      "metadata": {
        "_kg_hide-input": true,
        "trusted": true,
        "id": "a6U_aLZ0KoTS"
      },
      "source": [
        "'''\n",
        "date_wise_testing = testing_data[['state',\"updatedon\",\"totaltested\",\"positive\",\"negative\",'unconfirmed','testspermillion','testsperthousand']]\n",
        "date_wise_testing['updatedon'] = date_wise_testing['updatedon'].apply(pd.to_datetime, dayfirst=True)\n",
        "date_wise_testing = date_wise_testing.groupby([\"updatedon\"]).sum().reset_index()\n",
        "def formatted_text(string):\n",
        "    display(Markdown(string)) \n",
        "date_wise_testing.to_csv('date_wise_testing.csv''\n",
        "\n",
        "'''"
      ],
      "execution_count": null,
      "outputs": []
    },
    {
      "cell_type": "code",
      "metadata": {
        "_kg_hide-input": true,
        "_kg_hide-output": true,
        "trusted": true,
        "id": "6MGyIyB7KoTT"
      },
      "source": [
        "covid_19_India[covid_19_India['Deaths']=='0#']\n"
      ],
      "execution_count": null,
      "outputs": []
    },
    {
      "cell_type": "code",
      "metadata": {
        "_kg_hide-input": true,
        "trusted": true,
        "id": "JNrOX8jaKoTT"
      },
      "source": [
        "covid_19_India.replace(np.NaN, 0, inplace=True)\n",
        "covid_19_India.replace('0#', 0, inplace=True)\n",
        "#covid_19_India.drop(['ConfirmedIndianNational','ConfirmedForeignNational'],axis=1, inplace = True)\n",
        "covid_19_India.fillna(0)\n",
        "covid_19_India['Confirmed'].astype(int)\n",
        "covid_19_India['Cured'].astype(int)\n",
        "covid_19_India['Deaths'].astype(int)\n",
        "covid_19_India['Active']= covid_19_India['Confirmed']- (covid_19_India['Cured'] + covid_19_India['Deaths'])\n"
      ],
      "execution_count": null,
      "outputs": []
    },
    {
      "cell_type": "code",
      "metadata": {
        "_kg_hide-input": true,
        "trusted": true,
        "id": "IvxgOvjYKoTT"
      },
      "source": [
        "data['Active cases'] = data['Total cases'] - (data['Cured/Discharged/Migrated'] + data['Death']).astype('int')\n",
        "data.to_csv('state_wise_data.csv',index=False)"
      ],
      "execution_count": null,
      "outputs": []
    },
    {
      "cell_type": "code",
      "metadata": {
        "_kg_hide-input": true,
        "_kg_hide-output": true,
        "trusted": true,
        "id": "BqwJ2d1PKoTU"
      },
      "source": [
        "df['Name of State / UT'] = df['Name of State / UT'].str.replace('Union Territory of ', '')\n",
        "df = df[['Date', 'Name of State / UT', 'Latitude', 'Longitude', 'Total Confirmed cases', 'Death', 'Cured/Discharged/Migrated']]\n",
        "df.columns = ['Date', 'State/UT', 'Latitude', 'Longitude', 'Confirmed', 'Deaths', 'Cured']\n",
        "\n",
        "for i in ['Confirmed', 'Deaths', 'Cured']:\n",
        "    df[i] = df[i].astype('int')\n",
        "    \n",
        "df['Active'] = df['Confirmed'] - df['Deaths'] - df['Cured']\n",
        "df['Mortality rate'] = df['Deaths']/df['Confirmed']\n",
        "df['Recovery rate'] = df['Cured']/df['Confirmed']\n",
        "\n",
        "df = df[['Date', 'State/UT', 'Latitude', 'Longitude', 'Confirmed', 'Active', 'Deaths', 'Mortality rate', 'Cured', 'Recovery rate']]"
      ],
      "execution_count": null,
      "outputs": []
    },
    {
      "cell_type": "code",
      "metadata": {
        "_kg_hide-input": true,
        "_kg_hide-output": true,
        "trusted": true,
        "id": "7s6irRr6KoTU"
      },
      "source": [
        "latest = df[df['Date']==max(df['Date'])]\n",
        "\n",
        "# days\n",
        "latest_day = max(df['Date'])\n",
        "day_before = latest_day - timedelta(days = 1)\n",
        "\n",
        "# state and total cases \n",
        "latest_day_df = df[df['Date']==latest_day].set_index('State/UT')\n",
        "day_before_df = df[df['Date']==day_before].set_index('State/UT')\n",
        "temp = pd.merge(left = latest_day_df, right = day_before_df, on='State/UT', suffixes=('_lat', '_bfr'), how='outer')\n",
        "latest_day_df['New cases'] = temp['Confirmed_lat'] - temp['Confirmed_bfr']\n",
        "latest = latest_day_df.reset_index()\n",
        "latest.fillna(1, inplace=True)\n",
        "latest.to_csv('statewise_data_with_new_cases.csv')"
      ],
      "execution_count": null,
      "outputs": []
    },
    {
      "cell_type": "code",
      "metadata": {
        "_kg_hide-input": true,
        "trusted": true,
        "id": "YsvQP9kxKoTU"
      },
      "source": [
        "date_wise_data = covid_19_India[['State/UnionTerritory',\"Date\",\"Confirmed\",\"Deaths\",\"Cured\",'Active']]\n",
        "date_wise_data['Date'] = date_wise_data['Date'].apply(pd.to_datetime, dayfirst=True)\n",
        "date_wise_data = date_wise_data.groupby([\"Date\"]).sum().reset_index()\n",
        "def formatted_text(string):\n",
        "    display(Markdown(string))\n",
        "date_wise_data.to_csv('date_wise_data.csv')"
      ],
      "execution_count": null,
      "outputs": []
    },
    {
      "cell_type": "code",
      "metadata": {
        "_kg_hide-input": true,
        "trusted": true,
        "id": "ONxtjwzhKoTV"
      },
      "source": [
        "#df_india.drop(df_india.index[14], inplace=True)\n",
        "df_india[\"Lat\"] = \"\"\n",
        "df_india[\"Long\"] = \"\"\n",
        "for index in df_india.index :\n",
        "    df_india.loc[df_india.index == index,\"Lat\"] = locations[index][0]\n",
        "    df_india.loc[df_india.index == index,\"Long\"] = locations[index][1]"
      ],
      "execution_count": null,
      "outputs": []
    },
    {
      "cell_type": "code",
      "metadata": {
        "_kg_hide-input": true,
        "trusted": true,
        "id": "cUqxHYgLKoTV"
      },
      "source": [
        "test1['day'] = test1['day'].apply(pd.to_datetime, dayfirst=True)\n",
        "test1[\"positive_ratio\"]= np.round(100*test1[\"totalPositiveCases\"]/test1[\"totalSamplesTested\"],2)\n",
        "test1[\"perday_positive\"] = test1[\"totalPositiveCases\"].diff()\n",
        "test1[\"perday_tests\"] = test1[\"totalSamplesTested\"].diff()\n",
        "test1[\"positive_ratio\"]= np.round(100*test1[\"perday_positive\"]/test1[\"perday_tests\"],2)\n",
        "test1 = test1.fillna(0)\n",
        "test1.drop(test1.head(1).index,axis = 0,inplace=True)\n",
        "test1.to_csv('ICMR_Testing_Data.csv')\n",
        "#test1.head()"
      ],
      "execution_count": null,
      "outputs": []
    },
    {
      "cell_type": "markdown",
      "metadata": {
        "id": "QWd6o9ZHKoTV"
      },
      "source": [
        "# **Overall view of the situation**"
      ]
    },
    {
      "cell_type": "code",
      "metadata": {
        "_kg_hide-input": true,
        "trusted": true,
        "id": "f9kXgKe9KoTV"
      },
      "source": [
        "fig = px.bar(symptoms[['symptom', 'percentage']].sort_values('percentage', ascending=False), \n",
        "             x=\"percentage\", y=\"symptom\", color='symptom',color_discrete_sequence = ex.colors.cyclical.IceFire\n",
        "              ,title='Symptom of Coronavirus',orientation='h')\n",
        "fig.update_layout(plot_bgcolor='rgb(275, 270, 273)')\n",
        "fig.update_traces(textposition='inside')\n",
        "fig.update_layout(uniformtext_minsize=8, uniformtext_mode='hide')\n",
        "fig.update_layout(barmode='stack')\n",
        "fig.update_layout(plot_bgcolor='rgb(275, 270, 273)',yaxis_title='Symptoms',xaxis_title='Percentages')\n",
        "fig.update_layout(template = 'plotly_white')\n",
        "fig.show()"
      ],
      "execution_count": null,
      "outputs": []
    },
    {
      "cell_type": "code",
      "metadata": {
        "_kg_hide-input": true,
        "trusted": true,
        "id": "vl64jXHLKoTW"
      },
      "source": [
        "total_tested = test1[\"totalSamplesTested\"].max()\n",
        "total_positive = test1[\"totalPositiveCases\"].max()\n",
        "#total_tested = date_wise_testing['totaltested'].max()\n",
        "#total_positive = date_wise_testing['positive'].max()\n",
        "positivecase_ratio = total_positive * 100 / total_tested\n",
        "pcr = float(\"{:.2f}\".format(positivecase_ratio))\n",
        "test_million = np.round(1000000*test1['totalSamplesTested'].max()/13000000000,2)\n",
        "print('Total Number of people tested :', total_tested)\n",
        "print('Total Number of positive cases :',total_positive)\n",
        "print('Test Conducted per Million People :',test_million)\n",
        "print('Positive case per Tests [%]:',pcr)\n",
        "print('Total Recovered Cases :',data['Cured/Discharged/Migrated'].sum())\n",
        "print('Total Deaths :',data['Death'].sum())"
      ],
      "execution_count": null,
      "outputs": []
    },
    {
      "cell_type": "code",
      "metadata": {
        "_kg_hide-input": true,
        "trusted": true,
        "id": "xqau8i4eKoTW"
      },
      "source": [
        "#Overall \n",
        "fig = go.Figure(data=[go.Pie(labels=['Total Samples Tested','Positive Cases from tested samples'],\n",
        "                            values= [total_tested,total_positive],hole =.3)])\n",
        "fig.update_traces(hoverinfo='label+percent', textinfo='value',textfont_size=20,\n",
        "                  marker=dict(colors=['#263fa3','#cc3c2f'], line=dict(color='#FFFFFF', width=2)))\n",
        "fig.update_layout(title_text='COVID19 Test Results from ICMR in india',plot_bgcolor='rgb(275, 270, 273)')\n",
        "fig.show()"
      ],
      "execution_count": null,
      "outputs": []
    },
    {
      "cell_type": "code",
      "metadata": {
        "_kg_hide-input": true,
        "trusted": true,
        "id": "h_22EmlXKoTW"
      },
      "source": [
        "#Overall \n",
        "ac= data['Active cases'].sum()\n",
        "rvd = data['Cured/Discharged/Migrated'].sum()\n",
        "dth = data['Death'].sum()\n",
        "fig = go.Figure(data=[go.Pie(labels=['Active','Cured','Death'],\n",
        "                             values= [ac,rvd,dth],hole =.3)])\n",
        "fig.update_traces(hoverinfo='label+percent', textinfo='value', textfont_size=20,\n",
        "                  marker=dict(colors=['#263fa3', '#2fcc41','#cc3c2f'], line=dict(color='#FFFFFF', width=2)))\n",
        "fig.update_layout(title_text='Current Situation in India according www.mohfw.gov.in',plot_bgcolor='rgb(275, 270, 273)')\n",
        "fig.show()"
      ],
      "execution_count": null,
      "outputs": []
    },
    {
      "cell_type": "code",
      "metadata": {
        "_kg_hide-input": true,
        "trusted": true,
        "id": "NSF3bVeaKoTW"
      },
      "source": [
        "Total_confirmed = df_india['active'].sum()\n",
        "Total_recovered =  df_india['recovered'].sum()\n",
        "Total_death = df_india['deaths'].sum()\n",
        "data12 = [['active', Total_confirmed], ['recovered', Total_recovered], ['deaths', Total_death]] \n",
        "df123 = pd.DataFrame(data12, columns = ['State / UT', 'count']) \n",
        "fig = px.pie(df123,\n",
        "             values= 'count',labels=['Active Cases','Cured','Death'],\n",
        "             names=\"State / UT\",\n",
        "             title=\"Real Time data from www.covid19india.org\",\n",
        "             template=\"seaborn\")\n",
        "fig.update_traces(hoverinfo='label+percent', textinfo='value', textfont_size=14,\n",
        "                  marker=dict(colors=['#263fa3', '#2fcc41','#cc3c2f'], line=dict(color='#FFFFFF', width=2)))\n",
        "fig.update_traces(textposition='inside')\n",
        "#fig.update_layout(uniformtext_minsize=12, uniformtext_mode='hide')\n",
        "fig.update_traces(rotation=90, pull=0.05, textinfo=\"percent+label\")\n",
        "fig.show()"
      ],
      "execution_count": null,
      "outputs": []
    },
    {
      "cell_type": "code",
      "metadata": {
        "_kg_hide-input": true,
        "trusted": true,
        "id": "2Ge49-7hKoTX"
      },
      "source": [
        "from IPython.core.display import HTML\n",
        "HTML(''' <iframe title=\"\" aria-label=\"Interactive line chart\" id=\"datawrapper-chart-kc9cP\" src=\"https://datawrapper.dwcdn.net/kc9cP/1/\" scrolling=\"no\" frameborder=\"0\" style=\"width: 0; min-width: 100% !important; border: none;\" height=\"400\"></iframe><script type=\"text/javascript\">!function(){\"use strict\";window.addEventListener(\"message\",(function(a){if(void 0!==a.data[\"datawrapper-height\"])for(var e in a.data[\"datawrapper-height\"]){var t=document.getElementById(\"datawrapper-chart-\"+e)||document.querySelector(\"iframe[src*='\"+e+\"']\");t&&(t.style.height=a.data[\"datawrapper-height\"][e]+\"px\")}}))}();\n",
        "</script> ''')"
      ],
      "execution_count": null,
      "outputs": []
    },
    {
      "cell_type": "code",
      "metadata": {
        "_kg_hide-input": true,
        "_kg_hide-output": true,
        "trusted": true,
        "id": "IC-egFp5KoTX"
      },
      "source": [
        "'''\n",
        "#Overall \n",
        "ac= df_india['active'].sum()\n",
        "rvd = df_india['recovered'].sum()\n",
        "dth = df_india['deaths'].sum()\n",
        "fig = go.Figure(data=[go.Pie(labels=['Active Cases','Cured','Death'],\n",
        "                             values= [ac,rvd,dth],hole =.3)])\n",
        "fig.update_traces(hoverinfo='label+percent', textinfo='value', textfont_size=20,\n",
        "                  marker=dict(colors=['#263fa3', '#2fcc41','#cc3c2f'], line=dict(color='#FFFFFF', width=2)))\n",
        "fig.update_layout(title_text='Current Situation in India according www.covid19india.org',plot_bgcolor='rgb(275, 270, 273)')\n",
        "fig.show()\n",
        "\n",
        "'''"
      ],
      "execution_count": null,
      "outputs": []
    },
    {
      "cell_type": "markdown",
      "metadata": {
        "id": "ahR2zZlrKoTX"
      },
      "source": [
        "# Gender wise insights of COVID-19 cases in india"
      ]
    },
    {
      "cell_type": "code",
      "metadata": {
        "_kg_hide-input": true,
        "trusted": true,
        "id": "3nvo4u_SKoTX"
      },
      "source": [
        "gender_wise = p_df[['gender','age_bracket','current_status']]\n",
        "gender_wise = gender_wise.fillna(\"unknown\")\n",
        "male = len(gender_wise[gender_wise['gender'] == 'M'])\n",
        "female = len(gender_wise[gender_wise['gender'] == 'F'])\n",
        "unknown = len(gender_wise[gender_wise['gender'] == 'unknown'])\n",
        "fig = go.Figure(data=[go.Pie(labels=['Male','Female','Unknown'],\n",
        "                             values= [male,female,unknown],hole =.3)])\n",
        "fig.update_traces(hoverinfo='label+percent', textinfo='value', textfont_size=20,\n",
        "                  marker=dict(colors=['#263fa3', '#d461bf','#d5dfe3'], line=dict(color='#FFFFFF', width=2)))\n",
        "fig.update_layout(title_text='Gender wise Active Cases (Numbers are inaccurate due to missing values)',\n",
        "plot_bgcolor='rgb(275, 270, 273)')\n",
        "fig.show()"
      ],
      "execution_count": null,
      "outputs": []
    },
    {
      "cell_type": "code",
      "metadata": {
        "_kg_hide-input": true,
        "trusted": true,
        "id": "bP08UjGOKoTX"
      },
      "source": [
        "gender_wise = p_df[['gender','age_bracket','current_status']]\n",
        "gender_wise = gender_wise.fillna(\"unknown\")\n",
        "recvd = gender_wise[gender_wise['current_status'] == 'Recovered']\n",
        "male = len(recvd[recvd['gender'] == 'M'])\n",
        "female = len(recvd[recvd['gender'] == 'F'])\n",
        "unknown = len(recvd[recvd['gender'] == 'unknown'])\n",
        "fig = go.Figure(data=[go.Pie(labels=['Male','Female','Unknown'],\n",
        "                             values= [male,female,unknown],hole =.3)])\n",
        "fig.update_traces(hoverinfo='label+percent', textinfo='value', textfont_size=20,\n",
        "                  marker=dict(colors=['#263fa3', '#d461bf','#d5dfe3'], line=dict(color='#FFFFFF', width=2)))\n",
        "fig.update_layout(title_text='Gender wise Recovered Cases (Numbers are inaccurate due to missing values)',\n",
        "plot_bgcolor='rgb(275, 270, 273)')\n",
        "fig.show()"
      ],
      "execution_count": null,
      "outputs": []
    },
    {
      "cell_type": "code",
      "metadata": {
        "_kg_hide-input": true,
        "trusted": true,
        "id": "4301me7rKoTY"
      },
      "source": [
        "#option\n",
        "temp = gender_wise.copy()\n",
        "dd = temp[temp['current_status'] == 'Deceased']\n",
        "d_f = len(dd[dd['gender'] == 'F'])\n",
        "d_m = len(dd[dd['gender'] == 'M'])\n",
        "unk = len(dd[dd['gender']== 'unknown'])\n",
        "fig = go.Figure(data=[go.Pie(labels=['Male','Female','Unknown'],\n",
        "                             values= [d_m,d_f,unk],hole =.3)])\n",
        "fig.update_traces(hoverinfo='label+percent', textinfo='value', textfont_size=20,\n",
        "                  marker=dict(colors=['#263fa3','#d461bf','#d5dfe3'], line=dict(color='#FFFFFF', width=2)))\n",
        "fig.update_layout(title_text='Gender wise Deaths (Numbers are inaccurate due to missing values)',plot_bgcolor='rgb(275, 270, 273)')\n",
        "fig.show()"
      ],
      "execution_count": null,
      "outputs": []
    },
    {
      "cell_type": "code",
      "metadata": {
        "_kg_hide-input": true,
        "trusted": true,
        "id": "9sxkV9CrKoTY"
      },
      "source": [
        "temp = p_df[['status_change_date','age_bracket','current_status','gender','detected_state']].dropna()\n",
        "rec = temp[temp['current_status'] == 'Recovered'].drop('current_status',axis =1).sort_values('status_change_date',ascending=True)\n",
        "rec_x = rec['age_bracket'].astype(int)\n",
        "rec_y = rec['gender']\n",
        "fig = px.histogram(x=rec_x,color =rec_y,orientation = 'v',\n",
        "                   title='Age wise Recovered cases in Male and Female (Numbers are inaccurate due to missing values)')\n",
        "fig.update_layout(barmode='stack')\n",
        "fig.update_layout(plot_bgcolor='rgb(275, 270, 273)',yaxis_title='Deaths',xaxis_title='Age Group')\n",
        "fig.show()"
      ],
      "execution_count": null,
      "outputs": []
    },
    {
      "cell_type": "code",
      "metadata": {
        "_kg_hide-input": true,
        "trusted": true,
        "id": "ot6Cf2gkKoTY"
      },
      "source": [
        "temp = p_df.copy()\n",
        "temp = p_df[['status_change_date','age_bracket','current_status','gender','detected_state']].dropna()\n",
        "dea = temp[temp['current_status'] == 'Deceased'].drop('current_status',axis =1).sort_values('status_change_date',ascending=True)\n",
        "xaxis = dea['age_bracket'].astype(int)\n",
        "yaxis = dea['gender']\n",
        "fig = px.histogram(x=xaxis,color =yaxis,orientation = 'v',\n",
        "                   title='Age wise Deaths in Male and Female (Numbers are inaccurate due to missing values)')\n",
        "fig.update_layout(barmode='stack')\n",
        "fig.update_layout(plot_bgcolor='rgb(275, 270, 273)',yaxis_title='Deaths',xaxis_title='Age Group')\n",
        "fig.show()"
      ],
      "execution_count": null,
      "outputs": []
    },
    {
      "cell_type": "markdown",
      "metadata": {
        "id": "q_NtTC4OKoTY"
      },
      "source": [
        "# **Trend of COVID-19 cases in India**"
      ]
    },
    {
      "cell_type": "code",
      "metadata": {
        "_kg_hide-input": true,
        "trusted": true,
        "id": "Cza28gVOKoTY"
      },
      "source": [
        "import plotly.express as px\n",
        "fig = px.bar(test1, x=\"day\", y=\"perday_tests\", barmode='group',height=500,color = \"perday_tests\",\n",
        "             orientation = 'v',color_discrete_sequence = px.colors.sequential.Plasma_r)\n",
        "fig.update_layout(title_text='Number of COVID-19 test conducted everyday',plot_bgcolor='rgb(275, 270, 273)')\n",
        "fig.update_layout(barmode='stack')\n",
        "fig.update_layout(plot_bgcolor='rgb(275, 270, 273)',yaxis_title='Tests',xaxis_title='Date')\n",
        "fig.show()"
      ],
      "execution_count": null,
      "outputs": []
    },
    {
      "cell_type": "code",
      "metadata": {
        "_kg_hide-input": true,
        "trusted": true,
        "id": "Gi3tsUyHKoTZ"
      },
      "source": [
        "fig = go.Figure(data=[\n",
        "go.Bar(name='Tested', x=test1['day'], y=test1['perday_tests'],marker_color='#2fcc41'),\n",
        "go.Bar(name='Positive', x=test1['day'], y=test1['perday_positive'],marker_color='#FF0000')])\n",
        "fig.update_layout(barmode='stack',width=500, height=600)\n",
        "fig.update_traces(textposition='inside')\n",
        "fig.update_layout(uniformtext_minsize=8, uniformtext_mode='hide')\n",
        "fig.update_layout(title_text='Number of people tested and positive among them',\n",
        "                  plot_bgcolor='rgb(275, 270, 273)')\n",
        "fig.show()"
      ],
      "execution_count": null,
      "outputs": []
    },
    {
      "cell_type": "code",
      "metadata": {
        "_kg_hide-input": true,
        "trusted": true,
        "id": "FeKSqMLSKoTZ"
      },
      "source": [
        "temp = date_wise_data.copy()\n",
        "fig = go.Figure(data=[\n",
        "go.Bar(name='Deaths', x=temp['Date'], y=temp['Deaths'],marker_color='#ff0000'),\n",
        "go.Bar(name='Recovered Cases', x=temp['Date'], y=temp['Cured'],marker_color='#2bad57'),\n",
        "go.Bar(name='Confirmed Cases', x=temp['Date'], y=temp['Confirmed'],marker_color='#326ac7')])\n",
        "fig.update_layout(barmode='stack')\n",
        "fig.update_traces(textposition='inside')\n",
        "fig.update_layout(uniformtext_minsize=8, uniformtext_mode='hide')\n",
        "fig.update_layout(title_text='COVID-19 Cases,Recovery and Deaths in India',\n",
        "                  plot_bgcolor='rgb(275, 270, 273)')\n",
        "fig.show()"
      ],
      "execution_count": null,
      "outputs": []
    },
    {
      "cell_type": "code",
      "metadata": {
        "_kg_hide-input": true,
        "trusted": true,
        "id": "n7dM4VpEKoTZ"
      },
      "source": [
        "perday2 = date_wise_data.groupby(['Date'])['Confirmed','Cured','Deaths','Active'].sum().reset_index().sort_values('Date',ascending = True)\n",
        "perday2['New Daily Confirmed Cases'] = perday2['Confirmed'].sub(perday2['Confirmed'].shift())\n",
        "perday2['New Daily Confirmed Cases'].iloc[0] = perday2['Confirmed'].iloc[0]\n",
        "perday2['New Daily Confirmed Cases'] = perday2['New Daily Confirmed Cases'].astype(int)\n",
        "perday2['New Daily Cured Cases'] = perday2['Cured'].sub(perday2['Cured'].shift())\n",
        "perday2['New Daily Cured Cases'].iloc[0] = perday2['Cured'].iloc[0]\n",
        "perday2['New Daily Cured Cases'] = perday2['New Daily Cured Cases'].astype(int)\n",
        "perday2['New Daily Deaths Cases'] = perday2['Deaths'].sub(perday2['Deaths'].shift())\n",
        "perday2['New Daily Deaths Cases'].iloc[0] = perday2['Deaths'].iloc[0]\n",
        "perday2['New Daily Deaths Cases'] = perday2['New Daily Deaths Cases'].astype(int)\n",
        "perday2.to_csv('perday_daily_cases.csv')"
      ],
      "execution_count": null,
      "outputs": []
    },
    {
      "cell_type": "code",
      "metadata": {
        "_kg_hide-input": true,
        "trusted": true,
        "id": "D9X5QnG0KoTZ"
      },
      "source": [
        "# New COVID-19 cases reported daily in India\n",
        "import plotly.express as px\n",
        "fig = px.bar(perday2, x=\"Date\", y=\"New Daily Confirmed Cases\", barmode='group',height=500)\n",
        "fig.update_layout(title_text='New COVID-19 cases reported daily in India',plot_bgcolor='rgb(275, 270, 273)')\n",
        "fig.show()"
      ],
      "execution_count": null,
      "outputs": []
    },
    {
      "cell_type": "code",
      "metadata": {
        "_kg_hide-input": true,
        "trusted": true,
        "id": "N5ZChj3aKoTZ"
      },
      "source": [
        "# New COVID-19 cured cases reported daily in India\n",
        "import plotly.express as px\n",
        "fig = px.bar(perday2, x=\"Date\", y=\"New Daily Cured Cases\", barmode='group',height=500,\n",
        "            color_discrete_sequence = ['#319146'])\n",
        "fig.update_layout(title_text='New COVID-19 Recovered cases reported daily in India',plot_bgcolor='rgb(275, 270, 273)')\n",
        "fig.show()"
      ],
      "execution_count": null,
      "outputs": []
    },
    {
      "cell_type": "code",
      "metadata": {
        "_kg_hide-input": true,
        "trusted": true,
        "id": "OuHlZZxlKoTZ"
      },
      "source": [
        "import plotly.express as px\n",
        "fig = px.bar(perday2, x=\"Date\", y=\"New Daily Deaths Cases\", barmode='group',height=500,\n",
        "             color_discrete_sequence = ['#e31010'])\n",
        "fig.update_layout(title_text='New COVID-19 Deaths reported daily in India',plot_bgcolor='rgb(275, 270, 273)')\n",
        "fig.show()"
      ],
      "execution_count": null,
      "outputs": []
    },
    {
      "cell_type": "code",
      "metadata": {
        "_kg_hide-input": true,
        "trusted": true,
        "id": "-n_6MqkaKoTa"
      },
      "source": [
        "temp = date_wise_data.copy()\n",
        "temp = date_wise_data.groupby('Date')['Confirmed', 'Deaths', 'Cured'].sum().reset_index()\n",
        "fig = px.scatter(temp, x=\"Date\", y=\"Confirmed\", color=\"Confirmed\",\n",
        "                 size='Confirmed', hover_data=['Confirmed'],\n",
        "                 color_discrete_sequence = ex.colors.cyclical.IceFire)\n",
        "fig.update_layout(title_text='Trend of Daily Coronavirus Cases in India',\n",
        "                  plot_bgcolor='rgb(275, 270, 273)',width=600, height=600)\n",
        "fig.show()"
      ],
      "execution_count": null,
      "outputs": []
    },
    {
      "cell_type": "code",
      "metadata": {
        "_kg_hide-input": true,
        "trusted": true,
        "id": "p0s5HgGxKoTa"
      },
      "source": [
        "'''\n",
        "def to_log(x):\n",
        "    return np.log(x + 1)\n",
        "\n",
        "'''"
      ],
      "execution_count": null,
      "outputs": []
    },
    {
      "cell_type": "code",
      "metadata": {
        "_kg_hide-input": true,
        "trusted": true,
        "id": "hvH-eVLqKoTa"
      },
      "source": [
        "fig = px.line(date_wise_data, x=\"Date\", y=\"Confirmed\", \n",
        "              title=\"Confirmed Cases (Logarithmic Scale) Over Time in India\", \n",
        "              log_y=True,template='gridon',width=600, height=600)\n",
        "fig.show()"
      ],
      "execution_count": null,
      "outputs": []
    },
    {
      "cell_type": "code",
      "metadata": {
        "_kg_hide-input": true,
        "trusted": true,
        "id": "sENXW0RdKoTa"
      },
      "source": [
        "fig = go.Figure()\n",
        "fig.add_trace(go.Scatter(x=date_wise_data['Date'], y=date_wise_data['Confirmed'],\n",
        "                    mode='lines+markers',marker_color='blue',name='Confimned Cases'))\n",
        "fig.add_trace(go.Scatter(x=date_wise_data['Date'],y=date_wise_data['Active'], \n",
        "                mode='lines+markers',marker_color='purple',name='Active Cases'))\n",
        "fig.add_trace(go.Scatter(x=date_wise_data['Date'], y=date_wise_data['Cured'],\n",
        "                mode='lines+markers',marker_color='green',name='Recovered'))\n",
        "fig.add_trace(go.Scatter(x=date_wise_data['Date'], y=date_wise_data['Deaths'], \n",
        "                mode='lines+markers',marker_color='red',name='Deaths'))\n",
        "fig.update_layout(title_text = '<b>Spread of the Coronavirus Over Time in India </b>',plot_bgcolor='rgb(275, 270, 273)',width=600, height=600)\n",
        "fig.show()"
      ],
      "execution_count": null,
      "outputs": []
    },
    {
      "cell_type": "code",
      "metadata": {
        "_kg_hide-input": true,
        "trusted": true,
        "id": "NIw4e5oEKoTa"
      },
      "source": [
        "cnf = '#263fa3' # confirmed - blue\n",
        "act = '#fe9801' # active case - yellow\n",
        "rec = '#21bf73' # recovered - green\n",
        "dth = '#de260d' # death - red\n",
        "tmp = date_wise_data.melt(id_vars=\"Date\",value_vars=['Deaths','Cured' ,'Active','Confirmed'],\n",
        "                 var_name='Case',value_name='Count')\n",
        "fig = px.area(tmp, x=\"Date\", y=\"Count\",color='Case',\n",
        "              title='Trend of Covid-10 in India over time: Area Plot',color_discrete_sequence = [dth,rec,act,cnf])\n",
        "fig.update_layout(plot_bgcolor='rgb(275, 270, 273)',width=550, height=600)\n",
        "fig.show()"
      ],
      "execution_count": null,
      "outputs": []
    },
    {
      "cell_type": "code",
      "metadata": {
        "_kg_hide-input": true,
        "trusted": true,
        "id": "nPkbxP_PKoTa"
      },
      "source": [
        "df_india_data = df[['Date', 'State/UT','Confirmed','Cured','Deaths']]\n",
        "spread = df_india_data.groupby(['Date', 'State/UT'])['Confirmed'].sum().reset_index().sort_values('Confirmed', ascending=True)\n",
        "fig = px.area(spread, x=\"Date\", y=\"Confirmed\",color='State/UT',title='State Wise Spread over time',height=500,\n",
        "              color_discrete_sequence = ex.colors.cyclical.Edge)\n",
        "fig.update_layout(plot_bgcolor='rgb(275, 270, 273)',width=700, height=600)"
      ],
      "execution_count": null,
      "outputs": []
    },
    {
      "cell_type": "code",
      "metadata": {
        "_kg_hide-input": true,
        "trusted": true,
        "id": "80AofygJKoTb"
      },
      "source": [
        "fig = go.Figure()\n",
        "fig.add_trace(go.Scatter(x=test1['day'], y=test1['positive_ratio'],\n",
        "                    mode='lines+markers',marker_color='blue'))\n",
        "fig.update_layout(title_text = 'Trend of Positive case ratio from tested people of India')\n",
        "fig.update_layout(plot_bgcolor='rgb(275, 270, 273)',width=600, height=600)\n",
        "fig.show()"
      ],
      "execution_count": null,
      "outputs": []
    },
    {
      "cell_type": "code",
      "metadata": {
        "_kg_hide-input": true,
        "trusted": true,
        "id": "KpwyCBkcKoTb"
      },
      "source": [
        "temp = date_wise_data.copy()\n",
        "temp['Recovery Rate'] = temp['Cured']/temp['Confirmed']*100\n",
        "fig = go.Figure()\n",
        "fig.add_trace(go.Scatter(x=temp['Date'], y=temp['Recovery Rate'],\n",
        "                    mode='lines+markers',marker_color='green'))\n",
        "fig.update_layout(title_text = 'Trend of Recovery Rate of India')\n",
        "fig.update_layout(plot_bgcolor='rgb(275, 270, 273)',width=600, height=600)\n",
        "fig.show()"
      ],
      "execution_count": null,
      "outputs": []
    },
    {
      "cell_type": "code",
      "metadata": {
        "_kg_hide-input": true,
        "trusted": true,
        "id": "IUou_cbHKoTb"
      },
      "source": [
        "temp = date_wise_data.copy()\n",
        "temp['Mortality Rate'] = temp['Deaths']/temp['Confirmed']*100\n",
        "fig = go.Figure()\n",
        "fig.add_trace(go.Scatter(x=temp['Date'], y=temp['Mortality Rate'],mode='lines+markers',marker_color='red'))\n",
        "fig.update_layout(title_text = 'Trend of Mortality Rate of India')\n",
        "fig.update_layout(plot_bgcolor='rgb(275, 270, 273)',width=600, height=600)\n",
        "fig.show()"
      ],
      "execution_count": null,
      "outputs": []
    },
    {
      "cell_type": "code",
      "metadata": {
        "_kg_hide-input": true,
        "trusted": true,
        "id": "qtdC2ZgIKoTb"
      },
      "source": [
        "fig = go.Figure()\n",
        "fig.add_trace(go.Scatter(x=perday2['Date'], y=perday2['New Daily Confirmed Cases'],\n",
        "                    mode='lines+markers',marker_color='blue',name='Confimned Cases'))\n",
        "fig.add_trace(go.Scatter(x=perday2['Date'],y=perday2['New Daily Cured Cases'], \n",
        "                mode='lines+markers',marker_color='green',name='Recovered Cases'))\n",
        "fig.update_layout(title_text = 'Newly Infected vs. Newly Recovered in India',plot_bgcolor='rgb(275, 270, 273)')\n",
        "fig.show()"
      ],
      "execution_count": null,
      "outputs": []
    },
    {
      "cell_type": "code",
      "metadata": {
        "_kg_hide-input": true,
        "trusted": true,
        "id": "kYJC6mkuKoTb"
      },
      "source": [
        "outcome = date_wise_data['Cured'] + date_wise_data['Deaths']\n",
        "r_ = date_wise_data['Cured']/outcome * 100\n",
        "d_ = date_wise_data['Deaths']/outcome * 100\n",
        "fig = go.Figure()\n",
        "fig.add_trace(go.Scatter(x=date_wise_data['Date'], y=r_,mode='lines+markers',marker_color='green',name = 'Recovered'))\n",
        "fig.add_trace(go.Scatter(x=date_wise_data['Date'], y=d_,mode='lines+markers',marker_color='red', name = 'Deaths'))\n",
        "fig.update_layout(title_text = 'Outcome of total closed cases (recovery rate vs death rate)')\n",
        "fig.update_layout(plot_bgcolor='rgb(275, 270, 273)')\n",
        "fig.show()"
      ],
      "execution_count": null,
      "outputs": []
    },
    {
      "cell_type": "code",
      "metadata": {
        "_kg_hide-input": true,
        "trusted": true,
        "id": "-V4yZ0NkKoTb"
      },
      "source": [
        "agegroup = pd.read_csv('../input/covid19-in-india/AgeGroupDetails.csv')\n",
        "fig = go.Figure()\n",
        "fig.add_trace(go.Scatter(x=agegroup['AgeGroup'],y=agegroup['TotalCases'],line_shape='spline',fill='tonexty',fillcolor = 'orange')) \n",
        "fig.update_layout(title=\"Age wise Confirmed Case Trend in India\",yaxis_title=\"Total Number of cases\",xaxis_title=\"Age Group\")\n",
        "fig.update_layout(plot_bgcolor='rgb(275, 270, 273)',width=600,height=600)\n",
        "fig.show()"
      ],
      "execution_count": null,
      "outputs": []
    },
    {
      "cell_type": "markdown",
      "metadata": {
        "id": "E2DanP-UKoTc"
      },
      "source": [
        "# **Covid-19 State Wise insight**"
      ]
    },
    {
      "cell_type": "code",
      "metadata": {
        "_kg_hide-input": true,
        "trusted": true,
        "colab": {
          "base_uri": "https://localhost:8080/",
          "height": 178
        },
        "id": "i08zpGrjKoTc",
        "outputId": "09d1e793-9349-4ee7-947a-5aff3810fad8"
      },
      "source": [
        "HTML(''' <div class=\"flourish-embed flourish-bar-chart-race\" data-src=\"visualisation/2298969\" data-url=\"https://flo.uri.sh/visualisation/2298969/embed\"><script src=\"https://public.flourish.studio/resources/embed.js\"></script></div> ''')"
      ],
      "execution_count": 8,
      "outputs": [
        {
          "output_type": "error",
          "ename": "NameError",
          "evalue": "ignored",
          "traceback": [
            "\u001b[0;31m---------------------------------------------------------------------------\u001b[0m",
            "\u001b[0;31mNameError\u001b[0m                                 Traceback (most recent call last)",
            "\u001b[0;32m<ipython-input-8-f78e275c88de>\u001b[0m in \u001b[0;36m<module>\u001b[0;34m()\u001b[0m\n\u001b[0;32m----> 1\u001b[0;31m \u001b[0mHTML\u001b[0m\u001b[0;34m(\u001b[0m\u001b[0;34m''' <div class=\"flourish-embed flourish-bar-chart-race\" data-src=\"visualisation/2298969\" data-url=\"https://flo.uri.sh/visualisation/2298969/embed\"><script src=\"https://public.flourish.studio/resources/embed.js\"></script></div> '''\u001b[0m\u001b[0;34m)\u001b[0m\u001b[0;34m\u001b[0m\u001b[0;34m\u001b[0m\u001b[0m\n\u001b[0m",
            "\u001b[0;31mNameError\u001b[0m: name 'HTML' is not defined"
          ]
        }
      ]
    },
    {
      "cell_type": "code",
      "metadata": {
        "_kg_hide-input": true,
        "trusted": true,
        "colab": {
          "base_uri": "https://localhost:8080/",
          "height": 102
        },
        "id": "_WRSxHx6KoTc",
        "outputId": "9a3e55ff-59a1-42a1-96c3-f6b8caf12971"
      },
      "source": [
        "'''\n",
        "statewise_test = pd.read_csv('../input/covid19-in-india/StatewiseTestingDetails.csv')\n",
        "statewise_test = statewise_test.fillna(0)\n",
        "statewise_test = statewise_test.groupby('State')['TotalSamples', 'Negative', 'Positive'].max().reset_index()\n",
        "statewise_test.to_csv('State_wise_Testing.csv')\n",
        "temp = statewise_test.copy()\n",
        "temp = temp.sort_values('TotalSamples', ascending=False)\n",
        "state_order = temp['State']\n",
        "fig = px.bar(temp,x=\"TotalSamples\", y=\"State\", color='State', \n",
        "             title='State Wise Testing', orientation='h', text='TotalSamples', \n",
        "             height=900,color_discrete_sequence = ex.colors.cyclical.Edge)\n",
        "fig.update_layout(plot_bgcolor='rgb(275, 270, 273)')\n",
        "#fig.update_layout(template = 'plotly_white')\n",
        "fig.show('\n",
        "\n",
        "'''"
      ],
      "execution_count": 6,
      "outputs": [
        {
          "output_type": "execute_result",
          "data": {
            "application/vnd.google.colaboratory.intrinsic+json": {
              "type": "string"
            },
            "text/plain": [
              "'\\nstatewise_test = pd.read_csv(\\'../input/covid19-in-india/StatewiseTestingDetails.csv\\')\\nstatewise_test = statewise_test.fillna(0)\\nstatewise_test = statewise_test.groupby(\\'State\\')[\\'TotalSamples\\', \\'Negative\\', \\'Positive\\'].max().reset_index()\\nstatewise_test.to_csv(\\'State_wise_Testing.csv\\')\\ntemp = statewise_test.copy()\\ntemp = temp.sort_values(\\'TotalSamples\\', ascending=False)\\nstate_order = temp[\\'State\\']\\nfig = px.bar(temp,x=\"TotalSamples\", y=\"State\", color=\\'State\\', \\n             title=\\'State Wise Testing\\', orientation=\\'h\\', text=\\'TotalSamples\\', \\n             height=900,color_discrete_sequence = ex.colors.cyclical.Edge)\\nfig.update_layout(plot_bgcolor=\\'rgb(275, 270, 273)\\')\\n#fig.update_layout(template = \\'plotly_white\\')\\nfig.show(\\'\\n\\n'"
            ]
          },
          "metadata": {},
          "execution_count": 6
        }
      ]
    },
    {
      "cell_type": "code",
      "metadata": {
        "_kg_hide-input": true,
        "trusted": true,
        "colab": {
          "base_uri": "https://localhost:8080/",
          "height": 229
        },
        "id": "Rk0jM1B9KoTc",
        "outputId": "48294d46-add8-4411-c0a9-4d669cbcdd08"
      },
      "source": [
        "temp = latest.copy()\n",
        "temp= latest[latest['New cases'] > 0]\n",
        "temp = temp.sort_values('New cases', ascending=False)\n",
        "state_order = temp['State/UT']\n",
        "fig = px.bar(temp,x=\"New cases\", y=\"State/UT\", color='State/UT', \n",
        "             title='State Wise New cases in Last 24hrs', orientation='h', text='New cases', \n",
        "             height=600)\n",
        "fig.update_layout(plot_bgcolor='rgb(275, 270, 273)')\n",
        "#fig.update_layout(template = 'plotly_white')\n",
        "fig.show()"
      ],
      "execution_count": 7,
      "outputs": [
        {
          "output_type": "error",
          "ename": "NameError",
          "evalue": "ignored",
          "traceback": [
            "\u001b[0;31m---------------------------------------------------------------------------\u001b[0m",
            "\u001b[0;31mNameError\u001b[0m                                 Traceback (most recent call last)",
            "\u001b[0;32m<ipython-input-7-726df188aa08>\u001b[0m in \u001b[0;36m<module>\u001b[0;34m()\u001b[0m\n\u001b[0;32m----> 1\u001b[0;31m \u001b[0mtemp\u001b[0m \u001b[0;34m=\u001b[0m \u001b[0mlatest\u001b[0m\u001b[0;34m.\u001b[0m\u001b[0mcopy\u001b[0m\u001b[0;34m(\u001b[0m\u001b[0;34m)\u001b[0m\u001b[0;34m\u001b[0m\u001b[0;34m\u001b[0m\u001b[0m\n\u001b[0m\u001b[1;32m      2\u001b[0m \u001b[0mtemp\u001b[0m\u001b[0;34m=\u001b[0m \u001b[0mlatest\u001b[0m\u001b[0;34m[\u001b[0m\u001b[0mlatest\u001b[0m\u001b[0;34m[\u001b[0m\u001b[0;34m'New cases'\u001b[0m\u001b[0;34m]\u001b[0m \u001b[0;34m>\u001b[0m \u001b[0;36m0\u001b[0m\u001b[0;34m]\u001b[0m\u001b[0;34m\u001b[0m\u001b[0;34m\u001b[0m\u001b[0m\n\u001b[1;32m      3\u001b[0m \u001b[0mtemp\u001b[0m \u001b[0;34m=\u001b[0m \u001b[0mtemp\u001b[0m\u001b[0;34m.\u001b[0m\u001b[0msort_values\u001b[0m\u001b[0;34m(\u001b[0m\u001b[0;34m'New cases'\u001b[0m\u001b[0;34m,\u001b[0m \u001b[0mascending\u001b[0m\u001b[0;34m=\u001b[0m\u001b[0;32mFalse\u001b[0m\u001b[0;34m)\u001b[0m\u001b[0;34m\u001b[0m\u001b[0;34m\u001b[0m\u001b[0m\n\u001b[1;32m      4\u001b[0m \u001b[0mstate_order\u001b[0m \u001b[0;34m=\u001b[0m \u001b[0mtemp\u001b[0m\u001b[0;34m[\u001b[0m\u001b[0;34m'State/UT'\u001b[0m\u001b[0;34m]\u001b[0m\u001b[0;34m\u001b[0m\u001b[0;34m\u001b[0m\u001b[0m\n\u001b[1;32m      5\u001b[0m fig = px.bar(temp,x=\"New cases\", y=\"State/UT\", color='State/UT', \n",
            "\u001b[0;31mNameError\u001b[0m: name 'latest' is not defined"
          ]
        }
      ]
    },
    {
      "cell_type": "code",
      "metadata": {
        "_kg_hide-input": true,
        "trusted": true,
        "id": "mdcczASQKoTc"
      },
      "source": [
        "temp = data.sort_values('Total cases', ascending=True)\n",
        "fig = go.Figure(data=[\n",
        "go.Bar(name='Active', y=temp['Name of State / UT'], x=temp['Active cases'], \n",
        "       orientation='h',marker_color='#0f5dbd'),\n",
        "    go.Bar(name='Cured', y=temp['Name of State / UT'], x=temp['Cured/Discharged/Migrated'], \n",
        "       orientation='h',marker_color='#319146'),\n",
        "go.Bar(name='Death', y=temp['Name of State / UT'], x=temp['Death'], \n",
        "       orientation='h',marker_color='#e03216')])\n",
        "fig.update_layout(barmode='stack',width=600, height=800)\n",
        "#fig.update_traces(textposition='inside')\n",
        "fig.update_layout(uniformtext_minsize=8, uniformtext_mode='hide')\n",
        "fig.update_layout(title_text='Active Cases,Cured,Deaths in Different States of India',\n",
        "                  plot_bgcolor='rgb(275, 270, 273)')\n",
        "fig.show()"
      ],
      "execution_count": null,
      "outputs": []
    },
    {
      "cell_type": "code",
      "metadata": {
        "_kg_hide-input": true,
        "_kg_hide-output": true,
        "trusted": true,
        "id": "R8spagJrKoTd"
      },
      "source": [
        "#colors \n",
        "'''\n",
        "color_discrete_sequence = px.colors.sequential.Plasma_r,template = 'plotly_white',\n",
        "ex.colors.cyclical.IceFire, ex.colors.cyclical.Edge'\n",
        "'''"
      ],
      "execution_count": null,
      "outputs": []
    },
    {
      "cell_type": "code",
      "metadata": {
        "_kg_hide-input": true,
        "trusted": true,
        "id": "yc-ba76qKoTd"
      },
      "source": [
        "temp = data.copy()\n",
        "temp = data.sort_values('Total cases', ascending=False)\n",
        "state_order = temp['Name of State / UT']\n",
        "fig = px.bar(temp,x=\"Total cases\", y=\"Name of State / UT\", color='Name of State / UT', \n",
        "             title='State Wise Confirmed Cases', orientation='h', text='Total cases', \n",
        "             height=900,color_discrete_sequence = ex.colors.cyclical.IceFire)\n",
        "fig.update_layout(plot_bgcolor='rgb(275, 270, 273)')\n",
        "#fig.update_layout(template = 'plotly_white')\n",
        "fig.show()"
      ],
      "execution_count": null,
      "outputs": []
    },
    {
      "cell_type": "code",
      "metadata": {
        "_kg_hide-input": true,
        "trusted": true,
        "id": "ARUa2svUKoTd"
      },
      "source": [
        "temp = data.copy()\n",
        "temp = data[data['Cured/Discharged/Migrated']>0].sort_values('Cured/Discharged/Migrated',ascending=False)\n",
        "state_order = temp['Name of State / UT']\n",
        "fig = px.bar(temp,x=\"Cured/Discharged/Migrated\", y=\"Name of State / UT\", color='Name of State / UT',\n",
        "             title='State wise Cured/Discharged/Migrated cases', orientation='h', \n",
        "             text='Cured/Discharged/Migrated', \n",
        "             height=700,color_discrete_sequence = ex.colors.cyclical.Phase)\n",
        "fig.update_layout(plot_bgcolor='rgb(275, 270, 273)')\n",
        "#fig.update_layout(template = 'plotly_white')\n",
        "fig.show()"
      ],
      "execution_count": null,
      "outputs": []
    },
    {
      "cell_type": "code",
      "metadata": {
        "_kg_hide-input": true,
        "trusted": true,
        "id": "FnGv1BsLKoTd"
      },
      "source": [
        "temp = data.copy()\n",
        "temp['Recovery Rate'] = round((temp['Cured/Discharged/Migrated']/temp['Total cases'])*100, 2)\n",
        "temp = temp[temp['Total cases']>100]\n",
        "temp = temp.sort_values('Recovery Rate', ascending=False)\n",
        "fig = px.bar(temp.sort_values(by=\"Recovery Rate\", ascending=False)[:30][::-1],\n",
        "             x = 'Recovery Rate', y = 'Name of State / UT', \n",
        "             title='Recoveries per 100 Confirmed Cases', text='Recovery Rate', height=600, orientation='h',\n",
        "             color_discrete_sequence=['#2ca02c'])   \n",
        "fig.update_layout(plot_bgcolor='rgb(275, 270, 273)')\n",
        "fig.show()"
      ],
      "execution_count": null,
      "outputs": []
    },
    {
      "cell_type": "code",
      "metadata": {
        "_kg_hide-input": true,
        "trusted": true,
        "id": "ScagoqF9KoTd"
      },
      "source": [
        "temp = data.copy()\n",
        "temp = data[data['Death']>0].sort_values('Death',ascending=False)\n",
        "state_order = temp['Name of State / UT']\n",
        "fig = px.bar(temp,x=\"Death\", y=\"Name of State / UT\", color='Name of State / UT',\n",
        "             title='State wise Deaths', orientation='h', \n",
        "             text='Death', \n",
        "             height=600,color_discrete_sequence = px.colors.sequential.Plasma_r)\n",
        "fig.update_layout(plot_bgcolor='rgb(275, 270, 273)')\n",
        "#fig.update_layout(template = 'plotly_white')\n",
        "fig.show()"
      ],
      "execution_count": null,
      "outputs": []
    },
    {
      "cell_type": "code",
      "metadata": {
        "_kg_hide-input": true,
        "trusted": true,
        "id": "PnFOaYtZKoTd"
      },
      "source": [
        "temp = data.copy()\n",
        "temp['Mortality Rate'] = round((temp['Death']/temp['Total cases'])*100, 2)\n",
        "temp = temp[temp['Total cases']>100]\n",
        "temp = temp.sort_values('Mortality Rate', ascending=False)\n",
        "fig = px.bar(temp.sort_values(by=\"Mortality Rate\", ascending=False)[:30][::-1],\n",
        "             x = 'Mortality Rate', y = 'Name of State / UT', \n",
        "             title='Mortality Rate per 100 Confirmed Cases', text='Mortality Rate', height=600, orientation='h',\n",
        "             color_discrete_sequence=['darkred'])   \n",
        "fig.update_layout(plot_bgcolor='rgb(275, 270, 273)')\n",
        "fig.show()"
      ],
      "execution_count": null,
      "outputs": []
    },
    {
      "cell_type": "markdown",
      "metadata": {
        "id": "ioUrpbxZKoTe"
      },
      "source": [
        "# Demographics Visualisation"
      ]
    },
    {
      "cell_type": "code",
      "metadata": {
        "_kg_hide-input": true,
        "trusted": true,
        "id": "t0WD-3IVKoTe"
      },
      "source": [
        "# tiles='cartodbpositron'\n",
        "\n",
        "india = folium.Map(location=[20.5937, 78.9629], zoom_start=14,max_zoom=4,min_zoom=3, \n",
        "                   tiles = \"CartoDB dark_matter\",detect_retina = True,height = 600,width = '70%')\n",
        "for i in range(0,len(df_india[df_india['confirmed']>0].index)):\n",
        "    folium.Circle(\n",
        "        location=[df_india.iloc[i]['Lat'], df_india.iloc[i]['Long']],\n",
        "        tooltip = \"<h5 style='text-align:center;font-weight: bold'>\"+df_india.iloc[i].name+\"</h5>\"+\n",
        "                    \"<hr style='margin:10px;'>\"+\n",
        "                    \"<ul style='color: #444;list-style-type:circle;align-item:left;padding-left:20px;padding-right:20px'>\"+\n",
        "        \"<li>Confirmed: \"+str(df_india.iloc[i]['confirmed'])+\"</li>\"+\n",
        "        \"<li>Active:   \"+str(df_india.iloc[i]['active'])+\"</li>\"+\n",
        "        \"<li>Recovered:   \"+str(df_india.iloc[i]['recovered'])+\"</li>\"+\n",
        "        \"<li>Deaths:   \"+str(df_india.iloc[i]['deaths'])+\"</li>\"+\n",
        "        \"<li>Mortality Rate:   \"+str(np.round(df_india.iloc[i]['deaths']/(df_india.iloc[i]['confirmed']+1)*100,2))+\"</li>\"+\n",
        "        \"</ul>\",\n",
        "        radius=(int(np.log2(df_india.iloc[i]['confirmed']+1)))*9000,\n",
        "        color='red',\n",
        "        fill_color='green',\n",
        "        fill=True).add_to(india)\n",
        "india\n"
      ],
      "execution_count": null,
      "outputs": []
    },
    {
      "cell_type": "markdown",
      "metadata": {
        "id": "8ReNaX5fKoTe"
      },
      "source": [
        "**Analyse Affected area through Heatmap**"
      ]
    },
    {
      "cell_type": "code",
      "metadata": {
        "_kg_hide-input": true,
        "trusted": true,
        "id": "NkO16uZYKoTe"
      },
      "source": [
        "from folium.plugins import HeatMap, HeatMapWithTime\n",
        "affected_area = folium.Map(location=[20.5937, 78.9629], zoom_start=14,max_zoom=4,min_zoom=3,\n",
        "                          tiles='cartodbpositron',height = 500,width = '70%')\n",
        "HeatMap(data=df_india[['Lat','Long','confirmed']].groupby(['Lat','Long']).sum().reset_index().values.tolist(),\n",
        "        radius=18, max_zoom=14).add_to(affected_area)\n",
        "affected_area"
      ],
      "execution_count": null,
      "outputs": []
    },
    {
      "cell_type": "markdown",
      "metadata": {
        "id": "phBQ6fI0KoTe"
      },
      "source": [
        "**COVID-19 Cases thtough time in different parts of india**"
      ]
    },
    {
      "cell_type": "code",
      "metadata": {
        "_kg_hide-input": true,
        "trusted": true,
        "id": "0YLL3I7AKoTe"
      },
      "source": [
        "from plotly.offline import init_notebook_mode\n",
        "import plotly.graph_objs as go\n",
        "init_notebook_mode(connected=True)\n",
        "tmp = df.copy()\n",
        "tmp['Date'] = tmp['Date'].dt.strftime('%Y/%m/%d')\n",
        "fig = px.scatter_geo(tmp,lat=\"Latitude\", lon=\"Longitude\", color='Confirmed', size='Confirmed', \n",
        "                     projection=\"natural earth\",\n",
        "                     hover_name=\"State/UT\", scope='asia', animation_frame=\"Date\",\n",
        "                     color_continuous_scale=px.colors.diverging.curl,center={'lat':20, 'lon':78}, \n",
        "                     range_color=[0, max(tmp['Confirmed'])])\n",
        "fig.update_layout(plot_bgcolor='rgb(275, 270, 273)')\n",
        "fig.show()\n",
        "tmp.to_csv('covid_19_india.csv')"
      ],
      "execution_count": null,
      "outputs": []
    },
    {
      "cell_type": "code",
      "metadata": {
        "_kg_hide-input": true,
        "trusted": true,
        "id": "qeliRil-KoTe"
      },
      "source": [
        "HTML ('''<iframe title=\"COVID-19 confirmed cases by districts of India\" aria-label=\"Map\" id=\"datawrapper-chart-gD4ZA\" src=\"https://datawrapper.dwcdn.net/gD4ZA/1/\" scrolling=\"no\" frameborder=\"0\" style=\"width: 0; min-width: 100% !important; border: none;\" height=\"645\"></iframe><script type=\"text/javascript\">!function(){\"use strict\";window.addEventListener(\"message\",(function(a){if(void 0!==a.data[\"datawrapper-height\"])for(var e in a.data[\"datawrapper-height\"]){var t=document.getElementById(\"datawrapper-chart-\"+e)||document.querySelector(\"iframe[src*='\"+e+\"']\");t&&(t.style.height=a.data[\"datawrapper-height\"][e]+\"px\")}}))}();\n",
        "</script> ''')"
      ],
      "execution_count": null,
      "outputs": []
    },
    {
      "cell_type": "code",
      "metadata": {
        "_kg_hide-input": true,
        "trusted": true,
        "id": "aWOYxg6CKoTf"
      },
      "source": [
        "HTML (''' <iframe title=\"COVID-19 District Wise Zones\" aria-label=\"Map\" id=\"datawrapper-chart-yCUgc\" src=\"https://datawrapper.dwcdn.net/yCUgc/1/\" scrolling=\"no\" frameborder=\"0\" style=\"width: 0; min-width: 100% !important; border: none;\" height=\"429\"></iframe><script type=\"text/javascript\">!function(){\"use strict\";window.addEventListener(\"message\",(function(a){if(void 0!==a.data[\"datawrapper-height\"])for(var e in a.data[\"datawrapper-height\"]){var t=document.getElementById(\"datawrapper-chart-\"+e)||document.querySelector(\"iframe[src*='\"+e+\"']\");t&&(t.style.height=a.data[\"datawrapper-height\"][e]+\"px\")}}))}();\n",
        "</script> ''')"
      ],
      "execution_count": null,
      "outputs": []
    },
    {
      "cell_type": "code",
      "metadata": {
        "_kg_hide-input": true,
        "trusted": true,
        "id": "SKyjhN3CKoTf"
      },
      "source": [
        "HTML(''' <iframe title=\"[Covid-19: India is supplying HCQ, Paracetamol to 108 countries ]\" aria-label=\"Map\" id=\"datawrapper-chart-kqJFM\" src=\"https://datawrapper.dwcdn.net/kqJFM/1/\" scrolling=\"no\" frameborder=\"0\" style=\"width: 0; min-width: 100% !important; border: none;\" height=\"537\"></iframe><script type=\"text/javascript\">!function(){\"use strict\";window.addEventListener(\"message\",(function(a){if(void 0!==a.data[\"datawrapper-height\"])for(var e in a.data[\"datawrapper-height\"]){var t=document.getElementById(\"datawrapper-chart-\"+e)||document.querySelector(\"iframe[src*='\"+e+\"']\");t&&(t.style.height=a.data[\"datawrapper-height\"][e]+\"px\")}}))}();\n",
        "</script> ''')"
      ],
      "execution_count": null,
      "outputs": []
    },
    {
      "cell_type": "markdown",
      "metadata": {
        "id": "w3b_rWMmKoTf"
      },
      "source": [
        "# Enter you PINCODE and Find the nearest corona positive location and the number of cases with risk factor (low, moderate, high)"
      ]
    },
    {
      "cell_type": "code",
      "metadata": {
        "_kg_hide-input": true,
        "_kg_hide-output": true,
        "trusted": true,
        "id": "mabi-Wj3KoTf"
      },
      "source": [
        "''''\n",
        "print('Enter your Indian Pincode number to Find the nearest corona positive location and the number of cases with risk factor (low, moderate, high)')\n",
        "query_pincode = input(\"Enter you PINCODE to know status  : \") \n",
        "g = int(query_pincode)\n",
        "\n",
        "if g in city_wise_coordinates.PIN.values:\n",
        "    query_info= city_wise_coordinates[city_wise_coordinates.PIN == int(g)]\n",
        "    get_nearest_covid19_stats(query_info,corona_db_with_latlng)\n",
        "else:\n",
        "    print('You entered an Invalid PIN')\n",
        "\n",
        "'''\n"
      ],
      "execution_count": null,
      "outputs": []
    },
    {
      "cell_type": "markdown",
      "metadata": {
        "id": "fglyb64bKoTf"
      },
      "source": [
        "# Fit a logistic curve\n",
        "\n",
        "Let's try to fit a Logistic curve for predicting future behavior of the cumulative number of confirmed cases.\n",
        "\n",
        "* L (the maximum number of confirmed cases) = 250000 taken from the US example (this is from long time obsolete now)\n",
        "* k (growth rate) = 0.25 approximated value from most of the countries\n",
        "* x0 (the day of the inflexion) = 80 approximated\n",
        "The curve being:\n",
        "\n",
        "$$y = \\frac{L}{1 + e^{-k (x-x_0)}} + 1$$"
      ]
    },
    {
      "cell_type": "code",
      "metadata": {
        "_kg_hide-input": true,
        "trusted": true,
        "id": "t7dTWZMxKoTf"
      },
      "source": [
        "import scipy\n",
        "def logistic(x, L, k, x0):\n",
        "    return L / (1 + np.exp(-k * (x - x0))) + 1\n",
        "d_df = date_wise_data.copy()\n",
        "p0 = (0,0,0)\n",
        "def plot_logistic_fit_data(d_df, title, p0=p0):\n",
        "    d_df = d_df.sort_values(by=['Date'], ascending=True)\n",
        "    d_df['x'] = np.arange(len(d_df)) + 1\n",
        "    d_df['y'] = d_df['Confirmed']\n",
        "\n",
        "    x = d_df['x']\n",
        "    y = d_df['y']\n",
        "\n",
        "    c2 = scipy.optimize.curve_fit(logistic,  x,  y,  p0=p0 )\n",
        "    #y = logistic(x, L, k, x0)\n",
        "    popt, pcov = c2\n",
        "\n",
        "    x = range(1,d_df.shape[0] + int(popt[2]))\n",
        "    y_fit = logistic(x, *popt)\n",
        "    \n",
        "    p_df = pd.DataFrame()\n",
        "    p_df['x'] = x\n",
        "    p_df['y'] = y_fit.astype(int)\n",
        "    \n",
        "    print(\"Predicted L (the maximum number of confirmed cases): \" + str(int(popt[0])))\n",
        "    print(\"Predicted k (growth rate): \" + str(float(popt[1])))\n",
        "    print(\"Predicted x0 (the day of the inflexion): \" + str(int(popt[2])) + \"\")\n",
        "\n",
        "    x0 = int(popt[2])\n",
        "    \n",
        "    traceC = go.Scatter(\n",
        "        x=d_df['x'], y=d_df['y'],\n",
        "        name=\"Confirmed\",\n",
        "        marker=dict(color=\"Red\"),\n",
        "        mode = \"markers+lines\",\n",
        "        text=d_df['Confirmed'],\n",
        "    )\n",
        "\n",
        "    traceP = go.Scatter(\n",
        "        x=p_df['x'], y=p_df['y'],\n",
        "        name=\"Predicted\",\n",
        "        marker=dict(color=\"blue\"),\n",
        "        mode = \"lines\",\n",
        "        text=p_df['y'],\n",
        "    )\n",
        "    \n",
        "    trace_x0 = go.Scatter(\n",
        "        x = [x0, x0], y = [0, p_df.loc[p_df['x']==x0,'y'].values[0]],\n",
        "        name = \"X0 - Inflexion point\",\n",
        "        marker=dict(color=\"black\"),\n",
        "        mode = \"lines\",\n",
        "        text = \"X0 - Inflexion point\"\n",
        "    )\n",
        "\n",
        "    data = [traceC, traceP, trace_x0]\n",
        "\n",
        "    layout = dict(title = 'Cumulative Conformed cases and logistic curve projection',\n",
        "          xaxis = dict(title = 'Day since first case', showticklabels=True), \n",
        "          yaxis = dict(title = 'Number of cases'),\n",
        "          hovermode = 'closest',plot_bgcolor='rgb(275, 270, 273)'\n",
        "         )\n",
        "    fig = dict(data=data, layout=layout)\n",
        "    iplot(fig, filename='covid-logistic-forecast')\n",
        "    \n",
        "L = 250000\n",
        "k = 0.25\n",
        "x0 = 100\n",
        "p0 = (L, k, x0)\n",
        "plot_logistic_fit_data(d_df, 'India')"
      ],
      "execution_count": null,
      "outputs": []
    },
    {
      "cell_type": "markdown",
      "metadata": {
        "id": "21H8FEjWKoTg"
      },
      "source": [
        "## Fitting an exponential curve\n",
        "\n",
        "The parameters for the curve are:\n",
        "* A - the constant multiplier for the exponential\n",
        "* B - the multiplier for the exponent\n",
        "\n",
        "The curve is thus:\n",
        "$$y = Ae^{Bx}$$"
      ]
    },
    {
      "cell_type": "code",
      "metadata": {
        "_kg_hide-input": true,
        "trusted": true,
        "id": "_mAEtrFeKoTg"
      },
      "source": [
        "import datetime\n",
        "import scipy\n",
        "p0 = (0,0)\n",
        "def plot_exponential_fit_data(d_df, title, delta, p0):\n",
        "    d_df = d_df.sort_values(by=['Date'], ascending=True)\n",
        "    d_df['x'] = np.arange(len(d_df)) + 1\n",
        "    d_df['y'] = d_df['Confirmed']\n",
        "\n",
        "    x = d_df['x'][:-delta]\n",
        "    y = d_df['y'][:-delta]\n",
        "\n",
        "    c2 = scipy.optimize.curve_fit(lambda t,a,b: a*np.exp(b*t),  x,  y,  p0=p0)\n",
        "\n",
        "    A, B = c2[0]\n",
        "    print(f'(y = Ae^(Bx)) A: {A}, B: {B}')\n",
        "    x = range(1,d_df.shape[0] + 1)\n",
        "    y_fit = A * np.exp(B * x)\n",
        "    \n",
        "    traceC = go.Scatter(\n",
        "        x=d_df['x'][:-delta], y=d_df['y'][:-delta],\n",
        "        name=\"Confirmed (included for fit)\",\n",
        "        marker=dict(color=\"Red\"),\n",
        "        mode = \"markers+lines\",\n",
        "        text=d_df['Confirmed'],\n",
        "    )\n",
        "\n",
        "    traceV = go.Scatter(\n",
        "        x=d_df['x'][-delta-1:], y=d_df['y'][-delta-1:],\n",
        "        name=\"Confirmed (validation)\",\n",
        "        marker=dict(color=\"blue\"),\n",
        "        mode = \"markers+lines\",\n",
        "        text=d_df['Confirmed'],\n",
        "    )\n",
        "    \n",
        "    traceP = go.Scatter(\n",
        "        x=np.array(x), y=y_fit,\n",
        "        name=\"Projected values (fit curve)\",\n",
        "        marker=dict(color=\"green\"),\n",
        "        mode = \"lines\",\n",
        "        text=y_fit,\n",
        "    )\n",
        "\n",
        "    data = [traceC, traceV, traceP]\n",
        "\n",
        "    layout = dict(title = 'Cumulative Conformed cases and exponential curve projection',\n",
        "          xaxis = dict(title = 'Day since first case', showticklabels=True), \n",
        "          yaxis = dict(title = 'Number of cases'),plot_bgcolor='rgb(275, 270, 273)',\n",
        "          hovermode = 'closest'\n",
        "         )\n",
        "    fig = dict(data=data, layout=layout)\n",
        "    iplot(fig, filename='covid-exponential-forecast')\n",
        "p0 = (40, 0.2)\n",
        "plot_exponential_fit_data(d_df, 'I', 7, p0)"
      ],
      "execution_count": null,
      "outputs": []
    },
    {
      "cell_type": "markdown",
      "metadata": {
        "id": "VKprN8kwKoTh"
      },
      "source": [
        "## Fitting Active cases with polynomials\n",
        "\n",
        "We fit the active cases with polynomials (with p=3,4,5).\n",
        "\n",
        "We then calculate the evolution (based on the fitted curve) for more 14 days."
      ]
    },
    {
      "cell_type": "code",
      "metadata": {
        "_kg_hide-input": true,
        "trusted": true,
        "id": "JhPC-t8MKoTh"
      },
      "source": [
        "def plot_polinomial_fit_data(d_df):\n",
        "    d_df = d_df.sort_values(by=['Date'], ascending=True)\n",
        "    d_df['x'] = np.arange(len(d_df)) + 1\n",
        "    d_df['y'] = d_df['Active']\n",
        "\n",
        "    x = d_df['x']\n",
        "    y = d_df['y']\n",
        "\n",
        "    p3 =  np.poly1d(np.polyfit(x, y, 3))\n",
        "    p4 =  np.poly1d(np.polyfit(x, y, 4))\n",
        "    p5 =  np.poly1d(np.polyfit(x, y, 5))\n",
        "\n",
        "    \n",
        "    xp = range(20,d_df.shape[0] + 14)\n",
        "    yp3 = p3(xp)\n",
        "    yp4 = p4(xp)\n",
        "    yp5 = p5(xp)\n",
        "    \n",
        "    p_df = pd.DataFrame()\n",
        "    p_df['x'] = xp\n",
        "    p_df['y3'] = np.round(yp3,0)\n",
        "    p_df['y4'] = np.round(yp4,0)\n",
        "    p_df['y5'] = np.round(yp5,0)\n",
        "\n",
        "\n",
        "    traceA = go.Scatter(\n",
        "        x=d_df['x'], y=d_df['y'],\n",
        "        name=\"Active\",\n",
        "        marker=dict(color=\"Red\"),\n",
        "        mode = \"markers+lines\",\n",
        "        text=d_df['Active'],\n",
        "    )\n",
        "\n",
        "    traceP3 = go.Scatter(\n",
        "        x=p_df['x'], y=p_df['y3'],\n",
        "        name=\"p = 3\",\n",
        "        marker=dict(color=\"blue\"),\n",
        "        mode = \"lines\",\n",
        "        text=p_df['y3'],\n",
        "    )\n",
        "    traceP4 = go.Scatter(\n",
        "        x=p_df['x'], y=p_df['y4'],\n",
        "        name=\"p = 4\",\n",
        "        marker=dict(color=\"lightblue\"),\n",
        "        mode = \"lines\",\n",
        "        text=p_df['y4'],\n",
        "    )\n",
        "    traceP5 = go.Scatter(\n",
        "        x=p_df['x'], y=p_df['y5'],\n",
        "        name=\"p = 5\",\n",
        "        marker=dict(color=\"darkblue\"),\n",
        "        mode = \"lines\",\n",
        "        text=p_df['y5'],\n",
        "    )\n",
        "\n",
        "    \n",
        "    data = [traceA, traceP3]\n",
        "\n",
        "    layout = dict(title = 'Active cases and polynomial (p=3) curve projection (for +2 weeks)',\n",
        "          xaxis = dict(title = 'Day since first case', showticklabels=True), \n",
        "          yaxis = dict(title = 'Number of active cases'),plot_bgcolor='rgb(275, 270, 273)',\n",
        "          hovermode = 'closest'\n",
        "         )\n",
        "    fig = dict(data=data, layout=layout)\n",
        "    iplot(fig, filename='covid-polinomial-projection')\n",
        "plot_polinomial_fit_data(d_df)"
      ],
      "execution_count": null,
      "outputs": []
    },
    {
      "cell_type": "code",
      "metadata": {
        "_kg_hide-input": true,
        "trusted": true,
        "id": "4xTzPEz-KoTi"
      },
      "source": [
        "test1 = test1.fillna(0)\n",
        "test2 = test1.copy()\n",
        "test2['cases_per_tests'] = np.round(test2['perday_tests'] / test2['perday_positive'] * 100, 2)\n",
        "data_daily_df = test2.replace([np.inf, -np.inf], np.nan).reset_index()\n",
        "d_df = data_daily_df.copy()"
      ],
      "execution_count": null,
      "outputs": []
    },
    {
      "cell_type": "code",
      "metadata": {
        "_kg_hide-input": true,
        "trusted": true,
        "id": "o08usLD-KoTi"
      },
      "source": [
        "\n",
        "from sklearn.linear_model import LinearRegression, BayesianRidge\n",
        "from sklearn.ensemble import RandomForestRegressor\n",
        "\n",
        "x = d_df[['index']]\n",
        "y = d_df['cases_per_tests']\n",
        "\n",
        "# Linear Regression\n",
        "model_LR = LinearRegression()\n",
        "model_LR.fit(x,y)\n",
        "y1_fit = model_LR.predict(x)\n",
        "\n",
        "# Bayesian Ridge Regression\n",
        "model_BR = BayesianRidge()\n",
        "model_BR.set_params(alpha_init=1.0, lambda_init=0.01)\n",
        "model_BR.fit(x, y)\n",
        "y2_fit = model_BR.predict(x)\n",
        "\n",
        "# Random Forest Regression\n",
        "model_RF = RandomForestRegressor(max_depth = 5, n_estimators=10)\n",
        "model_RF.fit(x,y)\n",
        "y3_fit = model_RF.predict(x)\n",
        "\n",
        "traceCPTR = go.Scatter(\n",
        "    x = d_df['day'],y = d_df['cases_per_tests'],\n",
        "    name='Positives tests %',\n",
        "    marker=dict(color='Magenta'),\n",
        "    mode = \"markers\",\n",
        "    text = d_df['cases_per_tests']\n",
        ")\n",
        "\n",
        "traceLReg = go.Scatter(\n",
        "    x = d_df['day'],y = y1_fit,\n",
        "    name='Linear Regression',\n",
        "    marker=dict(color='Red'),\n",
        "    mode = \"lines\",\n",
        "    text = d_df['cases_per_tests']\n",
        ")\n",
        "\n",
        "\n",
        "traceBRReg = go.Scatter(\n",
        "    x = d_df['day'],y = y2_fit,\n",
        "    name='Bayesian Ridge Regression',\n",
        "    marker=dict(color='Blue'),\n",
        "    mode = \"lines\",\n",
        "    text = d_df['cases_per_tests']\n",
        ")\n",
        "\n",
        "traceRFReg = go.Scatter(\n",
        "    x = d_df['day'],y = y3_fit,\n",
        "    name='RandomForest Regression',\n",
        "    marker=dict(color='Green'),\n",
        "    mode = \"lines\",\n",
        "    text = d_df['cases_per_tests']\n",
        ")\n",
        "\n",
        "data = [traceCPTR, traceLReg, traceBRReg, traceRFReg]\n",
        "layout = dict(title = 'Percent of positive tests / day (values and regression lines)',\n",
        "          xaxis = dict(title = 'Date', showticklabels=True), \n",
        "          yaxis = dict(title = 'Percent of positive tests / day'),plot_bgcolor='rgb(275, 270, 273)',\n",
        "          hovermode = 'closest'\n",
        "         )\n",
        "fig = dict(data=data, layout=layout)\n",
        "iplot(fig, filename='cases-covid19')\n",
        "\n"
      ],
      "execution_count": null,
      "outputs": []
    },
    {
      "cell_type": "markdown",
      "metadata": {
        "id": "KPYsh6gOKoTi"
      },
      "source": [
        "## Forecasting with Prophet (Baseline)\n",
        "\n",
        "Perfoming two week's ahead forecast with Prophet, with prediction intervals."
      ]
    },
    {
      "cell_type": "markdown",
      "metadata": {
        "id": "g05qZl-mKoTi"
      },
      "source": [
        "**Forecasting Confirmed cases with Prophet (Baseline)\n",
        "**"
      ]
    },
    {
      "cell_type": "code",
      "metadata": {
        "_kg_hide-input": true,
        "trusted": true,
        "id": "JWhYrQJTKoTj"
      },
      "source": [
        "cnf = date_wise_data.copy()\n",
        "Confirmed = cnf[['Date','Confirmed']]\n",
        "Confirmed = df.groupby('Date').sum()['Confirmed'].reset_index()\n",
        "Confirmed.columns = ['ds','y']\n",
        "Confirmed['ds'] = pd.to_datetime(Confirmed['ds'])\n",
        "dth = date_wise_data.copy()\n",
        "deaths = dth[['Date','Deaths']]\n",
        "deaths = df.groupby('Date').sum()['Deaths'].reset_index()\n",
        "deaths.columns = ['ds','y']\n",
        "deaths['ds'] = pd.to_datetime(deaths['ds'])"
      ],
      "execution_count": null,
      "outputs": []
    },
    {
      "cell_type": "code",
      "metadata": {
        "_kg_hide-input": true,
        "trusted": true,
        "id": "pb73XBUiKoTj"
      },
      "source": [
        "from fbprophet import Prophet\n",
        "from fbprophet.plot import plot_plotly"
      ],
      "execution_count": null,
      "outputs": []
    },
    {
      "cell_type": "code",
      "metadata": {
        "_kg_hide-input": true,
        "trusted": true,
        "id": "Z8Y12ouFKoTj"
      },
      "source": [
        "m= Prophet(interval_width=0.99)\n",
        "m.fit(Confirmed)\n",
        "future = m.make_future_dataframe(periods=14)\n",
        "future_confirmed = future.copy() # for non-baseline predictions later on\n",
        "forecast = m.predict(future)\n",
        "forecast = forecast[['ds', 'yhat', 'yhat_lower', 'yhat_upper']]"
      ],
      "execution_count": null,
      "outputs": []
    },
    {
      "cell_type": "code",
      "metadata": {
        "_kg_hide-input": true,
        "trusted": true,
        "id": "2ioW8efNKoTj"
      },
      "source": [
        "fig = plot_plotly(m, forecast)\n",
        "fig.update_layout(title_text = 'Confirmed cases Prediction using prophet')\n",
        "fig.update_layout(plot_bgcolor='rgb(275, 270, 273)',width=600, height=600)\n",
        "py.iplot(fig) "
      ],
      "execution_count": null,
      "outputs": []
    },
    {
      "cell_type": "code",
      "metadata": {
        "_kg_hide-input": true,
        "trusted": true,
        "id": "oy620OstKoTj"
      },
      "source": [
        "fig = go.Figure()\n",
        "fig.add_trace(go.Scatter(x=date_wise_data['Date'], y=date_wise_data['Confirmed'],\n",
        "                    mode='lines+markers',marker_color='blue',name='Actual'))\n",
        "fig.add_trace(go.Scatter(x=forecast['ds'], y=forecast['yhat_upper'],\n",
        "                    mode='lines',marker_color='Orange',name='Predicted'))\n",
        "fig.update_layout(title_text = 'Confirmed cases Predicted vs Actual using prophet')\n",
        "fig.update_layout(plot_bgcolor='rgb(275, 270, 273)',width=600, height=600)\n",
        "fig.show()"
      ],
      "execution_count": null,
      "outputs": []
    },
    {
      "cell_type": "markdown",
      "metadata": {
        "id": "4v3tCOEkKoTk"
      },
      "source": [
        "**Forecasting Deaths with Prophet (Baseline)\n",
        "**"
      ]
    },
    {
      "cell_type": "code",
      "metadata": {
        "_kg_hide-input": true,
        "trusted": true,
        "id": "VpWKj7wKKoTk"
      },
      "source": [
        "md= Prophet(interval_width=0.99)\n",
        "md.fit(deaths)\n",
        "futured = md.make_future_dataframe(periods=14)\n",
        "future_confirmed = futured.copy()\n",
        "forecastd = md.predict(futured)\n",
        "forecastd = forecastd[['ds', 'yhat', 'yhat_lower', 'yhat_upper']]"
      ],
      "execution_count": null,
      "outputs": []
    },
    {
      "cell_type": "code",
      "metadata": {
        "_kg_hide-input": true,
        "trusted": true,
        "id": "53nEd5OpKoTk"
      },
      "source": [
        "fig = plot_plotly(md, forecastd)\n",
        "fig.update_layout(title_text = 'Deaths Prediction using prophet')\n",
        "fig.update_layout(plot_bgcolor='rgb(275, 270, 273)',width=600, height=600)\n",
        "py.iplot(fig) "
      ],
      "execution_count": null,
      "outputs": []
    },
    {
      "cell_type": "code",
      "metadata": {
        "_kg_hide-input": true,
        "trusted": true,
        "id": "coZpDxTrKoTk"
      },
      "source": [
        "fig = go.Figure()\n",
        "fig.add_trace(go.Scatter(x=date_wise_data['Date'], y=date_wise_data['Deaths'],\n",
        "                    mode='lines+markers',marker_color='blue',name='Actual'))\n",
        "fig.add_trace(go.Scatter(x=forecastd['ds'], y=forecastd['yhat_upper'],\n",
        "                    mode='lines',marker_color='red',name='Predicted'))\n",
        "fig.update_layout(title_text = 'Deaths Predicted vs Actual using prophet')\n",
        "fig.update_layout(plot_bgcolor='rgb(275, 270, 273)',width=600, height=600)\n",
        "fig.show()"
      ],
      "execution_count": null,
      "outputs": []
    },
    {
      "cell_type": "markdown",
      "metadata": {
        "id": "97Y-DIp8KoTk"
      },
      "source": [
        "# Together We can do this.\n",
        "\n",
        "![](https://thespinoff.co.nz/wp-content/uploads/2020/03/Covid-19-curves-graphic-social-v3.gif)"
      ]
    },
    {
      "cell_type": "markdown",
      "metadata": {
        "id": "owJcinRXKoTl"
      },
      "source": [
        "**Note: This work is highly inspired from few other kaggle kernels , github sources and other data science resources. Any traces of replications, which may appear , is purely co-incidental. Due respect & credit to all my fellow kagglers.**\n",
        "\n",
        "prediction code courtesy : [Gabriel Preda](https://www.kaggle.com/gpreda/sars-ncov-2-in-romania)"
      ]
    }
  ]
}