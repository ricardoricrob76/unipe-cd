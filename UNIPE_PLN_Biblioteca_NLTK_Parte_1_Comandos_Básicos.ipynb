{
  "nbformat": 4,
  "nbformat_minor": 0,
  "metadata": {
    "colab": {
      "name": "UNIPE - PLN - Biblioteca NLTK - Parte 1 - Comandos Básicos.ipynb",
      "provenance": [],
      "collapsed_sections": [],
      "authorship_tag": "ABX9TyMca+L0SxPM0Pze09H26Z5Q",
      "include_colab_link": true
    },
    "kernelspec": {
      "name": "python3",
      "display_name": "Python 3"
    },
    "language_info": {
      "name": "python"
    }
  },
  "cells": [
    {
      "cell_type": "markdown",
      "metadata": {
        "id": "view-in-github",
        "colab_type": "text"
      },
      "source": [
        "<a href=\"https://colab.research.google.com/github/ricardoricrob76/unipe-cd/blob/main/UNIPE_PLN_Biblioteca_NLTK_Parte_1_Comandos_B%C3%A1sicos.ipynb\" target=\"_parent\"><img src=\"https://colab.research.google.com/assets/colab-badge.svg\" alt=\"Open In Colab\"/></a>"
      ]
    },
    {
      "cell_type": "code",
      "metadata": {
        "id": "DRK4zgQPC3tf"
      },
      "source": [
        "# Processamento de Linguagem Natural com Python e NLTK\n",
        "# Autor: Ricardo Roberto de Lima - Identificação de Dados para Manipulação de Objetos.\n",
        "# Data: 30/11/2021 - 19:53h"
      ],
      "execution_count": 1,
      "outputs": []
    },
    {
      "cell_type": "code",
      "metadata": {
        "id": "hzA9bhz9DUeT"
      },
      "source": [
        "import nltk\n",
        "import numpy as np\n",
        "#nltk.download()"
      ],
      "execution_count": 4,
      "outputs": []
    },
    {
      "cell_type": "code",
      "metadata": {
        "id": "tlbbBWIaE3Md"
      },
      "source": [
        "# Exemplo do Texto para Validação.\n",
        "Texto = 'A Secretaria de Estado da Saúde de São Paulo e o Instituto Adolfo Lutz confirmaram hoje os dois primeiros casos importados da nova variante ômicron do coronavírus no Brasil. Ambos os casos aconteceram em um casal brasileiro que veio da África do Sul e desembarcou no aeroporto internacional de Guarulhos no dia 23 de novembro. Segundo a secretaria, os dois não possuem registros de vacinação na plataforma estadual VaciVida.... - Veja mais em https://noticias.uol.com.br/saude/ultimas-noticias/redacao/2021/11/30/casos-omicron-brasil-covid-19.htm?cmpid=copiaecola'"
      ],
      "execution_count": 5,
      "outputs": []
    },
    {
      "cell_type": "code",
      "metadata": {
        "colab": {
          "base_uri": "https://localhost:8080/"
        },
        "id": "1R1VMhyCF-q0",
        "outputId": "ca3f69f4-309d-41d8-d8da-ddd69d1411c3"
      },
      "source": [
        "#Texto = 'estou contente com o resultado do teste que fiz no dia de ontem - Comando Slit para separa as palavras'\n",
        "print(Texto.split('.'))"
      ],
      "execution_count": 6,
      "outputs": [
        {
          "output_type": "stream",
          "name": "stdout",
          "text": [
            "['A Secretaria de Estado da Saúde de São Paulo e o Instituto Adolfo Lutz confirmaram hoje os dois primeiros casos importados da nova variante ômicron do coronavírus no Brasil', ' Ambos os casos aconteceram em um casal brasileiro que veio da África do Sul e desembarcou no aeroporto internacional de Guarulhos no dia 23 de novembro', ' Segundo a secretaria, os dois não possuem registros de vacinação na plataforma estadual VaciVida', '', '', '', ' - Veja mais em https://noticias', 'uol', 'com', 'br/saude/ultimas-noticias/redacao/2021/11/30/casos-omicron-brasil-covid-19', 'htm?cmpid=copiaecola']\n"
          ]
        }
      ]
    },
    {
      "cell_type": "code",
      "metadata": {
        "colab": {
          "base_uri": "https://localhost:8080/"
        },
        "id": "fOaVNhEZGpzt",
        "outputId": "7c0fa1f8-50cd-4ea3-ac6e-e5a312c7b013"
      },
      "source": [
        "# O tokenize tem como função..Separar os blocos de parágrafos de acordo com a semântica\n",
        "Frases = nltk.tokenize.sent_tokenize(Texto)\n",
        "print(Frases)"
      ],
      "execution_count": 7,
      "outputs": [
        {
          "output_type": "stream",
          "name": "stdout",
          "text": [
            "['A Secretaria de Estado da Saúde de São Paulo e o Instituto Adolfo Lutz confirmaram hoje os dois primeiros casos importados da nova variante ômicron do coronavírus no Brasil.', 'Ambos os casos aconteceram em um casal brasileiro que veio da África do Sul e desembarcou no aeroporto internacional de Guarulhos no dia 23 de novembro.', 'Segundo a secretaria, os dois não possuem registros de vacinação na plataforma estadual VaciVida.... - Veja mais em https://noticias.uol.com.br/saude/ultimas-noticias/redacao/2021/11/30/casos-omicron-brasil-covid-19.htm?cmpid=copiaecola']\n"
          ]
        }
      ]
    },
    {
      "cell_type": "code",
      "metadata": {
        "colab": {
          "base_uri": "https://localhost:8080/"
        },
        "id": "H7_Y0hrBHDNc",
        "outputId": "50f32f5d-122a-4b60-c86b-df70b02387ae"
      },
      "source": [
        "# O comando word_tokenize faz a quebra dos blocos em palavras e separa cada uma delas de acordo com seu tipo.\n",
        "tokens = nltk.word_tokenize(Texto)\n",
        "print(tokens)"
      ],
      "execution_count": 8,
      "outputs": [
        {
          "output_type": "stream",
          "name": "stdout",
          "text": [
            "['A', 'Secretaria', 'de', 'Estado', 'da', 'Saúde', 'de', 'São', 'Paulo', 'e', 'o', 'Instituto', 'Adolfo', 'Lutz', 'confirmaram', 'hoje', 'os', 'dois', 'primeiros', 'casos', 'importados', 'da', 'nova', 'variante', 'ômicron', 'do', 'coronavírus', 'no', 'Brasil', '.', 'Ambos', 'os', 'casos', 'aconteceram', 'em', 'um', 'casal', 'brasileiro', 'que', 'veio', 'da', 'África', 'do', 'Sul', 'e', 'desembarcou', 'no', 'aeroporto', 'internacional', 'de', 'Guarulhos', 'no', 'dia', '23', 'de', 'novembro', '.', 'Segundo', 'a', 'secretaria', ',', 'os', 'dois', 'não', 'possuem', 'registros', 'de', 'vacinação', 'na', 'plataforma', 'estadual', 'VaciVida', '...', '.', '-', 'Veja', 'mais', 'em', 'https', ':', '//noticias.uol.com.br/saude/ultimas-noticias/redacao/2021/11/30/casos-omicron-brasil-covid-19.htm', '?', 'cmpid=copiaecola']\n"
          ]
        }
      ]
    },
    {
      "cell_type": "code",
      "metadata": {
        "colab": {
          "base_uri": "https://localhost:8080/"
        },
        "id": "v7gr1YH0HsYa",
        "outputId": "018f47c7-158c-4f74-ea28-dd9eda0641bc"
      },
      "source": [
        "# O método pos_tag identifica cada palavra e seleciona o seu tipo de acordo com a gramática exemplo, adjetivo, verbo, substantitivo, etc.\n",
        "classes = nltk.pos_tag(tokens)\n",
        "print(classes)"
      ],
      "execution_count": 9,
      "outputs": [
        {
          "output_type": "stream",
          "name": "stdout",
          "text": [
            "[('A', 'DT'), ('Secretaria', 'NNP'), ('de', 'FW'), ('Estado', 'NNP'), ('da', 'NN'), ('Saúde', 'NNP'), ('de', 'IN'), ('São', 'NNP'), ('Paulo', 'NNP'), ('e', 'NN'), ('o', 'JJ'), ('Instituto', 'NNP'), ('Adolfo', 'NNP'), ('Lutz', 'NNP'), ('confirmaram', 'NN'), ('hoje', 'NN'), ('os', 'NN'), ('dois', 'NN'), ('primeiros', 'NNS'), ('casos', 'VBP'), ('importados', 'JJ'), ('da', 'NN'), ('nova', 'NN'), ('variante', 'NN'), ('ômicron', 'NNP'), ('do', 'VBP'), ('coronavírus', 'VB'), ('no', 'DT'), ('Brasil', 'NNP'), ('.', '.'), ('Ambos', 'NNP'), ('os', 'JJ'), ('casos', 'NN'), ('aconteceram', 'NN'), ('em', 'NN'), ('um', 'JJ'), ('casal', 'NN'), ('brasileiro', 'NN'), ('que', 'NN'), ('veio', 'NN'), ('da', 'NN'), ('África', 'NN'), ('do', 'VBP'), ('Sul', 'NNP'), ('e', 'VB'), ('desembarcou', 'JJ'), ('no', 'DT'), ('aeroporto', 'JJ'), ('internacional', 'JJ'), ('de', 'FW'), ('Guarulhos', 'NNP'), ('no', 'DT'), ('dia', 'NN'), ('23', 'CD'), ('de', 'IN'), ('novembro', 'FW'), ('.', '.'), ('Segundo', 'VB'), ('a', 'DT'), ('secretaria', 'NN'), (',', ','), ('os', 'JJ'), ('dois', 'NN'), ('não', 'JJ'), ('possuem', 'NN'), ('registros', 'NN'), ('de', 'IN'), ('vacinação', 'FW'), ('na', 'FW'), ('plataforma', 'FW'), ('estadual', 'JJ'), ('VaciVida', 'NNP'), ('...', ':'), ('.', '.'), ('-', ':'), ('Veja', 'NNP'), ('mais', 'NN'), ('em', 'NN'), ('https', 'NN'), (':', ':'), ('//noticias.uol.com.br/saude/ultimas-noticias/redacao/2021/11/30/casos-omicron-brasil-covid-19.htm', 'JJ'), ('?', '.'), ('cmpid=copiaecola', 'NN')]\n"
          ]
        }
      ]
    },
    {
      "cell_type": "code",
      "metadata": {
        "colab": {
          "base_uri": "https://localhost:8080/"
        },
        "id": "KhDRblqRIxU_",
        "outputId": "c776b001-6075-4cb4-f36b-4d56f720bb84"
      },
      "source": [
        "# O método chunk.ne_chunk tem como base identificar as palavras classificando-as como Entidades.\n",
        "entidades = nltk.chunk.ne_chunk(classes)\n",
        "print(entidades)"
      ],
      "execution_count": 10,
      "outputs": [
        {
          "output_type": "stream",
          "name": "stdout",
          "text": [
            "(S\n",
            "  A/DT\n",
            "  (ORGANIZATION Secretaria/NNP)\n",
            "  de/FW\n",
            "  (GPE Estado/NNP)\n",
            "  da/NN\n",
            "  (PERSON Saúde/NNP)\n",
            "  de/IN\n",
            "  (PERSON São/NNP Paulo/NNP)\n",
            "  e/NN\n",
            "  o/JJ\n",
            "  Instituto/NNP\n",
            "  (PERSON Adolfo/NNP Lutz/NNP)\n",
            "  confirmaram/NN\n",
            "  hoje/NN\n",
            "  os/NN\n",
            "  dois/NN\n",
            "  primeiros/NNS\n",
            "  casos/VBP\n",
            "  importados/JJ\n",
            "  da/NN\n",
            "  nova/NN\n",
            "  variante/NN\n",
            "  ômicron/NNP\n",
            "  do/VBP\n",
            "  coronavírus/VB\n",
            "  no/DT\n",
            "  Brasil/NNP\n",
            "  ./.\n",
            "  (PERSON Ambos/NNP)\n",
            "  os/JJ\n",
            "  casos/NN\n",
            "  aconteceram/NN\n",
            "  em/NN\n",
            "  um/JJ\n",
            "  casal/NN\n",
            "  brasileiro/NN\n",
            "  que/NN\n",
            "  veio/NN\n",
            "  da/NN\n",
            "  África/NN\n",
            "  do/VBP\n",
            "  (PERSON Sul/NNP)\n",
            "  e/VB\n",
            "  desembarcou/JJ\n",
            "  no/DT\n",
            "  aeroporto/JJ\n",
            "  internacional/JJ\n",
            "  de/FW\n",
            "  Guarulhos/NNP\n",
            "  no/DT\n",
            "  dia/NN\n",
            "  23/CD\n",
            "  de/IN\n",
            "  novembro/FW\n",
            "  ./.\n",
            "  Segundo/VB\n",
            "  a/DT\n",
            "  secretaria/NN\n",
            "  ,/,\n",
            "  os/JJ\n",
            "  dois/NN\n",
            "  não/JJ\n",
            "  possuem/NN\n",
            "  registros/NN\n",
            "  de/IN\n",
            "  vacinação/FW\n",
            "  na/FW\n",
            "  plataforma/FW\n",
            "  estadual/JJ\n",
            "  (ORGANIZATION VaciVida/NNP)\n",
            "  .../:\n",
            "  ./.\n",
            "  -/:\n",
            "  (GPE Veja/NNP)\n",
            "  mais/NN\n",
            "  em/NN\n",
            "  https/NN\n",
            "  :/:\n",
            "  //noticias.uol.com.br/saude/ultimas-noticias/redacao/2021/11/30/casos-omicron-brasil-covid-19.htm/JJ\n",
            "  ?/.\n",
            "  cmpid=copiaecola/NN)\n"
          ]
        }
      ]
    },
    {
      "cell_type": "code",
      "metadata": {
        "id": "r_1Qp2kOJJHT"
      },
      "source": [
        "# Fim da primeira Etapa.."
      ],
      "execution_count": null,
      "outputs": []
    }
  ]
}