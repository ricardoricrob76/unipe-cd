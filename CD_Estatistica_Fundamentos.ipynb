{
  "cells": [
    {
      "cell_type": "markdown",
      "metadata": {
        "id": "view-in-github",
        "colab_type": "text"
      },
      "source": [
        "<a href=\"https://colab.research.google.com/github/ricardoricrob76/unipe-cd/blob/main/CD_Estatistica_Fundamentos.ipynb\" target=\"_parent\"><img src=\"https://colab.research.google.com/assets/colab-badge.svg\" alt=\"Open In Colab\"/></a>"
      ]
    },
    {
      "cell_type": "markdown",
      "metadata": {
        "id": "Agxu6HANmMju"
      },
      "source": [
        "# Estatística - Fundamentos"
      ]
    },
    {
      "cell_type": "markdown",
      "metadata": {
        "id": "B88cLwmRmMjz"
      },
      "source": [
        "* Implementando cálculos estatísticos fundamentais do zero\n",
        "* @ricardoricrob\n",
        "* Prof. MSc. Ricardo Roberto de Lima\n",
        "* ricardorobertolima@gmail.com"
      ]
    },
    {
      "cell_type": "code",
      "execution_count": null,
      "metadata": {
        "id": "CS5Yi-KnmMj0"
      },
      "outputs": [],
      "source": [
        "notas = [7.8,4.6,8.5,9.8,4.3,7.5,2.3,0.5,8.7,7.9,5.2,4.7,9.1,7.9,8.6,7.4,6.7,7.0]"
      ]
    },
    {
      "cell_type": "markdown",
      "metadata": {
        "id": "aQ4QDslQmMj2"
      },
      "source": [
        "Determinando a quantidade de notas"
      ]
    },
    {
      "cell_type": "code",
      "execution_count": null,
      "metadata": {
        "id": "qffsamdsmMj2",
        "outputId": "2b4dc8dd-f07b-42b1-bd8d-48d60d13f441"
      },
      "outputs": [
        {
          "name": "stdout",
          "output_type": "stream",
          "text": [
            "Número de notas = 18\n"
          ]
        }
      ],
      "source": [
        "numero_de_notas = len(notas)\n",
        "print(\"Número de notas = {:0.0f}\".format(numero_de_notas))"
      ]
    },
    {
      "cell_type": "markdown",
      "metadata": {
        "id": "OISXNMq-mMj4"
      },
      "source": [
        "Determinando a média"
      ]
    },
    {
      "cell_type": "code",
      "execution_count": null,
      "metadata": {
        "id": "zLLyNdeymMj4",
        "outputId": "ef3056c2-1947-413a-ebaf-265053dfc473"
      },
      "outputs": [
        {
          "name": "stdout",
          "output_type": "stream",
          "text": [
            "Soma = 118\n"
          ]
        }
      ],
      "source": [
        "soma = 0\n",
        "\n",
        "for i in range(numero_de_notas):\n",
        "    soma += notas[i]\n",
        "\n",
        "print(\"Soma = {:0.0f}\".format(soma))"
      ]
    },
    {
      "cell_type": "code",
      "execution_count": null,
      "metadata": {
        "id": "_BoVp4HbmMj5",
        "outputId": "4796d6fb-ba25-4cbf-e934-755a1a1bbab2"
      },
      "outputs": [
        {
          "name": "stdout",
          "output_type": "stream",
          "text": [
            "Média = 6.58\n"
          ]
        }
      ],
      "source": [
        "media = soma/numero_de_notas\n",
        "print(\"Média = {:0.2f}\".format(media))"
      ]
    },
    {
      "cell_type": "markdown",
      "metadata": {
        "id": "f6G9XYkwmMj6"
      },
      "source": [
        "Ordenando as notas em ordem crescente"
      ]
    },
    {
      "cell_type": "code",
      "execution_count": null,
      "metadata": {
        "id": "0Us3qayrmMj7"
      },
      "outputs": [],
      "source": [
        "notas_ordenadas = sorted(notas)"
      ]
    },
    {
      "cell_type": "code",
      "execution_count": null,
      "metadata": {
        "id": "aOhh9PITmMj7",
        "outputId": "69bb2b31-0745-4d6e-9fa5-5b92eacfe473"
      },
      "outputs": [
        {
          "data": {
            "text/plain": [
              "[0.5,\n",
              " 2.3,\n",
              " 4.3,\n",
              " 4.6,\n",
              " 4.7,\n",
              " 5.2,\n",
              " 6.7,\n",
              " 7.0,\n",
              " 7.4,\n",
              " 7.5,\n",
              " 7.8,\n",
              " 7.9,\n",
              " 7.9,\n",
              " 8.5,\n",
              " 8.6,\n",
              " 8.7,\n",
              " 9.1,\n",
              " 9.8]"
            ]
          },
          "execution_count": 6,
          "metadata": {},
          "output_type": "execute_result"
        }
      ],
      "source": [
        "notas_ordenadas"
      ]
    },
    {
      "cell_type": "markdown",
      "metadata": {
        "id": "o_qkkX6qmMj8"
      },
      "source": [
        "Determinando a mediana"
      ]
    },
    {
      "cell_type": "code",
      "execution_count": null,
      "metadata": {
        "id": "QL6lAXCpmMj8"
      },
      "outputs": [],
      "source": [
        "if numero_de_notas%2 ==0:\n",
        "    mediana = (notas_ordenadas[int(numero_de_notas/2)]+notas_ordenadas[int(numero_de_notas/2-1)])/2.0\n",
        "else:\n",
        "    mediana = notas_ordenadas[int(numero_de_notas/2)]"
      ]
    },
    {
      "cell_type": "code",
      "execution_count": null,
      "metadata": {
        "id": "SHnPy6JqmMj9",
        "outputId": "211595ff-e0e2-4b96-d45f-9136c0a31184"
      },
      "outputs": [
        {
          "name": "stdout",
          "output_type": "stream",
          "text": [
            "Mediana = 7.45\n"
          ]
        }
      ],
      "source": [
        "print(\"Mediana = {:0.2f}\".format(mediana))"
      ]
    },
    {
      "cell_type": "markdown",
      "metadata": {
        "id": "suR5OzzVmMj9"
      },
      "source": [
        "Determinando o desvio padrão"
      ]
    },
    {
      "cell_type": "code",
      "execution_count": null,
      "metadata": {
        "id": "XW3LDay8mMj-"
      },
      "outputs": [],
      "source": [
        "soma_erro = 0\n",
        "\n",
        "for i in range(numero_de_notas):\n",
        "    soma_erro += (notas[i]-media)**2.0"
      ]
    },
    {
      "cell_type": "code",
      "execution_count": null,
      "metadata": {
        "id": "-hGuDbRZmMj-"
      },
      "outputs": [],
      "source": [
        "desvio = (soma_erro/(numero_de_notas))**(0.5)"
      ]
    },
    {
      "cell_type": "code",
      "execution_count": null,
      "metadata": {
        "id": "rf2SBTdSmMj-",
        "outputId": "6de5cd49-0057-4680-97f8-063a135e16e6"
      },
      "outputs": [
        {
          "name": "stdout",
          "output_type": "stream",
          "text": [
            "Desvio Padrão = 2.42\n"
          ]
        }
      ],
      "source": [
        "print(\"Desvio Padrão = {:0.2f}\".format(desvio))"
      ]
    },
    {
      "cell_type": "markdown",
      "metadata": {
        "id": "AOFcG5lamMj_"
      },
      "source": [
        "Erro Padrão da média"
      ]
    },
    {
      "cell_type": "code",
      "execution_count": null,
      "metadata": {
        "id": "yG5Mx4ODmMj_"
      },
      "outputs": [],
      "source": [
        "SE = desvio/(numero_de_notas**0.5)"
      ]
    },
    {
      "cell_type": "code",
      "execution_count": null,
      "metadata": {
        "id": "oMe97uXmmMj_",
        "outputId": "6de7b67a-edd4-4502-f387-2adaddf20ca8"
      },
      "outputs": [
        {
          "name": "stdout",
          "output_type": "stream",
          "text": [
            "Erro padrão da média = 0.57\n"
          ]
        }
      ],
      "source": [
        "print(\"Erro padrão da média = {:0.2f}\".format(SE))"
      ]
    }
  ],
  "metadata": {
    "kernelspec": {
      "display_name": "Python 3",
      "language": "python",
      "name": "python3"
    },
    "language_info": {
      "codemirror_mode": {
        "name": "ipython",
        "version": 3
      },
      "file_extension": ".py",
      "mimetype": "text/x-python",
      "name": "python",
      "nbconvert_exporter": "python",
      "pygments_lexer": "ipython3",
      "version": "3.7.6"
    },
    "colab": {
      "name": "CD_Estatistica_Fundamentos.ipynb",
      "provenance": [],
      "include_colab_link": true
    }
  },
  "nbformat": 4,
  "nbformat_minor": 0
}