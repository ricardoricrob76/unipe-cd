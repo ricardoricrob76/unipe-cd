{
  "nbformat": 4,
  "nbformat_minor": 0,
  "metadata": {
    "colab": {
      "name": "Aula-01-InteligenciaArtificial.ipynb",
      "provenance": [],
      "authorship_tag": "ABX9TyMJOwqFKoC5T/g5fYiBCz3d",
      "include_colab_link": true
    },
    "kernelspec": {
      "name": "python3",
      "display_name": "Python 3"
    },
    "language_info": {
      "name": "python"
    }
  },
  "cells": [
    {
      "cell_type": "markdown",
      "metadata": {
        "id": "view-in-github",
        "colab_type": "text"
      },
      "source": [
        "<a href=\"https://colab.research.google.com/github/ricardoricrob76/unipe-cd/blob/main/Aula_01_InteligenciaArtificial.ipynb\" target=\"_parent\"><img src=\"https://colab.research.google.com/assets/colab-badge.svg\" alt=\"Open In Colab\"/></a>"
      ]
    },
    {
      "cell_type": "markdown",
      "source": [
        "## [**Primeiros Passos do Tratamento de Dados na Nuvem - Autor: Ricardo Roberto de Lima**](www.uol.com.br)"
      ],
      "metadata": {
        "id": "QqWFGktvCWaA"
      }
    },
    {
      "cell_type": "code",
      "source": [
        "a = 10\n",
        "b = 40\n",
        "c = (a + b)\n",
        "print('O valor Total é',c)"
      ],
      "metadata": {
        "colab": {
          "base_uri": "https://localhost:8080/"
        },
        "id": "xWtD2TqDCwBC",
        "outputId": "579a0f76-203c-4c17-d39f-9b348b5affb4"
      },
      "execution_count": 1,
      "outputs": [
        {
          "output_type": "stream",
          "name": "stdout",
          "text": [
            "O valor Total é 50\n"
          ]
        }
      ]
    },
    {
      "cell_type": "code",
      "source": [
        ""
      ],
      "metadata": {
        "id": "yUAoqUT6C-uR"
      },
      "execution_count": null,
      "outputs": []
    }
  ]
}